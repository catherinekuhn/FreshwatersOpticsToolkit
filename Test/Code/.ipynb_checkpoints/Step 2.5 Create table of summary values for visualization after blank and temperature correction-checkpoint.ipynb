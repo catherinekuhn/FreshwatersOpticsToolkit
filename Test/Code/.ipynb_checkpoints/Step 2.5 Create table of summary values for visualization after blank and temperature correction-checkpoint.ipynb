{
 "cells": [
  {
   "cell_type": "code",
   "execution_count": 2,
   "metadata": {
    "collapsed": false,
    "deletable": true,
    "editable": true
   },
   "outputs": [
    {
     "name": "stdout",
     "output_type": "stream",
     "text": [
      "get_id\n",
      "make_dir\n",
      "plotting_multiple_files\n"
     ]
    }
   ],
   "source": [
    "import pandas as pd\n",
    "import inspect\n",
    "from fopt_toolkit import fopt_toolkit as fp\n",
    "for i in inspect.getmembers(fp, inspect.isfunction):\n",
    "    print i[0]"
   ]
  },
  {
   "cell_type": "code",
   "execution_count": 3,
   "metadata": {
    "collapsed": true,
    "deletable": true,
    "editable": true
   },
   "outputs": [],
   "source": [
    "metadata_updated = pd.read_csv('../Metadata/project_metadata_updated.csv', dtype={'Date': object, 'Rep':object}, skiprows=0, delimiter= '\\t')"
   ]
  },
  {
   "cell_type": "code",
   "execution_count": 15,
   "metadata": {
    "collapsed": false,
    "deletable": true,
    "editable": true
   },
   "outputs": [],
   "source": [
    "list_of_dfs = []\n",
    "for index, row in metadata_updated.iterrows():\n",
    "    ID, File, Site, Sample_Type, Analysis_Type, Date, Rep, Temp = row['ID'], row['Summary_file_path'], row['Site'], row['Sample_Type'],row['Analysis_Type'], row['Date'], row['Rep'], row['Temp']\n",
    "    df = pd.read_csv(File, skiprows = 0, delimiter= '\\t')         \n",
    "    df.reset_index(inplace=True, drop=False)\n",
    "    df.rename(columns = {'c_mean':'mean', 'a_mean':'mean', 'c_std':'std','a_std':'std'}, inplace = True)\n",
    "    df = df[['wl','mean']]\n",
    "    df['Temp'] = Temp\n",
    "    df['ID'] = ID\n",
    "    df['Site'] = Site\n",
    "    df['Sample_Type'] = Sample_Type\n",
    "    df['Analysis_Type'] = Analysis_Type\n",
    "    df['Date'] = Date\n",
    "    df['Rep'] = Rep\n",
    "    list_of_dfs.append(df)"
   ]
  },
  {
   "cell_type": "code",
   "execution_count": 17,
   "metadata": {
    "collapsed": false,
    "deletable": true,
    "editable": true
   },
   "outputs": [],
   "source": [
    "all_data = pd.concat(list_of_dfs)"
   ]
  },
  {
   "cell_type": "code",
   "execution_count": 19,
   "metadata": {
    "collapsed": true,
    "deletable": true,
    "editable": true
   },
   "outputs": [],
   "source": [
    "new_filepath = fp.make_dir('Data/2_0_summary_stats_single_file/')"
   ]
  },
  {
   "cell_type": "code",
   "execution_count": 21,
   "metadata": {
    "collapsed": false,
    "deletable": true,
    "editable": true
   },
   "outputs": [],
   "source": [
    "all_data.to_csv(new_filepath+'all_data.csv', sep=',',index=False)"
   ]
  }
 ],
 "metadata": {
  "kernelspec": {
   "display_name": "Python 2",
   "language": "python",
   "name": "python2"
  },
  "language_info": {
   "codemirror_mode": {
    "name": "ipython",
    "version": 2
   },
   "file_extension": ".py",
   "mimetype": "text/x-python",
   "name": "python",
   "nbconvert_exporter": "python",
   "pygments_lexer": "ipython2",
   "version": "2.7.9"
  }
 },
 "nbformat": 4,
 "nbformat_minor": 2
}
