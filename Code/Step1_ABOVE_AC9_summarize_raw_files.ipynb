{
 "cells": [
  {
   "cell_type": "markdown",
   "metadata": {
    "deletable": true,
    "editable": true
   },
   "source": [
    "# ABOVE | AC9 Data Processing\n",
    "***\n",
    "## Step 01 Read AC9 files\n",
    "***"
   ]
  },
  {
   "cell_type": "markdown",
   "metadata": {
    "deletable": true,
    "editable": true
   },
   "source": [
    "**Authors:** Catherine Kuhn and Elena Terzić and Anna Simpson\n",
    "**Last Updated:** August, 29th, 2018\n",
    "***"
   ]
  },
  {
   "cell_type": "markdown",
   "metadata": {
    "deletable": true,
    "editable": true
   },
   "source": [
    "This code reads in raw ac9 .dat files and parses sample information from the filename and header information inside the file. The output is a table of summary statistics formatted as a *.csv* file for each wavelength for each file. This code was built for a worflow in which a and c sides are sampled separately. File names should contain: date, site, rep, a or c side and water temperature. \n",
    "\n",
    "File names are formatted like ** AC9_dddddd_sit_sam_s_r_TXX_XX.dat** where:\n",
    "\n",
    "- **dddddd** = date (071718)\n",
    "- **sit** = three letter site code (fai)\n",
    "- **sam** = three letter sample type (cal, raw, fil) for calibration, raw water (unfiltered) or filtered (fil)\n",
    "- **r** = numbered replicate (1, 2, 3) \n",
    "- **TXX_X** = temperature in Celcius (T17_3)\n",
    "    \n",
    "**Ex:** AC9_071618_y17_raw_a_1_T17_6.dat\n",
    "\n"
   ]
  },
  {
   "cell_type": "markdown",
   "metadata": {
    "deletable": true,
    "editable": true
   },
   "source": [
    "### Load required packages"
   ]
  },
  {
   "cell_type": "code",
   "execution_count": 1,
   "metadata": {
    "collapsed": true,
    "deletable": true,
    "editable": true
   },
   "outputs": [],
   "source": [
    "### Import the required python libraries\n",
    "import numpy as np\n",
    "import pandas as pd\n",
    "pd.set_option('display.max_colwidth', -1)\n",
    "import matplotlib.pylab as plt\n",
    "import glob\n",
    "import os\n",
    "import sys\n",
    "import csv"
   ]
  },
  {
   "cell_type": "markdown",
   "metadata": {
    "deletable": true,
    "editable": true
   },
   "source": [
    "### Inputs"
   ]
  },
  {
   "cell_type": "code",
   "execution_count": 2,
   "metadata": {
    "collapsed": true,
    "deletable": true,
    "editable": true
   },
   "outputs": [],
   "source": [
    "### Define directory where raw data is located\n",
    "raw_data_directory = \"1_1_renamed_originals\"\n",
    "### New directory name to store summary data\n",
    "new_dir_name = '2_summary_stats'\n",
    "### Directory name to stored cleaned raw data if only parts of the time series should be used\n",
    "cleaned_raw_data_name = '1_2_cleaned_originals'\n",
    "## Name for original metadata file which will be retained for posterity\n",
    "metadata_original_name = 'project_metadata_original.csv'\n",
    "## Name for copy of original metadata file which we will add to later\n",
    "metadata_updated_name = 'project_metadata_updated.csv'"
   ]
  },
  {
   "cell_type": "markdown",
   "metadata": {
    "deletable": true,
    "editable": true
   },
   "source": [
    "### Create new file paths and directories for referencing inputs and storing output"
   ]
  },
  {
   "cell_type": "code",
   "execution_count": 3,
   "metadata": {
    "collapsed": false,
    "deletable": true,
    "editable": true
   },
   "outputs": [],
   "source": [
    "### Will be operating from Code directory - this gets parent directory path\n",
    "parent_directory = os.path.abspath('..')\n",
    "### Get path to raw data\n",
    "raw_data_file_path = parent_directory+'/Data/'+raw_data_directory\n",
    "### Get path to original metadata file that you will create for reference and not touch again\n",
    "metadata_original_filepath = parent_directory+'/Metadata/'+metadata_original_name\n",
    "### Get path to updatable metadata file that you will add to\n",
    "metadata_updated_filepath = parent_directory+'/Metadata/'+metadata_updated_name\n",
    "## Get full path name of new directory\n",
    "new_dir_path = os.path.abspath('..')+'/Data/'+new_dir_name\n",
    "cleaned_raw_data_path = os.path.abspath('..')+'/Data/'+cleaned_raw_data_name\n",
    "\n",
    "\n",
    "### Create metadata directory\n",
    "if not os.path.exists(parent_directory+'/Metadata'):\n",
    "    os.makedirs(parent_directory+'/Metadata')\n",
    "    \n",
    "## Get full path name of new directory\n",
    "new_dir_path = os.path.abspath('..')+'/Data/'+new_dir_name\n",
    "\n",
    "## Generate new directory if it doesn't already exist\n",
    "if not os.path.exists(new_dir_path):\n",
    "    os.makedirs(new_dir_path)\n",
    "    \n",
    "## Generate new directory if it doesn't already exist\n",
    "if not os.path.exists(cleaned_raw_data_path):\n",
    "    os.makedirs(cleaned_raw_data_path)"
   ]
  },
  {
   "cell_type": "markdown",
   "metadata": {
    "deletable": true,
    "editable": true
   },
   "source": [
    "## Create metadata csv"
   ]
  },
  {
   "cell_type": "code",
   "execution_count": 4,
   "metadata": {
    "collapsed": false,
    "deletable": true,
    "editable": true,
    "scrolled": true
   },
   "outputs": [],
   "source": [
    "basenames = []\n",
    "date = []\n",
    "site = []\n",
    "sample_type = []\n",
    "abs_type = []\n",
    "rep = []\n",
    "temp = []\n",
    "raw_file_path = []\n",
    "\n",
    "\n",
    "file_list = sorted(glob.glob(raw_data_file_path+'/*.dat'))\n",
    "for j in file_list:\n",
    "    basename = j.split('/')[-1].split('.')[0]\n",
    "    ## We are excluding the field measurements of filtered data here because theyw ere not good \n",
    "    if 'field' in basename:\n",
    "        continue\n",
    "    basenames.append(basename)\n",
    "    Sensor, Date, Site, Sample_Type, Abs_Type, Rep, T1, T2= basename.split('_')\n",
    "    T = float(T1.lstrip('T')+'.'+T2)\n",
    "    date.append(Date)\n",
    "    site.append(Site)\n",
    "    sample_type.append(Sample_Type)\n",
    "    abs_type.append(Abs_Type)\n",
    "    rep.append(Rep)\n",
    "    temp.append(T)\n",
    "    raw_file_path.append(j)\n",
    "\n",
    "df = pd.DataFrame(\n",
    "    {'Sensor':'AC9',\n",
    "     'ID':basenames,\n",
    "     'Date': date,\n",
    "     'Site': site,\n",
    "     'Sample_Type': sample_type,\n",
    "     'Analysis_Type': abs_type,\n",
    "     'Rep': rep,\n",
    "     'Temp': temp,\n",
    "     'Raw_File_Path':raw_file_path\n",
    "    })\n",
    "\n",
    "df.to_csv(metadata_original_filepath, sep='\\t',index=False)\n",
    "df.to_csv(metadata_updated_filepath, sep='\\t',index=False)"
   ]
  },
  {
   "cell_type": "markdown",
   "metadata": {
    "deletable": true,
    "editable": true
   },
   "source": [
    "### Generate summary statistics and make new csv files for each sample\n",
    "\n",
    "#### Use the columns in the upper part of the document for the wavelengths. Just to organize your main dataframe. "
   ]
  },
  {
   "cell_type": "code",
   "execution_count": 5,
   "metadata": {
    "collapsed": false,
    "deletable": true,
    "editable": true,
    "scrolled": false
   },
   "outputs": [
    {
     "name": "stderr",
     "output_type": "stream",
     "text": [
      "/Library/Frameworks/Python.framework/Versions/2.7/lib/python2.7/site-packages/ipykernel/__main__.py:53: FutureWarning: convert_objects is deprecated.  Use the data-type specific converters pd.to_datetime, pd.to_timedelta and pd.to_numeric.\n"
     ]
    }
   ],
   "source": [
    "# iterate through the raw files\n",
    "metadata = pd.read_csv(metadata_updated_filepath, skiprows=0, delimiter= '\\t')\n",
    "cleaned_raw_file_path = []\n",
    "averaged_file_path = []\n",
    "\n",
    "for file_path in metadata['Raw_File_Path']:\n",
    "# brings in file\n",
    "    ### Some field filtered measurements sneakily made it through; we shall eliminate them\n",
    "    if 'field' in file_path.split('/')[-1]:\n",
    "        continue\n",
    "    read_wl = pd.read_csv(file_path, skiprows=10, names=range(100), delimiter= '\\t')  # use names= range (100) to clip dangling columns\n",
    "    # reads in a and c wavelength values from the first column of data\n",
    "    a_c_wl = read_wl[0][0:18]  ; a_wl = read_wl[0][0:9] ; c_wl = read_wl[0][9:18];\n",
    "\n",
    "    # make empty objects for your new variables of the wavelength value and name\n",
    "    # Example: wl_a: 650.0; wl_a_str: a650\n",
    "    wl_a = []    ; wl_c = []  ; wl_a_str = []  ; wl_c_str = []\n",
    "\n",
    "    # makes a list of the 9 wavelengths formatted as floats\n",
    "    for i in range(len(a_wl)):\n",
    "        wl_a.append(np.float(a_wl[i][1:4]))\n",
    "        wl_a_str.append(a_wl[i])\n",
    "    for j in range(len(c_wl)):\n",
    "        wl_c.append(np.float(c_wl[j+9][1:4]))\n",
    "        wl_c_str.append(c_wl[j+9])\n",
    "\n",
    "     # Unsorted list of wavelengths (412) and wavelength strings (a676)\n",
    "    wavelist = wl_a + wl_c                   ; wavelist_str = wl_a_str + wl_c_str   \n",
    "    # Unsorted list of wavelengths (412) and wavelength strings (a676) as arrays\n",
    "    wavelengths = np.asarray(wavelist)       ; wavelengths_str = np.asarray(wavelist_str)  \n",
    "    # Sorted list of a and c wavelengths as floats in an array (ex: 412, 440, etc)\n",
    "    wl_a_sorted = np.asarray(sorted(wl_a))   ; wl_c_sorted = np.asarray(sorted(wl_c))\n",
    "\n",
    "    # Now read back in the data, skipping all the header information  \n",
    "    # The time series of measured values starts in the 32th row\n",
    "    df1 = pd.read_csv(file_path, skiprows=31, delimiter= '\\t') \n",
    "\n",
    "    # drops all the ragged extra columns dangling to the right\n",
    "    columns = df1.columns[19:len(df1.columns)]                 \n",
    "    df2 = df1.drop(columns, axis=1)    # you should have 19 cols left ~ array size [ntimesteps, 19]                       \n",
    "\n",
    "    # drops the first column of the timestamp (ntimesteps)\n",
    "    columns1 = df2.columns[0]\n",
    "    df3 = df2.drop(columns1, axis=1)                    \n",
    "\n",
    "    # makes a new header from the list of wavelengths you parsed earlier  \n",
    "    wl_header = wavelengths_str \n",
    "\n",
    "    # Clean and reindex\n",
    "    df4 = df3[1:]                                       # take the data (row 1- n) less the header row (row 0)\n",
    "    df4.columns = wavelengths_str                       # set the header row as list of wavelengths\n",
    "    df4 = df4.reindex_axis(sorted(df4.columns), axis=1) # reindex them by the new sorted wavelengths\n",
    "    df4=df4.convert_objects(convert_numeric=True)       # Just to make sure that all elements are floats!\n",
    "\n",
    "    no_cols = int(len(df4.columns)/2.)                  # no_col should always be 9 (one for each wavelength)         \n",
    "\n",
    "    # Sort your dataframe with ascending walues of your wavelengths\n",
    "    # at this point the wl_a and wl_c are the same wavelengths so \n",
    "    # it doesn't matter which one you use here\n",
    "    new_header = wl_a_sorted\n",
    "\n",
    "    # reindex to reshape the data\n",
    "    df_a_aux = df4.iloc[:, :no_cols];  df_a_aux.columns = new_header ;  df_a = df_a_aux.reindex_axis(sorted(df_a_aux.columns), axis = 1)\n",
    "    df_c_aux = df4.iloc[:, no_cols:];  df_c_aux.columns = new_header ;  df_c = df_c_aux.reindex_axis(sorted(df_c_aux.columns), axis = 1)\n",
    "\n",
    "    # calculate the me(di)an, stdev, IQR for the time series - per each column\n",
    "    a_mean = df_a[wl_a_sorted].mean(axis=0)         ; c_mean = df_c[wl_c_sorted].mean(axis=0)   \n",
    "    a_std  = df_a[wl_a_sorted].std(axis=0)          ; c_std  = df_c[wl_c_sorted].std(axis=0)\n",
    "    a_median = df_a[wl_a_sorted].median(axis=0)     ; c_median = df_c[wl_c_sorted].median(axis=0)\n",
    "    a_var = df_a[wl_a_sorted].var(axis=0)           ; c_var = df_c[wl_c_sorted].var(axis=0)\n",
    "\n",
    "    # Computing IQR\n",
    "    a_Q1 = df_a[wl_a_sorted].quantile(0.25)         ; c_Q1 = df_c[wl_c_sorted].quantile(0.25)\n",
    "    a_Q3 = df_a[wl_a_sorted].quantile(0.75)         ; c_Q3 = df_c[wl_c_sorted].quantile(0.75)\n",
    "    a_IQR = a_Q3 - a_Q1                             ; c_IQR = c_Q3 - c_Q1\n",
    "\n",
    "    # Specifiy the output file name and directory\n",
    "    metadata_row = metadata.loc[metadata['Raw_File_Path']==file_path]\n",
    "    ID = metadata_row['ID'].max()\n",
    "    sensor = metadata_row['Sensor'].max()\n",
    "    date = metadata_row['Date'].max()\n",
    "    site = metadata_row['Site'].max()\n",
    "    sample_type = metadata_row['Sample_Type'].max()\n",
    "    analysis_type = metadata_row['Analysis_Type'].max()\n",
    "    \n",
    "    # Removing temperature information from sample name because it is already recorded elsewhere\n",
    "    outputname = ID+ '.csv'\n",
    "    outputdir = new_dir_path+'/'+ outputname \n",
    "    cleaned_raw_outputdir = cleaned_raw_data_path+'/'+'cleaned_raw_'+outputname \n",
    "    cleaned_raw_file_path.append(cleaned_raw_outputdir)\n",
    "    averaged_file_path.append(outputdir)\n",
    "\n",
    "    # make a new dataframe from the summary statistics and export\n",
    "    if analysis_type == 'a':\n",
    "        df_a.to_csv(cleaned_raw_outputdir, sep='\\t',index=False)\n",
    "        output_df = pd.DataFrame([wl_a_sorted, a_mean, a_std, a_median, a_var, a_IQR]).swapaxes(0,1)\n",
    "        output_df.columns = ('wl', 'a_mean', 'a_std', 'a_median', 'a_var','a_IQR')\n",
    "        output_df.to_csv(outputdir, sep='\\t',index=False)\n",
    "    else:\n",
    "        df_c.to_csv(cleaned_raw_outputdir, sep='\\t',index=False)\n",
    "        output_df = pd.DataFrame([wl_c_sorted, c_mean, c_std, c_median, c_var, c_IQR]).swapaxes(0,1)\n",
    "        output_df.columns = ('wl', 'c_mean', 'c_std', 'c_median', 'c_var','c_IQR')\n",
    "        output_df.to_csv(outputdir, sep='\\t',index=False)\n",
    "metadata['Cleaned_raw_file_path'] = cleaned_raw_file_path\n",
    "metadata['Averaged_file_path'] = averaged_file_path\n",
    "metadata.to_csv(metadata_updated_filepath, sep='\\t',index=False)"
   ]
  },
  {
   "cell_type": "markdown",
   "metadata": {},
   "source": [
    "### Graphing standard deviations over time"
   ]
  },
  {
   "cell_type": "code",
   "execution_count": 6,
   "metadata": {
    "collapsed": true
   },
   "outputs": [],
   "source": [
    "metadata = pd.read_csv(metadata_updated_filepath, skiprows=0, delimiter= '\\t')"
   ]
  },
  {
   "cell_type": "code",
   "execution_count": 62,
   "metadata": {
    "collapsed": false
   },
   "outputs": [],
   "source": [
    "def get_std_means(filepath_to_csv, window_size):\n",
    "    example = pd.read_csv(filepath_to_csv, skiprows=0, delimiter= '\\t')\n",
    "    #example_means = example.rolling(window=window_size).mean()[window_size-1:]\n",
    "    example_std = example.rolling(window=window_size).std()[window_size-1:]\n",
    "    example_std = example_std.reset_index()\n",
    "    example_std = example_std.rename(columns = {'index':'time'})\n",
    "    example_std['time'] = example_std['time'].apply(lambda x: (x+2)-window_size)\n",
    "    example_std['mean'] = example_std[example_std.columns[1:]].mean(axis=1)\n",
    "    return example_std"
   ]
  },
  {
   "cell_type": "code",
   "execution_count": 44,
   "metadata": {
    "collapsed": true
   },
   "outputs": [],
   "source": [
    "def plotting_rolling_avg(list_of_files, title='Title'):\n",
    "    j = 0\n",
    "    x = []\n",
    "    y = []\n",
    "    labels_list = []\n",
    "    for df in range(len(list_of_files)):           \n",
    "            File1, File2, Sensor, Date, Site, Sample_Type, Abs_Type, Rep, T1, T2= list_of_files[filename].split('/')[-1].split('.')[0].split('_')\n",
    "            repname = Sample_Type+' '+Rep\n",
    "            labels_list.append(repname)\n",
    "            if Sample_Type == 'fil':\n",
    "                linestyle = '--'\n",
    "            if Sample_Type == 'raw':\n",
    "                linestyle = '-'\n",
    "            if Sample_Type == 'cal':\n",
    "                linestyle = ':'\n",
    "            plt.plot('time','mean',data=df,label=repname,linestyle=linestyle)\n",
    "            #plt.scatter('wl', 'a_mean', data = df)\n",
    "    plt.ylabel('St. Dev.')\n",
    "    plt.title(title)\n",
    "    plt.legend(labels_list)\n",
    "    return plt"
   ]
  },
  {
   "cell_type": "code",
   "execution_count": 63,
   "metadata": {
    "collapsed": false
   },
   "outputs": [],
   "source": [
    "metadata['SiteDate'] = metadata[\"Site\"] + '_' + metadata[\"Date\"].map(str)\n",
    "file_dict = {}\n",
    "for index, row in metadata.iterrows():\n",
    "    SiteDate = row['SiteDate']\n",
    "    Filepath = row['Cleaned_raw_file_path'] \n",
    "    Analysis_Type = row['Analysis_Type']\n",
    "    if SiteDate not in file_dict:\n",
    "        file_dict[SiteDate] = {'a':[], 'c':[]}\n",
    "    std_dataframe = get_std_means(Filepath,50)\n",
    "    if Analysis_Type == 'a':\n",
    "        file_dict[SiteDate]['a'] = [,std_dataframe]\n",
    "    if Analysis_Type == 'c':\n",
    "        file_dict[SiteDate]['c'] = [,std_dataframe]\n",
    "    "
   ]
  },
  {
   "cell_type": "code",
   "execution_count": 50,
   "metadata": {
    "collapsed": true
   },
   "outputs": [],
   "source": [
    "test = ['/Users/Petrichor/Documents/FreshwatersOpticsToolkit/Data/1_2_cleaned_originals/cleaned_raw_AC9_071318_fai_cal_a_1_T23_8.csv', '/Users/Petrichor/Documents/FreshwatersOpticsToolkit/Data/1_2_cleaned_originals/cleaned_raw_AC9_071318_fai_cal_a_2_T24_1.csv', '/Users/Petrichor/Documents/FreshwatersOpticsToolkit/Data/1_2_cleaned_originals/cleaned_raw_AC9_071318_fai_cal_a_3_T24_0.csv']"
   ]
  },
  {
   "cell_type": "code",
   "execution_count": 52,
   "metadata": {
    "collapsed": false
   },
   "outputs": [
    {
     "ename": "ValueError",
     "evalue": "Unrecognized character e in format string",
     "output_type": "error",
     "traceback": [
      "\u001b[0;31m---------------------------------------------------------------------------\u001b[0m",
      "\u001b[0;31mValueError\u001b[0m                                Traceback (most recent call last)",
      "\u001b[0;32m<ipython-input-52-0697ab28e8ba>\u001b[0m in \u001b[0;36m<module>\u001b[0;34m()\u001b[0m\n\u001b[0;32m----> 1\u001b[0;31m \u001b[0mplotting_rolling_avg\u001b[0m\u001b[0;34m(\u001b[0m\u001b[0mtest\u001b[0m\u001b[0;34m,\u001b[0m \u001b[0mtitle\u001b[0m\u001b[0;34m=\u001b[0m\u001b[0;34m'Title'\u001b[0m\u001b[0;34m)\u001b[0m\u001b[0;34m\u001b[0m\u001b[0m\n\u001b[0m",
      "\u001b[0;32m<ipython-input-44-ebd86f42bc36>\u001b[0m in \u001b[0;36mplotting_rolling_avg\u001b[0;34m(list_of_files, title)\u001b[0m\n\u001b[1;32m     16\u001b[0m             \u001b[0;32mif\u001b[0m \u001b[0mSample_Type\u001b[0m \u001b[0;34m==\u001b[0m \u001b[0;34m'cal'\u001b[0m\u001b[0;34m:\u001b[0m\u001b[0;34m\u001b[0m\u001b[0m\n\u001b[1;32m     17\u001b[0m                 \u001b[0mlinestyle\u001b[0m \u001b[0;34m=\u001b[0m \u001b[0;34m':'\u001b[0m\u001b[0;34m\u001b[0m\u001b[0m\n\u001b[0;32m---> 18\u001b[0;31m             \u001b[0mplt\u001b[0m\u001b[0;34m.\u001b[0m\u001b[0mplot\u001b[0m\u001b[0;34m(\u001b[0m\u001b[0;34m'time'\u001b[0m\u001b[0;34m,\u001b[0m\u001b[0;34m'mean'\u001b[0m\u001b[0;34m,\u001b[0m\u001b[0mdata\u001b[0m\u001b[0;34m=\u001b[0m\u001b[0mdf\u001b[0m\u001b[0;34m,\u001b[0m\u001b[0mlabel\u001b[0m\u001b[0;34m=\u001b[0m\u001b[0mrepname\u001b[0m\u001b[0;34m,\u001b[0m\u001b[0mlinestyle\u001b[0m\u001b[0;34m=\u001b[0m\u001b[0mlinestyle\u001b[0m\u001b[0;34m)\u001b[0m\u001b[0;34m\u001b[0m\u001b[0m\n\u001b[0m\u001b[1;32m     19\u001b[0m             \u001b[0;31m#plt.scatter('wl', 'a_mean', data = df)\u001b[0m\u001b[0;34m\u001b[0m\u001b[0;34m\u001b[0m\u001b[0m\n\u001b[1;32m     20\u001b[0m     \u001b[0mplt\u001b[0m\u001b[0;34m.\u001b[0m\u001b[0mylabel\u001b[0m\u001b[0;34m(\u001b[0m\u001b[0;34m'St. Dev.'\u001b[0m\u001b[0;34m)\u001b[0m\u001b[0;34m\u001b[0m\u001b[0m\n",
      "\u001b[0;32m/Library/Frameworks/Python.framework/Versions/2.7/lib/python2.7/site-packages/matplotlib/pyplot.pyc\u001b[0m in \u001b[0;36mplot\u001b[0;34m(*args, **kwargs)\u001b[0m\n\u001b[1;32m   3361\u001b[0m                       mplDeprecation)\n\u001b[1;32m   3362\u001b[0m     \u001b[0;32mtry\u001b[0m\u001b[0;34m:\u001b[0m\u001b[0;34m\u001b[0m\u001b[0m\n\u001b[0;32m-> 3363\u001b[0;31m         \u001b[0mret\u001b[0m \u001b[0;34m=\u001b[0m \u001b[0max\u001b[0m\u001b[0;34m.\u001b[0m\u001b[0mplot\u001b[0m\u001b[0;34m(\u001b[0m\u001b[0;34m*\u001b[0m\u001b[0margs\u001b[0m\u001b[0;34m,\u001b[0m \u001b[0;34m**\u001b[0m\u001b[0mkwargs\u001b[0m\u001b[0;34m)\u001b[0m\u001b[0;34m\u001b[0m\u001b[0m\n\u001b[0m\u001b[1;32m   3364\u001b[0m     \u001b[0;32mfinally\u001b[0m\u001b[0;34m:\u001b[0m\u001b[0;34m\u001b[0m\u001b[0m\n\u001b[1;32m   3365\u001b[0m         \u001b[0max\u001b[0m\u001b[0;34m.\u001b[0m\u001b[0m_hold\u001b[0m \u001b[0;34m=\u001b[0m \u001b[0mwashold\u001b[0m\u001b[0;34m\u001b[0m\u001b[0m\n",
      "\u001b[0;32m/Library/Frameworks/Python.framework/Versions/2.7/lib/python2.7/site-packages/matplotlib/__init__.pyc\u001b[0m in \u001b[0;36minner\u001b[0;34m(ax, *args, **kwargs)\u001b[0m\n\u001b[1;32m   1865\u001b[0m                         \u001b[0;34m\"the Matplotlib list!)\"\u001b[0m \u001b[0;34m%\u001b[0m \u001b[0;34m(\u001b[0m\u001b[0mlabel_namer\u001b[0m\u001b[0;34m,\u001b[0m \u001b[0mfunc\u001b[0m\u001b[0;34m.\u001b[0m\u001b[0m__name__\u001b[0m\u001b[0;34m)\u001b[0m\u001b[0;34m,\u001b[0m\u001b[0;34m\u001b[0m\u001b[0m\n\u001b[1;32m   1866\u001b[0m                         RuntimeWarning, stacklevel=2)\n\u001b[0;32m-> 1867\u001b[0;31m             \u001b[0;32mreturn\u001b[0m \u001b[0mfunc\u001b[0m\u001b[0;34m(\u001b[0m\u001b[0max\u001b[0m\u001b[0;34m,\u001b[0m \u001b[0;34m*\u001b[0m\u001b[0margs\u001b[0m\u001b[0;34m,\u001b[0m \u001b[0;34m**\u001b[0m\u001b[0mkwargs\u001b[0m\u001b[0;34m)\u001b[0m\u001b[0;34m\u001b[0m\u001b[0m\n\u001b[0m\u001b[1;32m   1868\u001b[0m \u001b[0;34m\u001b[0m\u001b[0m\n\u001b[1;32m   1869\u001b[0m         inner.__doc__ = _add_data_doc(inner.__doc__,\n",
      "\u001b[0;32m/Library/Frameworks/Python.framework/Versions/2.7/lib/python2.7/site-packages/matplotlib/axes/_axes.pyc\u001b[0m in \u001b[0;36mplot\u001b[0;34m(self, *args, **kwargs)\u001b[0m\n\u001b[1;32m   1526\u001b[0m         \u001b[0mkwargs\u001b[0m \u001b[0;34m=\u001b[0m \u001b[0mcbook\u001b[0m\u001b[0;34m.\u001b[0m\u001b[0mnormalize_kwargs\u001b[0m\u001b[0;34m(\u001b[0m\u001b[0mkwargs\u001b[0m\u001b[0;34m,\u001b[0m \u001b[0m_alias_map\u001b[0m\u001b[0;34m)\u001b[0m\u001b[0;34m\u001b[0m\u001b[0m\n\u001b[1;32m   1527\u001b[0m \u001b[0;34m\u001b[0m\u001b[0m\n\u001b[0;32m-> 1528\u001b[0;31m         \u001b[0;32mfor\u001b[0m \u001b[0mline\u001b[0m \u001b[0;32min\u001b[0m \u001b[0mself\u001b[0m\u001b[0;34m.\u001b[0m\u001b[0m_get_lines\u001b[0m\u001b[0;34m(\u001b[0m\u001b[0;34m*\u001b[0m\u001b[0margs\u001b[0m\u001b[0;34m,\u001b[0m \u001b[0;34m**\u001b[0m\u001b[0mkwargs\u001b[0m\u001b[0;34m)\u001b[0m\u001b[0;34m:\u001b[0m\u001b[0;34m\u001b[0m\u001b[0m\n\u001b[0m\u001b[1;32m   1529\u001b[0m             \u001b[0mself\u001b[0m\u001b[0;34m.\u001b[0m\u001b[0madd_line\u001b[0m\u001b[0;34m(\u001b[0m\u001b[0mline\u001b[0m\u001b[0;34m)\u001b[0m\u001b[0;34m\u001b[0m\u001b[0m\n\u001b[1;32m   1530\u001b[0m             \u001b[0mlines\u001b[0m\u001b[0;34m.\u001b[0m\u001b[0mappend\u001b[0m\u001b[0;34m(\u001b[0m\u001b[0mline\u001b[0m\u001b[0;34m)\u001b[0m\u001b[0;34m\u001b[0m\u001b[0m\n",
      "\u001b[0;32m/Library/Frameworks/Python.framework/Versions/2.7/lib/python2.7/site-packages/matplotlib/axes/_base.pyc\u001b[0m in \u001b[0;36m_grab_next_args\u001b[0;34m(self, *args, **kwargs)\u001b[0m\n\u001b[1;32m    404\u001b[0m                 \u001b[0mthis\u001b[0m \u001b[0;34m+=\u001b[0m \u001b[0margs\u001b[0m\u001b[0;34m[\u001b[0m\u001b[0;36m0\u001b[0m\u001b[0;34m]\u001b[0m\u001b[0;34m,\u001b[0m\u001b[0;34m\u001b[0m\u001b[0m\n\u001b[1;32m    405\u001b[0m                 \u001b[0margs\u001b[0m \u001b[0;34m=\u001b[0m \u001b[0margs\u001b[0m\u001b[0;34m[\u001b[0m\u001b[0;36m1\u001b[0m\u001b[0;34m:\u001b[0m\u001b[0;34m]\u001b[0m\u001b[0;34m\u001b[0m\u001b[0m\n\u001b[0;32m--> 406\u001b[0;31m             \u001b[0;32mfor\u001b[0m \u001b[0mseg\u001b[0m \u001b[0;32min\u001b[0m \u001b[0mself\u001b[0m\u001b[0;34m.\u001b[0m\u001b[0m_plot_args\u001b[0m\u001b[0;34m(\u001b[0m\u001b[0mthis\u001b[0m\u001b[0;34m,\u001b[0m \u001b[0mkwargs\u001b[0m\u001b[0;34m)\u001b[0m\u001b[0;34m:\u001b[0m\u001b[0;34m\u001b[0m\u001b[0m\n\u001b[0m\u001b[1;32m    407\u001b[0m                 \u001b[0;32myield\u001b[0m \u001b[0mseg\u001b[0m\u001b[0;34m\u001b[0m\u001b[0m\n\u001b[1;32m    408\u001b[0m \u001b[0;34m\u001b[0m\u001b[0m\n",
      "\u001b[0;32m/Library/Frameworks/Python.framework/Versions/2.7/lib/python2.7/site-packages/matplotlib/axes/_base.pyc\u001b[0m in \u001b[0;36m_plot_args\u001b[0;34m(self, tup, kwargs)\u001b[0m\n\u001b[1;32m    353\u001b[0m         \u001b[0mret\u001b[0m \u001b[0;34m=\u001b[0m \u001b[0;34m[\u001b[0m\u001b[0;34m]\u001b[0m\u001b[0;34m\u001b[0m\u001b[0m\n\u001b[1;32m    354\u001b[0m         \u001b[0;32mif\u001b[0m \u001b[0mlen\u001b[0m\u001b[0;34m(\u001b[0m\u001b[0mtup\u001b[0m\u001b[0;34m)\u001b[0m \u001b[0;34m>\u001b[0m \u001b[0;36m1\u001b[0m \u001b[0;32mand\u001b[0m \u001b[0misinstance\u001b[0m\u001b[0;34m(\u001b[0m\u001b[0mtup\u001b[0m\u001b[0;34m[\u001b[0m\u001b[0;34m-\u001b[0m\u001b[0;36m1\u001b[0m\u001b[0;34m]\u001b[0m\u001b[0;34m,\u001b[0m \u001b[0msix\u001b[0m\u001b[0;34m.\u001b[0m\u001b[0mstring_types\u001b[0m\u001b[0;34m)\u001b[0m\u001b[0;34m:\u001b[0m\u001b[0;34m\u001b[0m\u001b[0m\n\u001b[0;32m--> 355\u001b[0;31m             \u001b[0mlinestyle\u001b[0m\u001b[0;34m,\u001b[0m \u001b[0mmarker\u001b[0m\u001b[0;34m,\u001b[0m \u001b[0mcolor\u001b[0m \u001b[0;34m=\u001b[0m \u001b[0m_process_plot_format\u001b[0m\u001b[0;34m(\u001b[0m\u001b[0mtup\u001b[0m\u001b[0;34m[\u001b[0m\u001b[0;34m-\u001b[0m\u001b[0;36m1\u001b[0m\u001b[0;34m]\u001b[0m\u001b[0;34m)\u001b[0m\u001b[0;34m\u001b[0m\u001b[0m\n\u001b[0m\u001b[1;32m    356\u001b[0m             \u001b[0mtup\u001b[0m \u001b[0;34m=\u001b[0m \u001b[0mtup\u001b[0m\u001b[0;34m[\u001b[0m\u001b[0;34m:\u001b[0m\u001b[0;34m-\u001b[0m\u001b[0;36m1\u001b[0m\u001b[0;34m]\u001b[0m\u001b[0;34m\u001b[0m\u001b[0m\n\u001b[1;32m    357\u001b[0m         \u001b[0;32melif\u001b[0m \u001b[0mlen\u001b[0m\u001b[0;34m(\u001b[0m\u001b[0mtup\u001b[0m\u001b[0;34m)\u001b[0m \u001b[0;34m==\u001b[0m \u001b[0;36m3\u001b[0m\u001b[0;34m:\u001b[0m\u001b[0;34m\u001b[0m\u001b[0m\n",
      "\u001b[0;32m/Library/Frameworks/Python.framework/Versions/2.7/lib/python2.7/site-packages/matplotlib/axes/_base.pyc\u001b[0m in \u001b[0;36m_process_plot_format\u001b[0;34m(fmt)\u001b[0m\n\u001b[1;32m    128\u001b[0m         \u001b[0;32melse\u001b[0m\u001b[0;34m:\u001b[0m\u001b[0;34m\u001b[0m\u001b[0m\n\u001b[1;32m    129\u001b[0m             raise ValueError(\n\u001b[0;32m--> 130\u001b[0;31m                 'Unrecognized character %c in format string' % c)\n\u001b[0m\u001b[1;32m    131\u001b[0m         \u001b[0mi\u001b[0m \u001b[0;34m+=\u001b[0m \u001b[0;36m1\u001b[0m\u001b[0;34m\u001b[0m\u001b[0m\n\u001b[1;32m    132\u001b[0m \u001b[0;34m\u001b[0m\u001b[0m\n",
      "\u001b[0;31mValueError\u001b[0m: Unrecognized character e in format string"
     ]
    }
   ],
   "source": [
    "plotting_rolling_avg(test, title='Title')"
   ]
  },
  {
   "cell_type": "code",
   "execution_count": 49,
   "metadata": {
    "collapsed": false
   },
   "outputs": [
    {
     "name": "stdout",
     "output_type": "stream",
     "text": [
      "['/Users/Petrichor/Documents/FreshwatersOpticsToolkit/Data/1_2_cleaned_originals/cleaned_raw_AC9_071318_fai_cal_a_1_T23_8.csv', '/Users/Petrichor/Documents/FreshwatersOpticsToolkit/Data/1_2_cleaned_originals/cleaned_raw_AC9_071318_fai_cal_a_2_T24_1.csv', '/Users/Petrichor/Documents/FreshwatersOpticsToolkit/Data/1_2_cleaned_originals/cleaned_raw_AC9_071318_fai_cal_a_3_T24_0.csv']\n",
      "Absorption\n",
      "['/Users/Petrichor/Documents/FreshwatersOpticsToolkit/Data/1_2_cleaned_originals/cleaned_raw_AC9_071318_fai_cal_c_1_T23_7.csv', '/Users/Petrichor/Documents/FreshwatersOpticsToolkit/Data/1_2_cleaned_originals/cleaned_raw_AC9_071318_fai_cal_c_2_T23_8.csv', '/Users/Petrichor/Documents/FreshwatersOpticsToolkit/Data/1_2_cleaned_originals/cleaned_raw_AC9_071318_fai_cal_c_3_T23_9.csv']\n",
      "Attenuation\n",
      "['/Users/Petrichor/Documents/FreshwatersOpticsToolkit/Data/1_2_cleaned_originals/cleaned_raw_AC9_071818_can_cal_a_1_T21_2.csv', '/Users/Petrichor/Documents/FreshwatersOpticsToolkit/Data/1_2_cleaned_originals/cleaned_raw_AC9_071818_can_cal_a_2_T21_2.csv', '/Users/Petrichor/Documents/FreshwatersOpticsToolkit/Data/1_2_cleaned_originals/cleaned_raw_AC9_071818_can_cal_a_3_T21_2.csv']\n",
      "Absorption\n",
      "['/Users/Petrichor/Documents/FreshwatersOpticsToolkit/Data/1_2_cleaned_originals/cleaned_raw_AC9_071818_can_cal_c_1_T21_2.csv', '/Users/Petrichor/Documents/FreshwatersOpticsToolkit/Data/1_2_cleaned_originals/cleaned_raw_AC9_071818_can_cal_c_2_T21_2.csv', '/Users/Petrichor/Documents/FreshwatersOpticsToolkit/Data/1_2_cleaned_originals/cleaned_raw_AC9_071818_can_cal_c_3_T21_2.csv']\n",
      "Attenuation\n",
      "['/Users/Petrichor/Documents/FreshwatersOpticsToolkit/Data/1_2_cleaned_originals/cleaned_raw_AC9_071718_y20_fil_a_1_T17_0.csv', '/Users/Petrichor/Documents/FreshwatersOpticsToolkit/Data/1_2_cleaned_originals/cleaned_raw_AC9_071718_y20_fil_a_2_T19_7.csv', '/Users/Petrichor/Documents/FreshwatersOpticsToolkit/Data/1_2_cleaned_originals/cleaned_raw_AC9_071718_y20_raw_a_1_T16_8.csv', '/Users/Petrichor/Documents/FreshwatersOpticsToolkit/Data/1_2_cleaned_originals/cleaned_raw_AC9_071718_y20_raw_a_2_T16_8.csv', '/Users/Petrichor/Documents/FreshwatersOpticsToolkit/Data/1_2_cleaned_originals/cleaned_raw_AC9_071718_y20_raw_a_3_T16_8.csv']\n",
      "Absorption\n",
      "['/Users/Petrichor/Documents/FreshwatersOpticsToolkit/Data/1_2_cleaned_originals/cleaned_raw_AC9_071718_y20_fil_c_1_T17_0.csv', '/Users/Petrichor/Documents/FreshwatersOpticsToolkit/Data/1_2_cleaned_originals/cleaned_raw_AC9_071718_y20_fil_c_2_T19_7.csv', '/Users/Petrichor/Documents/FreshwatersOpticsToolkit/Data/1_2_cleaned_originals/cleaned_raw_AC9_071718_y20_raw_c_1_T16_8.csv', '/Users/Petrichor/Documents/FreshwatersOpticsToolkit/Data/1_2_cleaned_originals/cleaned_raw_AC9_071718_y20_raw_c_2_T16_8.csv', '/Users/Petrichor/Documents/FreshwatersOpticsToolkit/Data/1_2_cleaned_originals/cleaned_raw_AC9_071718_y20_raw_c_3_T16_8.csv']\n",
      "Attenuation\n",
      "['/Users/Petrichor/Documents/FreshwatersOpticsToolkit/Data/1_2_cleaned_originals/cleaned_raw_AC9_071718_9mi_cal_a_1_T19_0.csv', '/Users/Petrichor/Documents/FreshwatersOpticsToolkit/Data/1_2_cleaned_originals/cleaned_raw_AC9_071718_9mi_fil_a_1_T15_4.csv', '/Users/Petrichor/Documents/FreshwatersOpticsToolkit/Data/1_2_cleaned_originals/cleaned_raw_AC9_071718_9mi_fil_a_2_T15_4.csv', '/Users/Petrichor/Documents/FreshwatersOpticsToolkit/Data/1_2_cleaned_originals/cleaned_raw_AC9_071718_9mi_fil_a_3_T15_1.csv', '/Users/Petrichor/Documents/FreshwatersOpticsToolkit/Data/1_2_cleaned_originals/cleaned_raw_AC9_071718_9mi_raw_a_1_T17_4.csv', '/Users/Petrichor/Documents/FreshwatersOpticsToolkit/Data/1_2_cleaned_originals/cleaned_raw_AC9_071718_9mi_raw_a_2_T17_4.csv', '/Users/Petrichor/Documents/FreshwatersOpticsToolkit/Data/1_2_cleaned_originals/cleaned_raw_AC9_071718_9mi_raw_a_3_T17_4.csv']\n",
      "Absorption\n",
      "['/Users/Petrichor/Documents/FreshwatersOpticsToolkit/Data/1_2_cleaned_originals/cleaned_raw_AC9_071718_9mi_cal_c_1_T19_0.csv', '/Users/Petrichor/Documents/FreshwatersOpticsToolkit/Data/1_2_cleaned_originals/cleaned_raw_AC9_071718_9mi_fil_c_1_T15_4.csv', '/Users/Petrichor/Documents/FreshwatersOpticsToolkit/Data/1_2_cleaned_originals/cleaned_raw_AC9_071718_9mi_fil_c_2_T15_4.csv', '/Users/Petrichor/Documents/FreshwatersOpticsToolkit/Data/1_2_cleaned_originals/cleaned_raw_AC9_071718_9mi_fil_c_3_T15_1.csv', '/Users/Petrichor/Documents/FreshwatersOpticsToolkit/Data/1_2_cleaned_originals/cleaned_raw_AC9_071718_9mi_raw_c_1_T17_4.csv', '/Users/Petrichor/Documents/FreshwatersOpticsToolkit/Data/1_2_cleaned_originals/cleaned_raw_AC9_071718_9mi_raw_c_2_T17_4.csv', '/Users/Petrichor/Documents/FreshwatersOpticsToolkit/Data/1_2_cleaned_originals/cleaned_raw_AC9_071718_9mi_raw_c_3_T17_4.csv']\n",
      "Attenuation\n",
      "['/Users/Petrichor/Documents/FreshwatersOpticsToolkit/Data/1_2_cleaned_originals/cleaned_raw_AC9_081618_sea_cal_a_1_T18_5.csv', '/Users/Petrichor/Documents/FreshwatersOpticsToolkit/Data/1_2_cleaned_originals/cleaned_raw_AC9_081618_sea_cal_a_2_T18_5.csv', '/Users/Petrichor/Documents/FreshwatersOpticsToolkit/Data/1_2_cleaned_originals/cleaned_raw_AC9_081618_sea_cal_a_3_T18_5.csv', '/Users/Petrichor/Documents/FreshwatersOpticsToolkit/Data/1_2_cleaned_originals/cleaned_raw_AC9_081618_sea_cal_a_4_T18_5.csv']\n",
      "Absorption\n",
      "['/Users/Petrichor/Documents/FreshwatersOpticsToolkit/Data/1_2_cleaned_originals/cleaned_raw_AC9_081618_sea_cal_c_1_T18_5.csv', '/Users/Petrichor/Documents/FreshwatersOpticsToolkit/Data/1_2_cleaned_originals/cleaned_raw_AC9_081618_sea_cal_c_2_T18_5.csv', '/Users/Petrichor/Documents/FreshwatersOpticsToolkit/Data/1_2_cleaned_originals/cleaned_raw_AC9_081618_sea_cal_c_3_T18_5.csv', '/Users/Petrichor/Documents/FreshwatersOpticsToolkit/Data/1_2_cleaned_originals/cleaned_raw_AC9_081618_sea_cal_c_4_T18_5.csv']\n",
      "Attenuation\n",
      "['/Users/Petrichor/Documents/FreshwatersOpticsToolkit/Data/1_2_cleaned_originals/cleaned_raw_AC9_071718_can_cal_a_1_T19_0.csv', '/Users/Petrichor/Documents/FreshwatersOpticsToolkit/Data/1_2_cleaned_originals/cleaned_raw_AC9_071718_can_cal_a_2_T19_0.csv', '/Users/Petrichor/Documents/FreshwatersOpticsToolkit/Data/1_2_cleaned_originals/cleaned_raw_AC9_071718_can_cal_a_3_T19_0.csv']\n",
      "Absorption\n",
      "['/Users/Petrichor/Documents/FreshwatersOpticsToolkit/Data/1_2_cleaned_originals/cleaned_raw_AC9_071718_can_cal_c_1_T19_0.csv', '/Users/Petrichor/Documents/FreshwatersOpticsToolkit/Data/1_2_cleaned_originals/cleaned_raw_AC9_071718_can_cal_c_2_T19_0.csv', '/Users/Petrichor/Documents/FreshwatersOpticsToolkit/Data/1_2_cleaned_originals/cleaned_raw_AC9_071718_can_cal_c_3_T19_0.csv']\n",
      "Attenuation\n",
      "['/Users/Petrichor/Documents/FreshwatersOpticsToolkit/Data/1_2_cleaned_originals/cleaned_raw_AC9_071818_gre_fil_a_1_T22_4.csv', '/Users/Petrichor/Documents/FreshwatersOpticsToolkit/Data/1_2_cleaned_originals/cleaned_raw_AC9_071818_gre_fil_a_2_T22_3.csv', '/Users/Petrichor/Documents/FreshwatersOpticsToolkit/Data/1_2_cleaned_originals/cleaned_raw_AC9_071818_gre_fil_a_3_T22_0.csv', '/Users/Petrichor/Documents/FreshwatersOpticsToolkit/Data/1_2_cleaned_originals/cleaned_raw_AC9_071818_gre_raw_a_1_T17_1.csv', '/Users/Petrichor/Documents/FreshwatersOpticsToolkit/Data/1_2_cleaned_originals/cleaned_raw_AC9_071818_gre_raw_a_2_T17_1.csv', '/Users/Petrichor/Documents/FreshwatersOpticsToolkit/Data/1_2_cleaned_originals/cleaned_raw_AC9_071818_gre_raw_a_3_T17_1.csv']\n",
      "Absorption\n",
      "['/Users/Petrichor/Documents/FreshwatersOpticsToolkit/Data/1_2_cleaned_originals/cleaned_raw_AC9_071818_gre_fil_c_1_T22_4.csv', '/Users/Petrichor/Documents/FreshwatersOpticsToolkit/Data/1_2_cleaned_originals/cleaned_raw_AC9_071818_gre_fil_c_2_T22_3.csv', '/Users/Petrichor/Documents/FreshwatersOpticsToolkit/Data/1_2_cleaned_originals/cleaned_raw_AC9_071818_gre_fil_c_3_T22_0.csv', '/Users/Petrichor/Documents/FreshwatersOpticsToolkit/Data/1_2_cleaned_originals/cleaned_raw_AC9_071818_gre_raw_c_1_T17_1.csv', '/Users/Petrichor/Documents/FreshwatersOpticsToolkit/Data/1_2_cleaned_originals/cleaned_raw_AC9_071818_gre_raw_c_2_T17_1.csv', '/Users/Petrichor/Documents/FreshwatersOpticsToolkit/Data/1_2_cleaned_originals/cleaned_raw_AC9_071818_gre_raw_c_3_T17_1.csv']\n",
      "Attenuation\n",
      "['/Users/Petrichor/Documents/FreshwatersOpticsToolkit/Data/1_2_cleaned_originals/cleaned_raw_AC9_071918_can_cal_a_1_T21_6.csv', '/Users/Petrichor/Documents/FreshwatersOpticsToolkit/Data/1_2_cleaned_originals/cleaned_raw_AC9_071918_can_cal_a_2_T20_4.csv', '/Users/Petrichor/Documents/FreshwatersOpticsToolkit/Data/1_2_cleaned_originals/cleaned_raw_AC9_071918_can_cal_a_3_T20_1.csv']\n",
      "Absorption\n",
      "['/Users/Petrichor/Documents/FreshwatersOpticsToolkit/Data/1_2_cleaned_originals/cleaned_raw_AC9_071918_can_cal_c_1_T21_6.csv', '/Users/Petrichor/Documents/FreshwatersOpticsToolkit/Data/1_2_cleaned_originals/cleaned_raw_AC9_071918_can_cal_c_2_T20_4.csv', '/Users/Petrichor/Documents/FreshwatersOpticsToolkit/Data/1_2_cleaned_originals/cleaned_raw_AC9_071918_can_cal_c_3_T20_1.csv']\n",
      "Attenuation\n",
      "['/Users/Petrichor/Documents/FreshwatersOpticsToolkit/Data/1_2_cleaned_originals/cleaned_raw_AC9_070718_sea_cal_a_1_T20_6.csv', '/Users/Petrichor/Documents/FreshwatersOpticsToolkit/Data/1_2_cleaned_originals/cleaned_raw_AC9_070718_sea_cal_a_2_T20_9.csv', '/Users/Petrichor/Documents/FreshwatersOpticsToolkit/Data/1_2_cleaned_originals/cleaned_raw_AC9_070718_sea_cal_a_3_T20_9.csv']\n",
      "Absorption\n",
      "['/Users/Petrichor/Documents/FreshwatersOpticsToolkit/Data/1_2_cleaned_originals/cleaned_raw_AC9_070718_sea_cal_c_1_T20_6.csv', '/Users/Petrichor/Documents/FreshwatersOpticsToolkit/Data/1_2_cleaned_originals/cleaned_raw_AC9_070718_sea_cal_c_2_T20_6.csv', '/Users/Petrichor/Documents/FreshwatersOpticsToolkit/Data/1_2_cleaned_originals/cleaned_raw_AC9_070718_sea_cal_c_3_T20_6.csv']\n",
      "Attenuation\n",
      "['/Users/Petrichor/Documents/FreshwatersOpticsToolkit/Data/1_2_cleaned_originals/cleaned_raw_AC9_071618_can_cal_a_1_T19_3.csv', '/Users/Petrichor/Documents/FreshwatersOpticsToolkit/Data/1_2_cleaned_originals/cleaned_raw_AC9_071618_can_cal_a_2_T19_9.csv', '/Users/Petrichor/Documents/FreshwatersOpticsToolkit/Data/1_2_cleaned_originals/cleaned_raw_AC9_071618_can_cal_a_3_T19_0.csv']\n",
      "Absorption\n",
      "['/Users/Petrichor/Documents/FreshwatersOpticsToolkit/Data/1_2_cleaned_originals/cleaned_raw_AC9_071618_can_cal_c_1_T19_3.csv', '/Users/Petrichor/Documents/FreshwatersOpticsToolkit/Data/1_2_cleaned_originals/cleaned_raw_AC9_071618_can_cal_c_2_T19_9.csv', '/Users/Petrichor/Documents/FreshwatersOpticsToolkit/Data/1_2_cleaned_originals/cleaned_raw_AC9_071618_can_cal_c_3_T19_0.csv']\n",
      "Attenuation\n",
      "['/Users/Petrichor/Documents/FreshwatersOpticsToolkit/Data/1_2_cleaned_originals/cleaned_raw_AC9_071618_cbr_cal_a_1_T19_9.csv', '/Users/Petrichor/Documents/FreshwatersOpticsToolkit/Data/1_2_cleaned_originals/cleaned_raw_AC9_071618_cbr_cal_a_2_T19_3.csv', '/Users/Petrichor/Documents/FreshwatersOpticsToolkit/Data/1_2_cleaned_originals/cleaned_raw_AC9_071618_cbr_cal_a_3_T19_0.csv', '/Users/Petrichor/Documents/FreshwatersOpticsToolkit/Data/1_2_cleaned_originals/cleaned_raw_AC9_071618_cbr_fil_a_1_T17_5.csv', '/Users/Petrichor/Documents/FreshwatersOpticsToolkit/Data/1_2_cleaned_originals/cleaned_raw_AC9_071618_cbr_fil_a_2_T17_5.csv', '/Users/Petrichor/Documents/FreshwatersOpticsToolkit/Data/1_2_cleaned_originals/cleaned_raw_AC9_071618_cbr_fil_a_3_T17_5.csv', '/Users/Petrichor/Documents/FreshwatersOpticsToolkit/Data/1_2_cleaned_originals/cleaned_raw_AC9_071618_cbr_raw_a_1_T17_5.csv', '/Users/Petrichor/Documents/FreshwatersOpticsToolkit/Data/1_2_cleaned_originals/cleaned_raw_AC9_071618_cbr_raw_a_2_T17_5.csv', '/Users/Petrichor/Documents/FreshwatersOpticsToolkit/Data/1_2_cleaned_originals/cleaned_raw_AC9_071618_cbr_raw_a_3_T17_5.csv']\n",
      "Absorption\n",
      "['/Users/Petrichor/Documents/FreshwatersOpticsToolkit/Data/1_2_cleaned_originals/cleaned_raw_AC9_071618_cbr_cal_c_1_T19_9.csv', '/Users/Petrichor/Documents/FreshwatersOpticsToolkit/Data/1_2_cleaned_originals/cleaned_raw_AC9_071618_cbr_cal_c_2_T19_3.csv', '/Users/Petrichor/Documents/FreshwatersOpticsToolkit/Data/1_2_cleaned_originals/cleaned_raw_AC9_071618_cbr_cal_c_3_T19_0.csv', '/Users/Petrichor/Documents/FreshwatersOpticsToolkit/Data/1_2_cleaned_originals/cleaned_raw_AC9_071618_cbr_fil_c_1_T17_5.csv', '/Users/Petrichor/Documents/FreshwatersOpticsToolkit/Data/1_2_cleaned_originals/cleaned_raw_AC9_071618_cbr_fil_c_2_T17_5.csv', '/Users/Petrichor/Documents/FreshwatersOpticsToolkit/Data/1_2_cleaned_originals/cleaned_raw_AC9_071618_cbr_fil_c_3_T17_5.csv', '/Users/Petrichor/Documents/FreshwatersOpticsToolkit/Data/1_2_cleaned_originals/cleaned_raw_AC9_071618_cbr_raw_c_1_T17_5.csv', '/Users/Petrichor/Documents/FreshwatersOpticsToolkit/Data/1_2_cleaned_originals/cleaned_raw_AC9_071618_cbr_raw_c_2_T17_5.csv', '/Users/Petrichor/Documents/FreshwatersOpticsToolkit/Data/1_2_cleaned_originals/cleaned_raw_AC9_071618_cbr_raw_c_3_T17_5.csv']\n",
      "Attenuation\n",
      "['/Users/Petrichor/Documents/FreshwatersOpticsToolkit/Data/1_2_cleaned_originals/cleaned_raw_AC9_071918_y17_fil_a_1_T18_3.csv', '/Users/Petrichor/Documents/FreshwatersOpticsToolkit/Data/1_2_cleaned_originals/cleaned_raw_AC9_071918_y17_fil_a_2_T18_0.csv', '/Users/Petrichor/Documents/FreshwatersOpticsToolkit/Data/1_2_cleaned_originals/cleaned_raw_AC9_071918_y17_fil_a_3_T17_9.csv']\n",
      "Absorption\n",
      "['/Users/Petrichor/Documents/FreshwatersOpticsToolkit/Data/1_2_cleaned_originals/cleaned_raw_AC9_071918_y17_fil_c_1_T18_3.csv', '/Users/Petrichor/Documents/FreshwatersOpticsToolkit/Data/1_2_cleaned_originals/cleaned_raw_AC9_071918_y17_fil_c_2_T18_0.csv', '/Users/Petrichor/Documents/FreshwatersOpticsToolkit/Data/1_2_cleaned_originals/cleaned_raw_AC9_071918_y17_fil_c_3_T17_9.csv']\n",
      "Attenuation\n",
      "['/Users/Petrichor/Documents/FreshwatersOpticsToolkit/Data/1_2_cleaned_originals/cleaned_raw_AC9_071418_bai_fil_a_1_T13_4.csv', '/Users/Petrichor/Documents/FreshwatersOpticsToolkit/Data/1_2_cleaned_originals/cleaned_raw_AC9_071418_bai_fil_a_2_T19_2.csv', '/Users/Petrichor/Documents/FreshwatersOpticsToolkit/Data/1_2_cleaned_originals/cleaned_raw_AC9_071418_bai_fil_a_3_T18_5.csv', '/Users/Petrichor/Documents/FreshwatersOpticsToolkit/Data/1_2_cleaned_originals/cleaned_raw_AC9_071418_bai_raw_a_1_T19_8.csv', '/Users/Petrichor/Documents/FreshwatersOpticsToolkit/Data/1_2_cleaned_originals/cleaned_raw_AC9_071418_bai_raw_a_2_T19_8.csv', '/Users/Petrichor/Documents/FreshwatersOpticsToolkit/Data/1_2_cleaned_originals/cleaned_raw_AC9_071418_bai_raw_a_3_T17_8.csv']\n",
      "Absorption\n",
      "['/Users/Petrichor/Documents/FreshwatersOpticsToolkit/Data/1_2_cleaned_originals/cleaned_raw_AC9_071418_bai_fil_c_1_T13_4.csv', '/Users/Petrichor/Documents/FreshwatersOpticsToolkit/Data/1_2_cleaned_originals/cleaned_raw_AC9_071418_bai_fil_c_2_T19_2.csv', '/Users/Petrichor/Documents/FreshwatersOpticsToolkit/Data/1_2_cleaned_originals/cleaned_raw_AC9_071418_bai_fil_c_3_T18_5.csv', '/Users/Petrichor/Documents/FreshwatersOpticsToolkit/Data/1_2_cleaned_originals/cleaned_raw_AC9_071418_bai_raw_c_1_T19_8.csv', '/Users/Petrichor/Documents/FreshwatersOpticsToolkit/Data/1_2_cleaned_originals/cleaned_raw_AC9_071418_bai_raw_c_2_T19_8.csv', '/Users/Petrichor/Documents/FreshwatersOpticsToolkit/Data/1_2_cleaned_originals/cleaned_raw_AC9_071418_bai_raw_c_3_T17_8.csv']\n",
      "Attenuation\n",
      "['/Users/Petrichor/Documents/FreshwatersOpticsToolkit/Data/1_2_cleaned_originals/cleaned_raw_AC9_072118_fav_cal_a_1_T26_3.csv']\n",
      "Absorption\n",
      "['/Users/Petrichor/Documents/FreshwatersOpticsToolkit/Data/1_2_cleaned_originals/cleaned_raw_AC9_072118_fav_cal_c_1_T26_3.csv']\n",
      "Attenuation\n",
      "['/Users/Petrichor/Documents/FreshwatersOpticsToolkit/Data/1_2_cleaned_originals/cleaned_raw_AC9_071718_sco_fil_a_2_T17_7.csv', '/Users/Petrichor/Documents/FreshwatersOpticsToolkit/Data/1_2_cleaned_originals/cleaned_raw_AC9_071718_sco_fil_a_3_T17_7.csv', '/Users/Petrichor/Documents/FreshwatersOpticsToolkit/Data/1_2_cleaned_originals/cleaned_raw_AC9_071718_sco_raw_a_1_T18_3.csv', '/Users/Petrichor/Documents/FreshwatersOpticsToolkit/Data/1_2_cleaned_originals/cleaned_raw_AC9_071718_sco_raw_a_2_T18_3.csv', '/Users/Petrichor/Documents/FreshwatersOpticsToolkit/Data/1_2_cleaned_originals/cleaned_raw_AC9_071718_sco_raw_a_3_T18_3.csv']\n",
      "Absorption\n",
      "['/Users/Petrichor/Documents/FreshwatersOpticsToolkit/Data/1_2_cleaned_originals/cleaned_raw_AC9_071718_sco_fil_c_2_T17_7.csv', '/Users/Petrichor/Documents/FreshwatersOpticsToolkit/Data/1_2_cleaned_originals/cleaned_raw_AC9_071718_sco_fil_c_3_T17_7.csv', '/Users/Petrichor/Documents/FreshwatersOpticsToolkit/Data/1_2_cleaned_originals/cleaned_raw_AC9_071718_sco_raw_c_1_T18_3.csv', '/Users/Petrichor/Documents/FreshwatersOpticsToolkit/Data/1_2_cleaned_originals/cleaned_raw_AC9_071718_sco_raw_c_2_T18_3.csv', '/Users/Petrichor/Documents/FreshwatersOpticsToolkit/Data/1_2_cleaned_originals/cleaned_raw_AC9_071718_sco_raw_c_3_T18_3.csv']\n",
      "Attenuation\n",
      "['/Users/Petrichor/Documents/FreshwatersOpticsToolkit/Data/1_2_cleaned_originals/cleaned_raw_AC9_071918_y20_fil_a_1_T17_7.csv', '/Users/Petrichor/Documents/FreshwatersOpticsToolkit/Data/1_2_cleaned_originals/cleaned_raw_AC9_071918_y20_fil_a_2_T17_8.csv', '/Users/Petrichor/Documents/FreshwatersOpticsToolkit/Data/1_2_cleaned_originals/cleaned_raw_AC9_071918_y20_fil_a_3_T17_6.csv', '/Users/Petrichor/Documents/FreshwatersOpticsToolkit/Data/1_2_cleaned_originals/cleaned_raw_AC9_071918_y20_fil_a_4_T17_5.csv']\n",
      "Absorption\n",
      "['/Users/Petrichor/Documents/FreshwatersOpticsToolkit/Data/1_2_cleaned_originals/cleaned_raw_AC9_071918_y20_fil_c_1_T17_7.csv', '/Users/Petrichor/Documents/FreshwatersOpticsToolkit/Data/1_2_cleaned_originals/cleaned_raw_AC9_071918_y20_fil_c_2_T17_8.csv', '/Users/Petrichor/Documents/FreshwatersOpticsToolkit/Data/1_2_cleaned_originals/cleaned_raw_AC9_071918_y20_fil_c_3_T17_6.csv', '/Users/Petrichor/Documents/FreshwatersOpticsToolkit/Data/1_2_cleaned_originals/cleaned_raw_AC9_071918_y20_fil_c_4_T17_5.csv']\n",
      "Attenuation\n",
      "['/Users/Petrichor/Documents/FreshwatersOpticsToolkit/Data/1_2_cleaned_originals/cleaned_raw_AC9_071918_cbr_fil_a_1_T19_8.csv', '/Users/Petrichor/Documents/FreshwatersOpticsToolkit/Data/1_2_cleaned_originals/cleaned_raw_AC9_071918_cbr_fil_a_2_T19_8.csv', '/Users/Petrichor/Documents/FreshwatersOpticsToolkit/Data/1_2_cleaned_originals/cleaned_raw_AC9_071918_cbr_fil_a_3_T19_2.csv', '/Users/Petrichor/Documents/FreshwatersOpticsToolkit/Data/1_2_cleaned_originals/cleaned_raw_AC9_071918_cbr_raw_a_2_T16_1.csv', '/Users/Petrichor/Documents/FreshwatersOpticsToolkit/Data/1_2_cleaned_originals/cleaned_raw_AC9_071918_cbr_raw_a_3_T16_1.csv', '/Users/Petrichor/Documents/FreshwatersOpticsToolkit/Data/1_2_cleaned_originals/cleaned_raw_AC9_071918_cbr_raw_a_4_T16_1.csv']\n",
      "Absorption\n",
      "['/Users/Petrichor/Documents/FreshwatersOpticsToolkit/Data/1_2_cleaned_originals/cleaned_raw_AC9_071918_cbr_fil_c_1_T19_8.csv', '/Users/Petrichor/Documents/FreshwatersOpticsToolkit/Data/1_2_cleaned_originals/cleaned_raw_AC9_071918_cbr_fil_c_2_T19_8.csv', '/Users/Petrichor/Documents/FreshwatersOpticsToolkit/Data/1_2_cleaned_originals/cleaned_raw_AC9_071918_cbr_fil_c_3_T19_2.csv', '/Users/Petrichor/Documents/FreshwatersOpticsToolkit/Data/1_2_cleaned_originals/cleaned_raw_AC9_071918_cbr_raw_c_2_T16_1.csv', '/Users/Petrichor/Documents/FreshwatersOpticsToolkit/Data/1_2_cleaned_originals/cleaned_raw_AC9_071918_cbr_raw_c_3_T16_1.csv', '/Users/Petrichor/Documents/FreshwatersOpticsToolkit/Data/1_2_cleaned_originals/cleaned_raw_AC9_071918_cbr_raw_c_4_T16_1.csv']\n",
      "Attenuation\n",
      "['/Users/Petrichor/Documents/FreshwatersOpticsToolkit/Data/1_2_cleaned_originals/cleaned_raw_AC9_072118_fai_cal_a_1_T26_7.csv', '/Users/Petrichor/Documents/FreshwatersOpticsToolkit/Data/1_2_cleaned_originals/cleaned_raw_AC9_072118_fai_cal_a_2_T25_7.csv', '/Users/Petrichor/Documents/FreshwatersOpticsToolkit/Data/1_2_cleaned_originals/cleaned_raw_AC9_072118_fai_cal_a_3_T25_4.csv']\n",
      "Absorption\n",
      "['/Users/Petrichor/Documents/FreshwatersOpticsToolkit/Data/1_2_cleaned_originals/cleaned_raw_AC9_072118_fai_cal_c_1_T26_7.csv', '/Users/Petrichor/Documents/FreshwatersOpticsToolkit/Data/1_2_cleaned_originals/cleaned_raw_AC9_072118_fai_cal_c_2_T25_7.csv', '/Users/Petrichor/Documents/FreshwatersOpticsToolkit/Data/1_2_cleaned_originals/cleaned_raw_AC9_072118_fai_cal_c_3_T25_4.csv']\n",
      "Attenuation\n",
      "['/Users/Petrichor/Documents/FreshwatersOpticsToolkit/Data/1_2_cleaned_originals/cleaned_raw_AC9_071318_bai_cal_a_1_T23_8.csv', '/Users/Petrichor/Documents/FreshwatersOpticsToolkit/Data/1_2_cleaned_originals/cleaned_raw_AC9_071318_bai_cal_a_2_T24_1.csv', '/Users/Petrichor/Documents/FreshwatersOpticsToolkit/Data/1_2_cleaned_originals/cleaned_raw_AC9_071318_bai_cal_a_3_T24_0.csv']\n",
      "Absorption\n",
      "['/Users/Petrichor/Documents/FreshwatersOpticsToolkit/Data/1_2_cleaned_originals/cleaned_raw_AC9_071318_bai_cal_c_1_T23_7.csv', '/Users/Petrichor/Documents/FreshwatersOpticsToolkit/Data/1_2_cleaned_originals/cleaned_raw_AC9_071318_bai_cal_c_2_T23_8.csv', '/Users/Petrichor/Documents/FreshwatersOpticsToolkit/Data/1_2_cleaned_originals/cleaned_raw_AC9_071318_bai_cal_c_3_T23_9.csv']\n",
      "Attenuation\n",
      "['/Users/Petrichor/Documents/FreshwatersOpticsToolkit/Data/1_2_cleaned_originals/cleaned_raw_AC9_071718_y17_fil_a_1_T17_4.csv', '/Users/Petrichor/Documents/FreshwatersOpticsToolkit/Data/1_2_cleaned_originals/cleaned_raw_AC9_071718_y17_fil_a_2_T17_4.csv', '/Users/Petrichor/Documents/FreshwatersOpticsToolkit/Data/1_2_cleaned_originals/cleaned_raw_AC9_071718_y17_raw_a_2_T17_1.csv', '/Users/Petrichor/Documents/FreshwatersOpticsToolkit/Data/1_2_cleaned_originals/cleaned_raw_AC9_071718_y17_raw_a_3_T17_1.csv', '/Users/Petrichor/Documents/FreshwatersOpticsToolkit/Data/1_2_cleaned_originals/cleaned_raw_AC9_071718_y17_raw_a_4_T17_1.csv']\n",
      "Absorption\n",
      "['/Users/Petrichor/Documents/FreshwatersOpticsToolkit/Data/1_2_cleaned_originals/cleaned_raw_AC9_071718_y17_fil_c_1_T17_4.csv', '/Users/Petrichor/Documents/FreshwatersOpticsToolkit/Data/1_2_cleaned_originals/cleaned_raw_AC9_071718_y17_fil_c_2_T17_4.csv', '/Users/Petrichor/Documents/FreshwatersOpticsToolkit/Data/1_2_cleaned_originals/cleaned_raw_AC9_071718_y17_raw_c_2_T17_1.csv', '/Users/Petrichor/Documents/FreshwatersOpticsToolkit/Data/1_2_cleaned_originals/cleaned_raw_AC9_071718_y17_raw_c_3_T17_1.csv', '/Users/Petrichor/Documents/FreshwatersOpticsToolkit/Data/1_2_cleaned_originals/cleaned_raw_AC9_071718_y17_raw_c_4_T17_1.csv']\n",
      "Attenuation\n",
      "['/Users/Petrichor/Documents/FreshwatersOpticsToolkit/Data/1_2_cleaned_originals/cleaned_raw_AC9_071818_boo_fil_a_1_T22_3.csv', '/Users/Petrichor/Documents/FreshwatersOpticsToolkit/Data/1_2_cleaned_originals/cleaned_raw_AC9_071818_boo_fil_a_2_T22_3.csv', '/Users/Petrichor/Documents/FreshwatersOpticsToolkit/Data/1_2_cleaned_originals/cleaned_raw_AC9_071818_boo_fil_a_3_T21_9.csv', '/Users/Petrichor/Documents/FreshwatersOpticsToolkit/Data/1_2_cleaned_originals/cleaned_raw_AC9_071818_boo_raw_a_1_T17_0.csv', '/Users/Petrichor/Documents/FreshwatersOpticsToolkit/Data/1_2_cleaned_originals/cleaned_raw_AC9_071818_boo_raw_a_2_T17_0.csv', '/Users/Petrichor/Documents/FreshwatersOpticsToolkit/Data/1_2_cleaned_originals/cleaned_raw_AC9_071818_boo_raw_a_3_T17_0.csv']\n",
      "Absorption\n",
      "['/Users/Petrichor/Documents/FreshwatersOpticsToolkit/Data/1_2_cleaned_originals/cleaned_raw_AC9_071818_boo_fil_c_1_T22_3.csv', '/Users/Petrichor/Documents/FreshwatersOpticsToolkit/Data/1_2_cleaned_originals/cleaned_raw_AC9_071818_boo_fil_c_2_T22_3.csv', '/Users/Petrichor/Documents/FreshwatersOpticsToolkit/Data/1_2_cleaned_originals/cleaned_raw_AC9_071818_boo_fil_c_3_T21_9.csv', '/Users/Petrichor/Documents/FreshwatersOpticsToolkit/Data/1_2_cleaned_originals/cleaned_raw_AC9_071818_boo_raw_c_1_T17_0.csv', '/Users/Petrichor/Documents/FreshwatersOpticsToolkit/Data/1_2_cleaned_originals/cleaned_raw_AC9_071818_boo_raw_c_2_T17_0.csv', '/Users/Petrichor/Documents/FreshwatersOpticsToolkit/Data/1_2_cleaned_originals/cleaned_raw_AC9_071818_boo_raw_c_3_T17_0.csv']\n",
      "Attenuation\n"
     ]
    }
   ],
   "source": [
    "sample_types = {'fil':\"Filtered\",'raw':'Unfiltered (Raw)','cal':\"Calibration\"}\n",
    "abs_types = {'a':'Absorption','c':'Attenuation'}\n",
    "\n",
    "for i in file_dict:\n",
    "    Date_all, Site_all = i.split('_')\n",
    "    plt.subplots(1, 2, figsize=(12, 5.5))\n",
    "    count = 0\n",
    "    for j in ['a','c']:\n",
    "        count += 1\n",
    "        print file_dict[i][j]\n",
    "        print abs_types[j]\n",
    "        #plt.subplot(1, 2, count)    \n",
    "        #my_plot = plotting_rolling_avg(file_dict[i][j], title=abs_types[j])\n",
    "        #dict_of_sampleids_and_plots[sampleid] = my_plot\n",
    "    plt.subplots_adjust(top=0.88, bottom=0.08, left=0.10, right=0.95, hspace=0.25,\n",
    "                    wspace=0.35)\n",
    "    #my_plot.suptitle('Site: '+Site_all+' '+'Date: '+Date_all, fontsize=20)\n",
    "    #my_plot.show()"
   ]
  },
  {
   "cell_type": "code",
   "execution_count": 42,
   "metadata": {
    "collapsed": false,
    "scrolled": true
   },
   "outputs": [
    {
     "name": "stdout",
     "output_type": "stream",
     "text": [
      "['/Users/Petrichor/Documents/FreshwatersOpticsToolkit/Data/1_2_cleaned_originals/cleaned_raw_AC9_071318_fai_cal_a_1_T23_8.csv', '/Users/Petrichor/Documents/FreshwatersOpticsToolkit/Data/1_2_cleaned_originals/cleaned_raw_AC9_071318_fai_cal_a_2_T24_1.csv', '/Users/Petrichor/Documents/FreshwatersOpticsToolkit/Data/1_2_cleaned_originals/cleaned_raw_AC9_071318_fai_cal_a_3_T24_0.csv']\n",
      "['/Users/Petrichor/Documents/FreshwatersOpticsToolkit/Data/1_2_cleaned_originals/cleaned_raw_AC9_071818_can_cal_a_1_T21_2.csv', '/Users/Petrichor/Documents/FreshwatersOpticsToolkit/Data/1_2_cleaned_originals/cleaned_raw_AC9_071818_can_cal_a_2_T21_2.csv', '/Users/Petrichor/Documents/FreshwatersOpticsToolkit/Data/1_2_cleaned_originals/cleaned_raw_AC9_071818_can_cal_a_3_T21_2.csv']\n",
      "['/Users/Petrichor/Documents/FreshwatersOpticsToolkit/Data/1_2_cleaned_originals/cleaned_raw_AC9_071718_y20_fil_a_1_T17_0.csv', '/Users/Petrichor/Documents/FreshwatersOpticsToolkit/Data/1_2_cleaned_originals/cleaned_raw_AC9_071718_y20_fil_a_2_T19_7.csv', '/Users/Petrichor/Documents/FreshwatersOpticsToolkit/Data/1_2_cleaned_originals/cleaned_raw_AC9_071718_y20_raw_a_1_T16_8.csv', '/Users/Petrichor/Documents/FreshwatersOpticsToolkit/Data/1_2_cleaned_originals/cleaned_raw_AC9_071718_y20_raw_a_2_T16_8.csv', '/Users/Petrichor/Documents/FreshwatersOpticsToolkit/Data/1_2_cleaned_originals/cleaned_raw_AC9_071718_y20_raw_a_3_T16_8.csv']\n",
      "['/Users/Petrichor/Documents/FreshwatersOpticsToolkit/Data/1_2_cleaned_originals/cleaned_raw_AC9_071718_9mi_cal_a_1_T19_0.csv', '/Users/Petrichor/Documents/FreshwatersOpticsToolkit/Data/1_2_cleaned_originals/cleaned_raw_AC9_071718_9mi_fil_a_1_T15_4.csv', '/Users/Petrichor/Documents/FreshwatersOpticsToolkit/Data/1_2_cleaned_originals/cleaned_raw_AC9_071718_9mi_fil_a_2_T15_4.csv', '/Users/Petrichor/Documents/FreshwatersOpticsToolkit/Data/1_2_cleaned_originals/cleaned_raw_AC9_071718_9mi_fil_a_3_T15_1.csv', '/Users/Petrichor/Documents/FreshwatersOpticsToolkit/Data/1_2_cleaned_originals/cleaned_raw_AC9_071718_9mi_raw_a_1_T17_4.csv', '/Users/Petrichor/Documents/FreshwatersOpticsToolkit/Data/1_2_cleaned_originals/cleaned_raw_AC9_071718_9mi_raw_a_2_T17_4.csv', '/Users/Petrichor/Documents/FreshwatersOpticsToolkit/Data/1_2_cleaned_originals/cleaned_raw_AC9_071718_9mi_raw_a_3_T17_4.csv']\n",
      "['/Users/Petrichor/Documents/FreshwatersOpticsToolkit/Data/1_2_cleaned_originals/cleaned_raw_AC9_081618_sea_cal_a_1_T18_5.csv', '/Users/Petrichor/Documents/FreshwatersOpticsToolkit/Data/1_2_cleaned_originals/cleaned_raw_AC9_081618_sea_cal_a_2_T18_5.csv', '/Users/Petrichor/Documents/FreshwatersOpticsToolkit/Data/1_2_cleaned_originals/cleaned_raw_AC9_081618_sea_cal_a_3_T18_5.csv', '/Users/Petrichor/Documents/FreshwatersOpticsToolkit/Data/1_2_cleaned_originals/cleaned_raw_AC9_081618_sea_cal_a_4_T18_5.csv']\n",
      "['/Users/Petrichor/Documents/FreshwatersOpticsToolkit/Data/1_2_cleaned_originals/cleaned_raw_AC9_071718_can_cal_a_1_T19_0.csv', '/Users/Petrichor/Documents/FreshwatersOpticsToolkit/Data/1_2_cleaned_originals/cleaned_raw_AC9_071718_can_cal_a_2_T19_0.csv', '/Users/Petrichor/Documents/FreshwatersOpticsToolkit/Data/1_2_cleaned_originals/cleaned_raw_AC9_071718_can_cal_a_3_T19_0.csv']\n",
      "['/Users/Petrichor/Documents/FreshwatersOpticsToolkit/Data/1_2_cleaned_originals/cleaned_raw_AC9_071818_gre_fil_a_1_T22_4.csv', '/Users/Petrichor/Documents/FreshwatersOpticsToolkit/Data/1_2_cleaned_originals/cleaned_raw_AC9_071818_gre_fil_a_2_T22_3.csv', '/Users/Petrichor/Documents/FreshwatersOpticsToolkit/Data/1_2_cleaned_originals/cleaned_raw_AC9_071818_gre_fil_a_3_T22_0.csv', '/Users/Petrichor/Documents/FreshwatersOpticsToolkit/Data/1_2_cleaned_originals/cleaned_raw_AC9_071818_gre_raw_a_1_T17_1.csv', '/Users/Petrichor/Documents/FreshwatersOpticsToolkit/Data/1_2_cleaned_originals/cleaned_raw_AC9_071818_gre_raw_a_2_T17_1.csv', '/Users/Petrichor/Documents/FreshwatersOpticsToolkit/Data/1_2_cleaned_originals/cleaned_raw_AC9_071818_gre_raw_a_3_T17_1.csv']\n",
      "['/Users/Petrichor/Documents/FreshwatersOpticsToolkit/Data/1_2_cleaned_originals/cleaned_raw_AC9_071918_can_cal_a_1_T21_6.csv', '/Users/Petrichor/Documents/FreshwatersOpticsToolkit/Data/1_2_cleaned_originals/cleaned_raw_AC9_071918_can_cal_a_2_T20_4.csv', '/Users/Petrichor/Documents/FreshwatersOpticsToolkit/Data/1_2_cleaned_originals/cleaned_raw_AC9_071918_can_cal_a_3_T20_1.csv']\n",
      "['/Users/Petrichor/Documents/FreshwatersOpticsToolkit/Data/1_2_cleaned_originals/cleaned_raw_AC9_070718_sea_cal_a_1_T20_6.csv', '/Users/Petrichor/Documents/FreshwatersOpticsToolkit/Data/1_2_cleaned_originals/cleaned_raw_AC9_070718_sea_cal_a_2_T20_9.csv', '/Users/Petrichor/Documents/FreshwatersOpticsToolkit/Data/1_2_cleaned_originals/cleaned_raw_AC9_070718_sea_cal_a_3_T20_9.csv']\n",
      "['/Users/Petrichor/Documents/FreshwatersOpticsToolkit/Data/1_2_cleaned_originals/cleaned_raw_AC9_071618_can_cal_a_1_T19_3.csv', '/Users/Petrichor/Documents/FreshwatersOpticsToolkit/Data/1_2_cleaned_originals/cleaned_raw_AC9_071618_can_cal_a_2_T19_9.csv', '/Users/Petrichor/Documents/FreshwatersOpticsToolkit/Data/1_2_cleaned_originals/cleaned_raw_AC9_071618_can_cal_a_3_T19_0.csv']\n",
      "['/Users/Petrichor/Documents/FreshwatersOpticsToolkit/Data/1_2_cleaned_originals/cleaned_raw_AC9_071618_cbr_cal_a_1_T19_9.csv', '/Users/Petrichor/Documents/FreshwatersOpticsToolkit/Data/1_2_cleaned_originals/cleaned_raw_AC9_071618_cbr_cal_a_2_T19_3.csv', '/Users/Petrichor/Documents/FreshwatersOpticsToolkit/Data/1_2_cleaned_originals/cleaned_raw_AC9_071618_cbr_cal_a_3_T19_0.csv', '/Users/Petrichor/Documents/FreshwatersOpticsToolkit/Data/1_2_cleaned_originals/cleaned_raw_AC9_071618_cbr_fil_a_1_T17_5.csv', '/Users/Petrichor/Documents/FreshwatersOpticsToolkit/Data/1_2_cleaned_originals/cleaned_raw_AC9_071618_cbr_fil_a_2_T17_5.csv', '/Users/Petrichor/Documents/FreshwatersOpticsToolkit/Data/1_2_cleaned_originals/cleaned_raw_AC9_071618_cbr_fil_a_3_T17_5.csv', '/Users/Petrichor/Documents/FreshwatersOpticsToolkit/Data/1_2_cleaned_originals/cleaned_raw_AC9_071618_cbr_raw_a_1_T17_5.csv', '/Users/Petrichor/Documents/FreshwatersOpticsToolkit/Data/1_2_cleaned_originals/cleaned_raw_AC9_071618_cbr_raw_a_2_T17_5.csv', '/Users/Petrichor/Documents/FreshwatersOpticsToolkit/Data/1_2_cleaned_originals/cleaned_raw_AC9_071618_cbr_raw_a_3_T17_5.csv']\n",
      "['/Users/Petrichor/Documents/FreshwatersOpticsToolkit/Data/1_2_cleaned_originals/cleaned_raw_AC9_071918_y17_fil_a_1_T18_3.csv', '/Users/Petrichor/Documents/FreshwatersOpticsToolkit/Data/1_2_cleaned_originals/cleaned_raw_AC9_071918_y17_fil_a_2_T18_0.csv', '/Users/Petrichor/Documents/FreshwatersOpticsToolkit/Data/1_2_cleaned_originals/cleaned_raw_AC9_071918_y17_fil_a_3_T17_9.csv']\n",
      "['/Users/Petrichor/Documents/FreshwatersOpticsToolkit/Data/1_2_cleaned_originals/cleaned_raw_AC9_071418_bai_fil_a_1_T13_4.csv', '/Users/Petrichor/Documents/FreshwatersOpticsToolkit/Data/1_2_cleaned_originals/cleaned_raw_AC9_071418_bai_fil_a_2_T19_2.csv', '/Users/Petrichor/Documents/FreshwatersOpticsToolkit/Data/1_2_cleaned_originals/cleaned_raw_AC9_071418_bai_fil_a_3_T18_5.csv', '/Users/Petrichor/Documents/FreshwatersOpticsToolkit/Data/1_2_cleaned_originals/cleaned_raw_AC9_071418_bai_raw_a_1_T19_8.csv', '/Users/Petrichor/Documents/FreshwatersOpticsToolkit/Data/1_2_cleaned_originals/cleaned_raw_AC9_071418_bai_raw_a_2_T19_8.csv', '/Users/Petrichor/Documents/FreshwatersOpticsToolkit/Data/1_2_cleaned_originals/cleaned_raw_AC9_071418_bai_raw_a_3_T17_8.csv']\n",
      "['/Users/Petrichor/Documents/FreshwatersOpticsToolkit/Data/1_2_cleaned_originals/cleaned_raw_AC9_072118_fav_cal_a_1_T26_3.csv']\n",
      "['/Users/Petrichor/Documents/FreshwatersOpticsToolkit/Data/1_2_cleaned_originals/cleaned_raw_AC9_071718_sco_fil_a_2_T17_7.csv', '/Users/Petrichor/Documents/FreshwatersOpticsToolkit/Data/1_2_cleaned_originals/cleaned_raw_AC9_071718_sco_fil_a_3_T17_7.csv', '/Users/Petrichor/Documents/FreshwatersOpticsToolkit/Data/1_2_cleaned_originals/cleaned_raw_AC9_071718_sco_raw_a_1_T18_3.csv', '/Users/Petrichor/Documents/FreshwatersOpticsToolkit/Data/1_2_cleaned_originals/cleaned_raw_AC9_071718_sco_raw_a_2_T18_3.csv', '/Users/Petrichor/Documents/FreshwatersOpticsToolkit/Data/1_2_cleaned_originals/cleaned_raw_AC9_071718_sco_raw_a_3_T18_3.csv']\n",
      "['/Users/Petrichor/Documents/FreshwatersOpticsToolkit/Data/1_2_cleaned_originals/cleaned_raw_AC9_071918_y20_fil_a_1_T17_7.csv', '/Users/Petrichor/Documents/FreshwatersOpticsToolkit/Data/1_2_cleaned_originals/cleaned_raw_AC9_071918_y20_fil_a_2_T17_8.csv', '/Users/Petrichor/Documents/FreshwatersOpticsToolkit/Data/1_2_cleaned_originals/cleaned_raw_AC9_071918_y20_fil_a_3_T17_6.csv', '/Users/Petrichor/Documents/FreshwatersOpticsToolkit/Data/1_2_cleaned_originals/cleaned_raw_AC9_071918_y20_fil_a_4_T17_5.csv']\n",
      "['/Users/Petrichor/Documents/FreshwatersOpticsToolkit/Data/1_2_cleaned_originals/cleaned_raw_AC9_071918_cbr_fil_a_1_T19_8.csv', '/Users/Petrichor/Documents/FreshwatersOpticsToolkit/Data/1_2_cleaned_originals/cleaned_raw_AC9_071918_cbr_fil_a_2_T19_8.csv', '/Users/Petrichor/Documents/FreshwatersOpticsToolkit/Data/1_2_cleaned_originals/cleaned_raw_AC9_071918_cbr_fil_a_3_T19_2.csv', '/Users/Petrichor/Documents/FreshwatersOpticsToolkit/Data/1_2_cleaned_originals/cleaned_raw_AC9_071918_cbr_raw_a_2_T16_1.csv', '/Users/Petrichor/Documents/FreshwatersOpticsToolkit/Data/1_2_cleaned_originals/cleaned_raw_AC9_071918_cbr_raw_a_3_T16_1.csv', '/Users/Petrichor/Documents/FreshwatersOpticsToolkit/Data/1_2_cleaned_originals/cleaned_raw_AC9_071918_cbr_raw_a_4_T16_1.csv']\n",
      "['/Users/Petrichor/Documents/FreshwatersOpticsToolkit/Data/1_2_cleaned_originals/cleaned_raw_AC9_072118_fai_cal_a_1_T26_7.csv', '/Users/Petrichor/Documents/FreshwatersOpticsToolkit/Data/1_2_cleaned_originals/cleaned_raw_AC9_072118_fai_cal_a_2_T25_7.csv', '/Users/Petrichor/Documents/FreshwatersOpticsToolkit/Data/1_2_cleaned_originals/cleaned_raw_AC9_072118_fai_cal_a_3_T25_4.csv']\n",
      "['/Users/Petrichor/Documents/FreshwatersOpticsToolkit/Data/1_2_cleaned_originals/cleaned_raw_AC9_071318_bai_cal_a_1_T23_8.csv', '/Users/Petrichor/Documents/FreshwatersOpticsToolkit/Data/1_2_cleaned_originals/cleaned_raw_AC9_071318_bai_cal_a_2_T24_1.csv', '/Users/Petrichor/Documents/FreshwatersOpticsToolkit/Data/1_2_cleaned_originals/cleaned_raw_AC9_071318_bai_cal_a_3_T24_0.csv']\n",
      "['/Users/Petrichor/Documents/FreshwatersOpticsToolkit/Data/1_2_cleaned_originals/cleaned_raw_AC9_071718_y17_fil_a_1_T17_4.csv', '/Users/Petrichor/Documents/FreshwatersOpticsToolkit/Data/1_2_cleaned_originals/cleaned_raw_AC9_071718_y17_fil_a_2_T17_4.csv', '/Users/Petrichor/Documents/FreshwatersOpticsToolkit/Data/1_2_cleaned_originals/cleaned_raw_AC9_071718_y17_raw_a_2_T17_1.csv', '/Users/Petrichor/Documents/FreshwatersOpticsToolkit/Data/1_2_cleaned_originals/cleaned_raw_AC9_071718_y17_raw_a_3_T17_1.csv', '/Users/Petrichor/Documents/FreshwatersOpticsToolkit/Data/1_2_cleaned_originals/cleaned_raw_AC9_071718_y17_raw_a_4_T17_1.csv']\n",
      "['/Users/Petrichor/Documents/FreshwatersOpticsToolkit/Data/1_2_cleaned_originals/cleaned_raw_AC9_071818_boo_fil_a_1_T22_3.csv', '/Users/Petrichor/Documents/FreshwatersOpticsToolkit/Data/1_2_cleaned_originals/cleaned_raw_AC9_071818_boo_fil_a_2_T22_3.csv', '/Users/Petrichor/Documents/FreshwatersOpticsToolkit/Data/1_2_cleaned_originals/cleaned_raw_AC9_071818_boo_fil_a_3_T21_9.csv', '/Users/Petrichor/Documents/FreshwatersOpticsToolkit/Data/1_2_cleaned_originals/cleaned_raw_AC9_071818_boo_raw_a_1_T17_0.csv', '/Users/Petrichor/Documents/FreshwatersOpticsToolkit/Data/1_2_cleaned_originals/cleaned_raw_AC9_071818_boo_raw_a_2_T17_0.csv', '/Users/Petrichor/Documents/FreshwatersOpticsToolkit/Data/1_2_cleaned_originals/cleaned_raw_AC9_071818_boo_raw_a_3_T17_0.csv']\n"
     ]
    }
   ],
   "source": [
    "for i in file_dict:\n",
    "    print file_dict[i]['a']"
   ]
  },
  {
   "cell_type": "code",
   "execution_count": null,
   "metadata": {
    "collapsed": true
   },
   "outputs": [],
   "source": [
    "    Sample_Type = row['Sample_Type']\n",
    "    if Sample_Type == 'fil':\n",
    "        linestyle = '--'\n",
    "    if Sample_Type == 'raw':\n",
    "        linestyle = '-'\n",
    "    if Sample_Type == 'cal':\n",
    "        linestyle = ':'\n",
    "    print row['Cleaned_raw_file_path']"
   ]
  },
  {
   "cell_type": "code",
   "execution_count": 11,
   "metadata": {
    "collapsed": false
   },
   "outputs": [
    {
     "ename": "NameError",
     "evalue": "name 'example_std' is not defined",
     "output_type": "error",
     "traceback": [
      "\u001b[0;31m---------------------------------------------------------------------------\u001b[0m",
      "\u001b[0;31mNameError\u001b[0m                                 Traceback (most recent call last)",
      "\u001b[0;32m<ipython-input-11-125a6a8142aa>\u001b[0m in \u001b[0;36m<module>\u001b[0;34m()\u001b[0m\n\u001b[0;32m----> 1\u001b[0;31m \u001b[0mplt\u001b[0m\u001b[0;34m.\u001b[0m\u001b[0mplot\u001b[0m\u001b[0;34m(\u001b[0m\u001b[0;34m'time'\u001b[0m\u001b[0;34m,\u001b[0m\u001b[0;34m'mean'\u001b[0m\u001b[0;34m,\u001b[0m\u001b[0mdata\u001b[0m\u001b[0;34m=\u001b[0m\u001b[0mexample_std\u001b[0m\u001b[0;34m)\u001b[0m\u001b[0;34m\u001b[0m\u001b[0m\n\u001b[0m\u001b[1;32m      2\u001b[0m \u001b[0mplt\u001b[0m\u001b[0;34m.\u001b[0m\u001b[0mshow\u001b[0m\u001b[0;34m(\u001b[0m\u001b[0;34m)\u001b[0m\u001b[0;34m\u001b[0m\u001b[0m\n",
      "\u001b[0;31mNameError\u001b[0m: name 'example_std' is not defined"
     ]
    }
   ],
   "source": [
    "plt.plot('time','mean',data=example_std)\n",
    "plt.show()"
   ]
  },
  {
   "cell_type": "code",
   "execution_count": null,
   "metadata": {
    "collapsed": false
   },
   "outputs": [],
   "source": [
    "for i in wavelengths:\n",
    "    plt.plot('time',i,data=example_std)\n",
    "plt.show()"
   ]
  },
  {
   "cell_type": "code",
   "execution_count": null,
   "metadata": {
    "collapsed": false
   },
   "outputs": [],
   "source": [
    "print nrows-50\n",
    "print (nrows-50)/5"
   ]
  },
  {
   "cell_type": "code",
   "execution_count": null,
   "metadata": {
    "collapsed": false
   },
   "outputs": [],
   "source": [
    "time_range = 50\n",
    "time_step = 5\n",
    "for i in range((nrows-time_range)/time_step):\n",
    "    print i+1"
   ]
  },
  {
   "cell_type": "code",
   "execution_count": null,
   "metadata": {
    "collapsed": true
   },
   "outputs": [],
   "source": [
    "import matplotlib.pylab as plt"
   ]
  },
  {
   "cell_type": "code",
   "execution_count": null,
   "metadata": {
    "collapsed": true
   },
   "outputs": [],
   "source": [
    "def plotting_absorption(list_of_files, title='Title'):\n",
    "    j = 0\n",
    "    x = []\n",
    "    y = []\n",
    "    labels_list = []\n",
    "    for filename in range(len(list_of_files)):   \n",
    "            df = pd.read_csv(list_of_files[filename], skiprows = 0, delimiter= '\\t')         \n",
    "            df.reset_index(inplace=True, drop=False)\n",
    "            df.rename(columns = {'c_mean':'mean', 'a_mean':'mean', 'c_std':'std','a_std':'std'}, inplace = True)\n",
    "            Sensor, Date, Site, Sample_Type, Abs_Type, Rep, T1, T2= list_of_files[filename].split('/')[-1].split('.')[0].split('_')\n",
    "            repname = 'Rep '+Rep\n",
    "            labels_list.append(repname)\n",
    "            plt.plot('wl','mean',data=df,label=repname)\n",
    "            #plt.scatter('wl', 'a_mean', data = df)\n",
    "            plt.errorbar('wl', 'mean', yerr='std', fmt='k-', linewidth=0.5, data = df) \n",
    "    plt.ylabel('a [1/m]')\n",
    "    plt.title(title)\n",
    "    plt.legend(labels_list)\n",
    "    return plt"
   ]
  }
 ],
 "metadata": {
  "kernelspec": {
   "display_name": "Python 2",
   "language": "python",
   "name": "python2"
  },
  "language_info": {
   "codemirror_mode": {
    "name": "ipython",
    "version": 2
   },
   "file_extension": ".py",
   "mimetype": "text/x-python",
   "name": "python",
   "nbconvert_exporter": "python",
   "pygments_lexer": "ipython2",
   "version": "2.7.9"
  }
 },
 "nbformat": 4,
 "nbformat_minor": 2
}
