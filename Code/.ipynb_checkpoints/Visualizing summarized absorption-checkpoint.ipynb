{
 "cells": [
  {
   "cell_type": "code",
   "execution_count": 83,
   "metadata": {
    "collapsed": false,
    "deletable": true,
    "editable": true
   },
   "outputs": [
    {
     "name": "stderr",
     "output_type": "stream",
     "text": [
      "Warning message in file(file, \"rt\"):\n",
      "“cannot open file '../Data/4_overall_summary/Vical_summary.csv': No such file or directory”"
     ]
    },
    {
     "ename": "ERROR",
     "evalue": "Error in file(file, \"rt\"): cannot open the connection\n",
     "output_type": "error",
     "traceback": [
      "Error in file(file, \"rt\"): cannot open the connection\nTraceback:\n",
      "1. read.table(\"../Data/4_overall_summary/Vical_summary.csv\", sep = \"\\t\", \n .     header = T)",
      "2. file(file, \"rt\")"
     ]
    }
   ],
   "source": [
    "vical <- read.table(\"../Data/5_overall_summary/Vical_summary.csv\", sep=\"\\t\", header=T)\n",
    "raw <- read.table(\"../Data/5_overall_summary/Raw_summary.csv\",  sep=\"\\t\", header=T)\n",
    "fil <- read.table(\"../Data/5_overall_summary/Fil_summary.csv\", sep=\"\\t\", header=T)"
   ]
  },
  {
   "cell_type": "code",
   "execution_count": null,
   "metadata": {
    "collapsed": false,
    "deletable": true,
    "editable": true
   },
   "outputs": [],
   "source": [
    "library(reshape2)\n",
    "melt_vical <- melt(vical, id.vars=c(\"X\"))\n",
    "melt_raw <- melt(raw, id.vars=c(\"X\"))\n",
    "melt_fil <- melt(fil, id.vars=c(\"X\"))"
   ]
  },
  {
   "cell_type": "code",
   "execution_count": null,
   "metadata": {
    "collapsed": false,
    "deletable": true,
    "editable": true
   },
   "outputs": [],
   "source": [
    "library(dplyr)\n",
    "library(tidyr)"
   ]
  },
  {
   "cell_type": "code",
   "execution_count": null,
   "metadata": {
    "collapsed": false,
    "deletable": true,
    "editable": true
   },
   "outputs": [],
   "source": [
    "melt_vical <- melt_vical %>% separate(variable, \n",
    "                c(\"Sample_Type\", \"Wavelength\",\"mean_or_sd\"))\n",
    "melt_raw <- melt_raw %>% separate(variable, \n",
    "                c(\"Sample_Type\", \"Wavelength\",\"mean_or_sd\"))\n",
    "melt_fil <- melt_fil %>% separate(variable, \n",
    "                c(\"Sample_Type\", \"Wavelength\",\"mean_or_sd\"))"
   ]
  },
  {
   "cell_type": "code",
   "execution_count": null,
   "metadata": {
    "collapsed": false,
    "deletable": true,
    "editable": true
   },
   "outputs": [],
   "source": [
    "shaped_vical <- dcast(melt_vical, X+Wavelength~Sample_Type+mean_or_sd)\n",
    "shaped_raw <- dcast(melt_raw, X+Wavelength~Sample_Type+mean_or_sd)\n",
    "shaped_fil <- dcast(melt_fil, X+Wavelength~Sample_Type+mean_or_sd)"
   ]
  },
  {
   "cell_type": "code",
   "execution_count": null,
   "metadata": {
    "collapsed": false,
    "deletable": true,
    "editable": true
   },
   "outputs": [],
   "source": [
    "library(ggplot2)\n",
    "theme_set(theme_classic())"
   ]
  },
  {
   "cell_type": "code",
   "execution_count": null,
   "metadata": {
    "collapsed": false,
    "deletable": true,
    "editable": true
   },
   "outputs": [],
   "source": [
    "shaped_vical[shaped_vical$c_mean<=0,]"
   ]
  },
  {
   "cell_type": "markdown",
   "metadata": {
    "deletable": true,
    "editable": true
   },
   "source": [
    "### Vicariously calibrated"
   ]
  },
  {
   "cell_type": "code",
   "execution_count": null,
   "metadata": {
    "collapsed": false,
    "deletable": true,
    "editable": true
   },
   "outputs": [],
   "source": [
    "options(repr.plot.width=5, repr.plot.height=4, repr.plot.res = 300)\n",
    "ggplot(shaped_vical, aes(x=Wavelength, y=a_mean, group=X, color=X)) +\n",
    "    geom_point() +\n",
    "    geom_line() +\n",
    "    labs(color=\"Lake\",y=\"Absorption (1/a m)\", title=\"Particulate (Vicariously calibrated)\")"
   ]
  },
  {
   "cell_type": "code",
   "execution_count": null,
   "metadata": {
    "collapsed": false,
    "deletable": true,
    "editable": true
   },
   "outputs": [],
   "source": [
    "options(repr.plot.width=7, repr.plot.height=5, repr.plot.res = 300)\n",
    "ggplot(shaped_raw, aes(x=Wavelength, y=a_mean, group=X, color=X)) +\n",
    "    geom_point() +\n",
    "    geom_line() +\n",
    "    labs(color=\"Lake\",y=\"Absorption (1/a m)\", title=\"Unfiltered (Raw)\")"
   ]
  },
  {
   "cell_type": "code",
   "execution_count": null,
   "metadata": {
    "collapsed": false,
    "deletable": true,
    "editable": true
   },
   "outputs": [],
   "source": [
    "options(repr.plot.width=7, repr.plot.height=5, repr.plot.res = 300)\n",
    "ggplot(shaped_fil, aes(x=Wavelength, y=a_mean, group=X, color=X)) +\n",
    "    geom_point() +\n",
    "    geom_line() +\n",
    "    labs(color=\"Lake\",y=\"Absorption (1/a m)\", title=\"Filtered\")"
   ]
  }
 ],
 "metadata": {
  "kernelspec": {
   "display_name": "R",
   "language": "R",
   "name": "ir"
  },
  "language_info": {
   "codemirror_mode": "r",
   "file_extension": ".r",
   "mimetype": "text/x-r-source",
   "name": "R",
   "pygments_lexer": "r",
   "version": "3.4.3"
  }
 },
 "nbformat": 4,
 "nbformat_minor": 2
}
