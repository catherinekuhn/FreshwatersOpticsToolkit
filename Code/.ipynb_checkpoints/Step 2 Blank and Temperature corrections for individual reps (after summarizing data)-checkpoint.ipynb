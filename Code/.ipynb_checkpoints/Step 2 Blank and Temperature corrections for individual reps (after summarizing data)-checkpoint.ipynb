{
 "cells": [
  {
   "cell_type": "markdown",
   "metadata": {},
   "source": [
    "### Importing libraries"
   ]
  },
  {
   "cell_type": "code",
   "execution_count": 1,
   "metadata": {
    "collapsed": true
   },
   "outputs": [],
   "source": [
    "### Import the required python libraries\n",
    "import numpy as np\n",
    "import pandas as pd\n",
    "import matplotlib.pylab as plt\n",
    "import glob\n",
    "import os\n",
    "import sys\n",
    "import csv\n",
    "from scipy import interpolate\n",
    "from os import listdir\n",
    "from os.path import isfile, join\n",
    "import matplotlib.gridspec as gridspec\n",
    "import inspect\n",
    "from scipy import interpolate"
   ]
  },
  {
   "cell_type": "code",
   "execution_count": 2,
   "metadata": {
    "collapsed": false
   },
   "outputs": [
    {
     "name": "stdout",
     "output_type": "stream",
     "text": [
      "get_id\n",
      "make_dir\n",
      "plotting_multiple_files\n"
     ]
    }
   ],
   "source": [
    "from fopt_toolkit import fopt_toolkit as fp\n",
    "for i in inspect.getmembers(fp, inspect.isfunction):\n",
    "    print i[0]"
   ]
  },
  {
   "cell_type": "markdown",
   "metadata": {},
   "source": [
    "### Get dataframe with metadata information, including sample temperatures and summary data filepaths"
   ]
  },
  {
   "cell_type": "code",
   "execution_count": 3,
   "metadata": {
    "collapsed": true
   },
   "outputs": [],
   "source": [
    "metadata_updated = pd.read_csv('../Metadata/project_metadata_updated.csv',dtype={'Date': object, 'Rep':object}, skiprows=0, delimiter= '\\t')"
   ]
  },
  {
   "cell_type": "markdown",
   "metadata": {},
   "source": [
    "## For each wavelength for each file"
   ]
  },
  {
   "cell_type": "markdown",
   "metadata": {},
   "source": [
    "** Blank-corrected a or c =  (mean_a_or_c_of_sample - mean_a_or_c_of_blank) **"
   ]
  },
  {
   "cell_type": "markdown",
   "metadata": {},
   "source": [
    "** Temp-corrected a or c = Blank-corrected a or c - (Phi_temp * (Sample_temp - Blank_temp)) **"
   ]
  },
  {
   "cell_type": "markdown",
   "metadata": {},
   "source": [
    "** Corrected = (sample_mean-blank_mean) - (phi_temp * (sample_temp-blank_temp)) **"
   ]
  },
  {
   "cell_type": "markdown",
   "metadata": {},
   "source": [
    "## Blank correction"
   ]
  },
  {
   "cell_type": "markdown",
   "metadata": {},
   "source": [
    "### Get blank values to use for blank correction"
   ]
  },
  {
   "cell_type": "markdown",
   "metadata": {},
   "source": [
    "** Which samples to use for blank correction? The cleanest of them all! Based on graphs, these are they: **"
   ]
  },
  {
   "cell_type": "code",
   "execution_count": 4,
   "metadata": {
    "collapsed": true
   },
   "outputs": [],
   "source": [
    "cleanest_a = 'AC9_070718_sea_cal_a_3_T20_9'\n",
    "cleanest_c = 'AC9_070718_sea_cal_c_3_T20_6'"
   ]
  },
  {
   "cell_type": "markdown",
   "metadata": {},
   "source": [
    "** Get dataframes for these samples **"
   ]
  },
  {
   "cell_type": "code",
   "execution_count": 5,
   "metadata": {
    "collapsed": false
   },
   "outputs": [],
   "source": [
    "cleanest_a_filepath = list(metadata_updated.loc[metadata_updated.ID == cleanest_a, 'Summary_file_path'])[0]\n",
    "cleanest_c_filepath = list(metadata_updated.loc[metadata_updated.ID == cleanest_c, 'Summary_file_path'])[0]\n"
   ]
  },
  {
   "cell_type": "code",
   "execution_count": 6,
   "metadata": {
    "collapsed": false
   },
   "outputs": [],
   "source": [
    "cleanest_a_df = pd.read_csv(cleanest_a_filepath,skiprows = 0, delimiter= '\\t') \n",
    "cleanest_c_df = pd.read_csv(cleanest_c_filepath,skiprows = 0, delimiter= '\\t') "
   ]
  },
  {
   "cell_type": "code",
   "execution_count": 7,
   "metadata": {
    "collapsed": false
   },
   "outputs": [],
   "source": [
    "cleanmeans_a = list(cleanest_a_df['a_mean'])\n",
    "cleanmeans_c = list(cleanest_c_df['c_mean'])"
   ]
  },
  {
   "cell_type": "markdown",
   "metadata": {},
   "source": [
    "** Get temps for these samples **"
   ]
  },
  {
   "cell_type": "code",
   "execution_count": 8,
   "metadata": {
    "collapsed": false
   },
   "outputs": [],
   "source": [
    "cleana_temp = metadata_updated.loc[metadata_updated.ID==cleanest_a,'Temp'].item()\n",
    "cleanc_temp = metadata_updated.loc[metadata_updated.ID==cleanest_c,'Temp'].item()"
   ]
  },
  {
   "cell_type": "markdown",
   "metadata": {},
   "source": [
    "## Temperature correction values"
   ]
  },
  {
   "cell_type": "code",
   "execution_count": 9,
   "metadata": {
    "collapsed": true
   },
   "outputs": [],
   "source": [
    "sullivan_chart = pd.read_csv('../Metadata/sullivan_chart_ac9.csv', skiprows=0, delimiter= '\\t')"
   ]
  },
  {
   "cell_type": "code",
   "execution_count": 10,
   "metadata": {
    "collapsed": false
   },
   "outputs": [],
   "source": [
    "phi_t = list(sullivan_chart['phi_t'])"
   ]
  },
  {
   "cell_type": "code",
   "execution_count": 11,
   "metadata": {
    "collapsed": false
   },
   "outputs": [
    {
     "data": {
      "text/plain": [
       "[0.0, 0.0, 0.0, 0.0001, 0.0, 0.0, 0.0, -0.0001, 0.00415]"
      ]
     },
     "execution_count": 11,
     "metadata": {},
     "output_type": "execute_result"
    }
   ],
   "source": [
    "phi_t"
   ]
  },
  {
   "cell_type": "markdown",
   "metadata": {},
   "source": [
    "## Get dictionary of sample IDs to file dataframes"
   ]
  },
  {
   "cell_type": "markdown",
   "metadata": {},
   "source": [
    "** Corrected = (sample_mean-blank_mean) - (phi_temp * (sample_temp-blank_temp)) **"
   ]
  },
  {
   "cell_type": "code",
   "execution_count": 16,
   "metadata": {
    "collapsed": false
   },
   "outputs": [],
   "source": [
    "ID_to_df = {}\n",
    "for index, row in metadata_updated.iterrows():\n",
    "    ID, filepath, analysis_type, sample_type, temp = row['ID'], row['Summary_file_path'], row['Analysis_Type'], row['Sample_Type'], row['Temp']\n",
    "    if sample_type != 'cal':\n",
    "        df = pd.read_csv(filepath, skiprows = 0, delimiter= '\\t')         \n",
    "        df.reset_index(inplace=True, drop=False)\n",
    "        df.rename(columns = {'c_mean':'sample_mean', 'a_mean':'sample_mean', 'c_std':'std','a_std':'std'}, inplace = True)\n",
    "        df = df[['wl','sample_mean']]\n",
    "        df['sample_temp'] = temp\n",
    "        df['phi_t'] = phi_t\n",
    "        if analysis_type == 'a':\n",
    "            df['blank_mean'] = cleanmeans_a\n",
    "            df['blank_temp'] = cleana_temp\n",
    "        if analysis_type == 'c':\n",
    "            df['blank_mean'] = cleanmeans_c\n",
    "            df['blank_temp'] = cleanc_temp\n",
    "        df['corrected_mean'] = (df['sample_mean'] - df['blank_mean']) - (df['phi_t'] * (df['sample_temp']-df['blank_temp']))\n",
    "        ID_to_df[ID] = list(df['corrected_mean'])\n"
   ]
  },
  {
   "cell_type": "code",
   "execution_count": 17,
   "metadata": {
    "collapsed": false
   },
   "outputs": [
    {
     "data": {
      "text/plain": [
       "[4.7648957513059997,\n",
       " 2.9155578158509998,\n",
       " 1.459975015068,\n",
       " 1.128899108703,\n",
       " 0.8707707825369998,\n",
       " 0.68501706154700004,\n",
       " 0.2947921268034,\n",
       " 0.26159699683639998,\n",
       " 0.19726364713720002]"
      ]
     },
     "execution_count": 17,
     "metadata": {},
     "output_type": "execute_result"
    }
   ],
   "source": [
    "ID_to_df['AC9_071718_y20_raw_a_1_T16_8']"
   ]
  },
  {
   "cell_type": "code",
   "execution_count": null,
   "metadata": {
    "collapsed": false
   },
   "outputs": [],
   "source": [
    "ID_to_df['AC9_071718_y20_raw_a_1_T16_8']"
   ]
  },
  {
   "cell_type": "code",
   "execution_count": null,
   "metadata": {
    "collapsed": false
   },
   "outputs": [],
   "source": [
    "for i in ID_to_df_absorption_a:\n",
    "    print i"
   ]
  },
  {
   "cell_type": "markdown",
   "metadata": {},
   "source": [
    "### Make directory for temperature-corrected summary stats"
   ]
  },
  {
   "cell_type": "code",
   "execution_count": null,
   "metadata": {
    "collapsed": true
   },
   "outputs": [],
   "source": [
    "temperature_cor_2_filepath = fp.make_dir('Data/2_1_summary_stats_tempcor')\n",
    "#figures_cleaned_2_filepath = fp.make_dir('Figures/Check_compared_reps')"
   ]
  },
  {
   "cell_type": "code",
   "execution_count": null,
   "metadata": {
    "collapsed": false
   },
   "outputs": [],
   "source": [
    "metadata_updated.columns"
   ]
  },
  {
   "cell_type": "markdown",
   "metadata": {},
   "source": [
    "### Subset metadata for just temperatures, file paths, and sample IDs for simpler handling"
   ]
  },
  {
   "cell_type": "code",
   "execution_count": null,
   "metadata": {
    "collapsed": false
   },
   "outputs": [],
   "source": [
    "temp_data = metadata_updated[['Temp','Summary_file_path','ID']]"
   ]
  },
  {
   "cell_type": "code",
   "execution_count": null,
   "metadata": {
    "collapsed": true
   },
   "outputs": [],
   "source": [
    "pd.read_csv('../Metadata/project_metadata_updated.csv', dtype={'Date': object, 'Rep':object}, skiprows=0, delimiter= '\\t')"
   ]
  },
  {
   "cell_type": "markdown",
   "metadata": {},
   "source": [
    "### Create a dictionary where keys are sample IDs and entries are pandas dataframes containing columns for wavelengths, mean absorption or attenuation, and the temperature at which the samplew was taken."
   ]
  },
  {
   "cell_type": "code",
   "execution_count": null,
   "metadata": {
    "collapsed": true,
    "deletable": true,
    "editable": true
   },
   "outputs": [],
   "source": [
    "read_csv('output_list.txt', sep=\" \", header=None)"
   ]
  },
  {
   "cell_type": "code",
   "execution_count": null,
   "metadata": {
    "collapsed": false
   },
   "outputs": [],
   "source": [
    "file_to_df = {}\n",
    "for index, row in temp_data.iterrows():\n",
    "    Temp, File, ID = row['Temp'], row['Summary_file_path'], row['ID']\n",
    "    df = pd.read_csv(File, skiprows = 0, delimiter= '\\t')         \n",
    "    df.reset_index(inplace=True, drop=False)\n",
    "    df.rename(columns = {'c_mean':'mean', 'a_mean':'mean', 'c_std':'std','a_std':'std'}, inplace = True)\n",
    "    df = df[['wl','mean']]\n",
    "    df['Temp'] = Temp\n",
    "    df['phi_t'] = list(sullivan_chart_ac9['phi_t'])\n",
    "    file_to_df[ID] = df"
   ]
  },
  {
   "cell_type": "code",
   "execution_count": null,
   "metadata": {
    "collapsed": false
   },
   "outputs": [],
   "source": [
    "sullivan_chart_ac9['phi_t']"
   ]
  },
  {
   "cell_type": "markdown",
   "metadata": {},
   "source": [
    "### Get lists of sample ids for blanks ('cal') and non-blanks ('fil' or 'raw')"
   ]
  },
  {
   "cell_type": "code",
   "execution_count": null,
   "metadata": {
    "collapsed": false
   },
   "outputs": [],
   "source": [
    "cal_ids = list(metadata_updated.loc[metadata_updated.Sample_Type=='cal','ID'])\n",
    "non_cal_ids = list(metadata_updated.loc[metadata_updated.Sample_Type!='cal','ID'])"
   ]
  },
  {
   "cell_type": "code",
   "execution_count": null,
   "metadata": {
    "collapsed": false
   },
   "outputs": [],
   "source": [
    "for i in file_to_df:\n",
    "    print file_to_df[i]"
   ]
  }
 ],
 "metadata": {
  "kernelspec": {
   "display_name": "Python 2",
   "language": "python",
   "name": "python2"
  },
  "language_info": {
   "codemirror_mode": {
    "name": "ipython",
    "version": 2
   },
   "file_extension": ".py",
   "mimetype": "text/x-python",
   "name": "python",
   "nbconvert_exporter": "python",
   "pygments_lexer": "ipython2",
   "version": "2.7.9"
  }
 },
 "nbformat": 4,
 "nbformat_minor": 2
}
