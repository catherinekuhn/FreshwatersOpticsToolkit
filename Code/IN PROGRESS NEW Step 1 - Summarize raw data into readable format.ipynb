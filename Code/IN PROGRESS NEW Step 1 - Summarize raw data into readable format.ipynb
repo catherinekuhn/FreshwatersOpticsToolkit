{
 "cells": [
  {
   "cell_type": "markdown",
   "metadata": {},
   "source": [
    "Steps:\n",
    "- Create metadata file\n",
    "- Initialize the project\n",
    "- convert dat files to csv files\n",
    "- convert csvs to summary files"
   ]
  },
  {
   "cell_type": "markdown",
   "metadata": {},
   "source": [
    "### Create metadata file"
   ]
  },
  {
   "cell_type": "code",
   "execution_count": null,
   "metadata": {},
   "outputs": [],
   "source": [
    "This step should be done by the researcher, in whatever way is most convenient."
   ]
  },
  {
   "cell_type": "code",
   "execution_count": null,
   "metadata": {},
   "outputs": [],
   "source": [
    "basenames = []\n",
    "date = []\n",
    "site = []\n",
    "sample_type = []\n",
    "abs_type = []\n",
    "rep = []\n",
    "temp = []\n",
    "raw_file_path = []\n",
    "\n",
    "\n",
    "file_list = sorted(glob.glob(raw_data_file_path+'/*.dat'))\n",
    "for j in file_list:\n",
    "    basename = j.split('/')[-1].split('.')[0]\n",
    "    ## We are excluding the field measurements of filtered data here because theyw ere not good \n",
    "    if 'field' in basename:\n",
    "        continue\n",
    "    basenames.append(basename)\n",
    "    Sensor, Date, Site, Sample_Type, Abs_Type, Rep, T1, T2= basename.split('_')\n",
    "    T = float(T1.lstrip('T')+'.'+T2)\n",
    "    date.append(str(Date))\n",
    "    site.append(Site)\n",
    "    sample_type.append(Sample_Type)\n",
    "    abs_type.append(Abs_Type)\n",
    "    rep.append(Rep)\n",
    "    temp.append(T)\n",
    "    raw_file_path.append(j)\n",
    "\n",
    "\n",
    "df = pd.DataFrame(\n",
    "    {'Sensor':'AC9',\n",
    "     'ID':basenames,\n",
    "     'Date': date,\n",
    "     'Site': site,\n",
    "     'Sample_Type': sample_type,\n",
    "     'Analysis_Type': abs_type,\n",
    "     'Rep': rep,\n",
    "    })\n",
    "\n",
    "df2 = pd.DataFrame(\n",
    "    {'Sensor':'AC9',\n",
    "     'ID':basenames,\n",
    "     'Date': date,\n",
    "     'Site': site,\n",
    "     'Sample_Type': sample_type,\n",
    "     'Analysis_Type': abs_type,\n",
    "     'Rep': rep,\n",
    "     'Temp': temp,\n",
    "     'Raw_File_Path':raw_file_path\n",
    "    })\n",
    "\n",
    "df.to_csv(metadata_original_filepath, sep='\\t',index=False)\n",
    "df2.to_csv(metadata_updated_filepath, sep='\\t',index=False)"
   ]
  }
 ],
 "metadata": {
  "kernelspec": {
   "display_name": "Python 3",
   "language": "python",
   "name": "python3"
  },
  "language_info": {
   "codemirror_mode": {
    "name": "ipython",
    "version": 3
   },
   "file_extension": ".py",
   "mimetype": "text/x-python",
   "name": "python",
   "nbconvert_exporter": "python",
   "pygments_lexer": "ipython3",
   "version": "3.7.4"
  }
 },
 "nbformat": 4,
 "nbformat_minor": 2
}
