{
 "cells": [
  {
   "cell_type": "markdown",
   "metadata": {
    "deletable": true,
    "editable": true
   },
   "source": [
    "### Concatenate averaged raw & fil and vicarious calibration information into formatting for master datasheet"
   ]
  },
  {
   "cell_type": "markdown",
   "metadata": {
    "deletable": true,
    "editable": true
   },
   "source": [
    "** Predefined wavelengths: weren't included in averaged files, may go back and do that later **"
   ]
  },
  {
   "cell_type": "code",
   "execution_count": 23,
   "metadata": {
    "collapsed": true,
    "deletable": true,
    "editable": true
   },
   "outputs": [],
   "source": [
    "wavelengths_num = [412.0, 440.0, 488.0, 510.0, 532.0, 555.0, 650.0, 676.0, 715.0]\n",
    "wavelengths = [int(i) for i in wavelengths_num]"
   ]
  },
  {
   "cell_type": "markdown",
   "metadata": {
    "deletable": true,
    "editable": true
   },
   "source": [
    "** Import packages **"
   ]
  },
  {
   "cell_type": "code",
   "execution_count": 24,
   "metadata": {
    "collapsed": true,
    "deletable": true,
    "editable": true
   },
   "outputs": [],
   "source": [
    "from fopt_toolkit import fopt_toolkit as fp\n",
    "import glob\n",
    "import pandas as pd"
   ]
  },
  {
   "cell_type": "markdown",
   "metadata": {
    "deletable": true,
    "editable": true
   },
   "source": [
    "** Filepaths for averaged raw/fil and vicarious calibration files **"
   ]
  },
  {
   "cell_type": "code",
   "execution_count": 25,
   "metadata": {
    "collapsed": true,
    "deletable": true,
    "editable": true
   },
   "outputs": [],
   "source": [
    "vic_cal_filepath = fp.make_dir('Data/3_2_vic_averaged_summary_stats')\n",
    "averaged_filepath = fp.make_dir('Data/3_1_averaged_summary_stats')"
   ]
  },
  {
   "cell_type": "markdown",
   "metadata": {
    "deletable": true,
    "editable": true
   },
   "source": [
    "** Filepath to store summary data **"
   ]
  },
  {
   "cell_type": "code",
   "execution_count": 26,
   "metadata": {
    "collapsed": true,
    "deletable": true,
    "editable": true
   },
   "outputs": [],
   "source": [
    "new_filepath = fp.make_dir('Data/4_overall_summary')"
   ]
  },
  {
   "cell_type": "markdown",
   "metadata": {
    "deletable": true,
    "editable": true
   },
   "source": [
    "** Get the list of averaged fil/raw and vicarious calibration csv files from filepath **"
   ]
  },
  {
   "cell_type": "code",
   "execution_count": 27,
   "metadata": {
    "collapsed": true,
    "deletable": true,
    "editable": true
   },
   "outputs": [],
   "source": [
    "vic_file_list = sorted(glob.glob(vic_cal_filepath+'/*.csv'))\n",
    "average_file_list = sorted(glob.glob(averaged_filepath+'/*.csv'))"
   ]
  },
  {
   "cell_type": "code",
   "execution_count": 28,
   "metadata": {
    "collapsed": false,
    "deletable": true,
    "editable": true
   },
   "outputs": [],
   "source": [
    "raw_file_list = []\n",
    "fil_file_list = []\n",
    "for i in average_file_list:\n",
    "    if 'raw.csv' in i:\n",
    "        raw_file_list.append(i)\n",
    "    else:\n",
    "        fil_file_list.append(i)"
   ]
  },
  {
   "cell_type": "markdown",
   "metadata": {
    "deletable": true,
    "editable": true
   },
   "source": [
    "** Get dictionaries with dataframes (grouped by sample type) **"
   ]
  },
  {
   "cell_type": "code",
   "execution_count": 29,
   "metadata": {
    "collapsed": true,
    "deletable": true,
    "editable": true
   },
   "outputs": [],
   "source": [
    "def fill_dict(file_list):\n",
    "    my_dictionary = {'a':[],'b':[],'c':[]}\n",
    "    for file_path in file_list:\n",
    "        file_name_cols = file_path.split('/')[-1].split('.')[0].split('_')\n",
    "        lake_name = file_name_cols[1]\n",
    "        sample_type = file_name_cols[2]\n",
    "        df = pd.read_csv(file_path, skiprows=0, delimiter= '\\t')\n",
    "        df['wl'] = wavelengths\n",
    "        df['lake'] = lake_name\n",
    "        my_dictionary[sample_type].append(df)\n",
    "    return my_dictionary"
   ]
  },
  {
   "cell_type": "code",
   "execution_count": 30,
   "metadata": {
    "collapsed": false,
    "deletable": true,
    "editable": true
   },
   "outputs": [],
   "source": [
    "vic_cal_dfs = fill_dict(vic_file_list)\n",
    "raw_dfs = fill_dict(raw_file_list)\n",
    "fil_dfs = fill_dict(fil_file_list)"
   ]
  },
  {
   "cell_type": "markdown",
   "metadata": {
    "deletable": true,
    "editable": true
   },
   "source": [
    "** Concatenate and combine dataframes by sample type, rename columns **"
   ]
  },
  {
   "cell_type": "code",
   "execution_count": 31,
   "metadata": {
    "collapsed": false,
    "deletable": true,
    "editable": true
   },
   "outputs": [],
   "source": [
    "def get_concat(my_dictionary):\n",
    "    all_data_frames = []\n",
    "    for sample_type in my_dictionary:\n",
    "        ## Get list of dataframes from my_dictionary\n",
    "        dfs = my_dictionary[sample_type]\n",
    "        ## Concatenate dfs (stacked)\n",
    "        concatenated_dfs = pd.concat(dfs)\n",
    "        ## Pivot dataframe so that each lake is its own row, columns are wavelengths\n",
    "        df_means = concatenated_dfs.pivot(index='lake',columns='wl',values='mean').rename_axis(None, axis=0).rename_axis(None, axis=1)\n",
    "        df_stds = concatenated_dfs.pivot(index='lake',columns='wl',values='std').rename_axis(None, axis=0).rename_axis(None, axis=1)\n",
    "        ## Get new names for columns\n",
    "        means_column_names = [sample_type+'_'+str(int(i))+'_mean' for i in list(df_means.columns)]\n",
    "        stds_column_names = [sample_type+'_'+str(int(i))+'_std' for i in list(df_stds.columns)]\n",
    "        ## Assign new column names to dataframes\n",
    "        df_means.columns = means_column_names\n",
    "        df_stds.columns = stds_column_names\n",
    "        ## Combine means and standard deviations\n",
    "        df_all = pd.concat([df_means,df_stds], axis = 1)\n",
    "        ## Sort columns\n",
    "        df_all = df_all.reindex_axis(sorted(df_all.columns), axis=1)\n",
    "        all_data_frames.append(df_all)\n",
    "    all_dfs_all_sample_types = pd.concat(all_data_frames, axis = 1)\n",
    "    all_dfs_all_sample_types = all_dfs_all_sample_types.reindex_axis(sorted(all_dfs_all_sample_types.columns), axis=1)\n",
    "    return all_dfs_all_sample_types"
   ]
  },
  {
   "cell_type": "code",
   "execution_count": 32,
   "metadata": {
    "collapsed": false,
    "deletable": true,
    "editable": true
   },
   "outputs": [],
   "source": [
    "vic_cal_summary = get_concat(vic_cal_dfs)\n",
    "fil_summary = get_concat(fil_dfs)\n",
    "raw_summary = get_concat(raw_dfs)"
   ]
  },
  {
   "cell_type": "code",
   "execution_count": 34,
   "metadata": {
    "collapsed": false
   },
   "outputs": [
    {
     "data": {
      "text/html": [
       "<div>\n",
       "<table border=\"1\" class=\"dataframe\">\n",
       "  <thead>\n",
       "    <tr style=\"text-align: right;\">\n",
       "      <th></th>\n",
       "      <th>a_412_mean</th>\n",
       "      <th>a_412_std</th>\n",
       "      <th>a_440_mean</th>\n",
       "      <th>a_440_std</th>\n",
       "      <th>a_488_mean</th>\n",
       "      <th>a_488_std</th>\n",
       "      <th>a_510_mean</th>\n",
       "      <th>a_510_std</th>\n",
       "      <th>a_532_mean</th>\n",
       "      <th>a_532_std</th>\n",
       "      <th>...</th>\n",
       "      <th>c_532_mean</th>\n",
       "      <th>c_532_std</th>\n",
       "      <th>c_555_mean</th>\n",
       "      <th>c_555_std</th>\n",
       "      <th>c_650_mean</th>\n",
       "      <th>c_650_std</th>\n",
       "      <th>c_676_mean</th>\n",
       "      <th>c_676_std</th>\n",
       "      <th>c_715_mean</th>\n",
       "      <th>c_715_std</th>\n",
       "    </tr>\n",
       "  </thead>\n",
       "  <tbody>\n",
       "    <tr>\n",
       "      <th>9mi</th>\n",
       "      <td>6.079409</td>\n",
       "      <td>0.055966</td>\n",
       "      <td>3.952569</td>\n",
       "      <td>0.055771</td>\n",
       "      <td>2.185625</td>\n",
       "      <td>0.048877</td>\n",
       "      <td>1.755109</td>\n",
       "      <td>0.051379</td>\n",
       "      <td>1.428504</td>\n",
       "      <td>0.042189</td>\n",
       "      <td>...</td>\n",
       "      <td>4.221323</td>\n",
       "      <td>0.120528</td>\n",
       "      <td>3.870104</td>\n",
       "      <td>0.122884</td>\n",
       "      <td>3.063242</td>\n",
       "      <td>0.120490</td>\n",
       "      <td>2.921051</td>\n",
       "      <td>0.115386</td>\n",
       "      <td>2.725044</td>\n",
       "      <td>0.110235</td>\n",
       "    </tr>\n",
       "    <tr>\n",
       "      <th>bai</th>\n",
       "      <td>44.515696</td>\n",
       "      <td>4.538274</td>\n",
       "      <td>31.912530</td>\n",
       "      <td>4.756697</td>\n",
       "      <td>20.452499</td>\n",
       "      <td>5.221019</td>\n",
       "      <td>17.555776</td>\n",
       "      <td>5.183311</td>\n",
       "      <td>15.261038</td>\n",
       "      <td>4.899393</td>\n",
       "      <td>...</td>\n",
       "      <td>33.343850</td>\n",
       "      <td>27.562481</td>\n",
       "      <td>31.493777</td>\n",
       "      <td>27.823853</td>\n",
       "      <td>27.455943</td>\n",
       "      <td>27.576024</td>\n",
       "      <td>25.195045</td>\n",
       "      <td>26.163311</td>\n",
       "      <td>25.416481</td>\n",
       "      <td>28.051185</td>\n",
       "    </tr>\n",
       "    <tr>\n",
       "      <th>boo</th>\n",
       "      <td>5.161771</td>\n",
       "      <td>0.115469</td>\n",
       "      <td>3.208003</td>\n",
       "      <td>0.111161</td>\n",
       "      <td>1.612685</td>\n",
       "      <td>0.111592</td>\n",
       "      <td>1.242498</td>\n",
       "      <td>0.102735</td>\n",
       "      <td>0.984085</td>\n",
       "      <td>0.106678</td>\n",
       "      <td>...</td>\n",
       "      <td>1.590649</td>\n",
       "      <td>0.198359</td>\n",
       "      <td>1.360649</td>\n",
       "      <td>0.193888</td>\n",
       "      <td>0.918385</td>\n",
       "      <td>0.188570</td>\n",
       "      <td>0.868077</td>\n",
       "      <td>0.200630</td>\n",
       "      <td>0.790738</td>\n",
       "      <td>0.197578</td>\n",
       "    </tr>\n",
       "    <tr>\n",
       "      <th>cbr</th>\n",
       "      <td>10.020215</td>\n",
       "      <td>0.263230</td>\n",
       "      <td>6.032584</td>\n",
       "      <td>0.174528</td>\n",
       "      <td>2.811861</td>\n",
       "      <td>0.108578</td>\n",
       "      <td>2.117284</td>\n",
       "      <td>0.104221</td>\n",
       "      <td>1.617375</td>\n",
       "      <td>0.091410</td>\n",
       "      <td>...</td>\n",
       "      <td>2.225751</td>\n",
       "      <td>0.179185</td>\n",
       "      <td>1.816195</td>\n",
       "      <td>0.179154</td>\n",
       "      <td>1.013675</td>\n",
       "      <td>0.168163</td>\n",
       "      <td>0.924780</td>\n",
       "      <td>0.176926</td>\n",
       "      <td>0.803771</td>\n",
       "      <td>0.170852</td>\n",
       "    </tr>\n",
       "    <tr>\n",
       "      <th>gre</th>\n",
       "      <td>2.588448</td>\n",
       "      <td>0.140001</td>\n",
       "      <td>1.721027</td>\n",
       "      <td>0.137017</td>\n",
       "      <td>0.966645</td>\n",
       "      <td>0.134136</td>\n",
       "      <td>0.772083</td>\n",
       "      <td>0.129123</td>\n",
       "      <td>0.638295</td>\n",
       "      <td>0.129914</td>\n",
       "      <td>...</td>\n",
       "      <td>2.128346</td>\n",
       "      <td>0.252265</td>\n",
       "      <td>1.935193</td>\n",
       "      <td>0.251190</td>\n",
       "      <td>1.499913</td>\n",
       "      <td>0.253395</td>\n",
       "      <td>1.456038</td>\n",
       "      <td>0.258624</td>\n",
       "      <td>1.326777</td>\n",
       "      <td>0.258718</td>\n",
       "    </tr>\n",
       "    <tr>\n",
       "      <th>sco</th>\n",
       "      <td>4.289649</td>\n",
       "      <td>0.127722</td>\n",
       "      <td>3.093894</td>\n",
       "      <td>0.115397</td>\n",
       "      <td>1.873059</td>\n",
       "      <td>0.101241</td>\n",
       "      <td>1.549112</td>\n",
       "      <td>0.097525</td>\n",
       "      <td>1.290416</td>\n",
       "      <td>0.096991</td>\n",
       "      <td>...</td>\n",
       "      <td>4.146949</td>\n",
       "      <td>0.214999</td>\n",
       "      <td>3.795844</td>\n",
       "      <td>0.218704</td>\n",
       "      <td>2.922919</td>\n",
       "      <td>0.210904</td>\n",
       "      <td>2.760781</td>\n",
       "      <td>0.211249</td>\n",
       "      <td>2.491906</td>\n",
       "      <td>0.211527</td>\n",
       "    </tr>\n",
       "    <tr>\n",
       "      <th>y17</th>\n",
       "      <td>11.717587</td>\n",
       "      <td>0.341889</td>\n",
       "      <td>9.158723</td>\n",
       "      <td>0.349471</td>\n",
       "      <td>6.252699</td>\n",
       "      <td>0.313065</td>\n",
       "      <td>5.436517</td>\n",
       "      <td>0.295900</td>\n",
       "      <td>4.708248</td>\n",
       "      <td>0.270243</td>\n",
       "      <td>...</td>\n",
       "      <td>15.219374</td>\n",
       "      <td>0.776718</td>\n",
       "      <td>14.367033</td>\n",
       "      <td>0.761566</td>\n",
       "      <td>12.105852</td>\n",
       "      <td>0.722707</td>\n",
       "      <td>11.727665</td>\n",
       "      <td>0.707185</td>\n",
       "      <td>10.750656</td>\n",
       "      <td>0.670646</td>\n",
       "    </tr>\n",
       "    <tr>\n",
       "      <th>y20</th>\n",
       "      <td>5.439816</td>\n",
       "      <td>0.146895</td>\n",
       "      <td>3.326468</td>\n",
       "      <td>0.144228</td>\n",
       "      <td>1.703035</td>\n",
       "      <td>0.135121</td>\n",
       "      <td>1.327465</td>\n",
       "      <td>0.137067</td>\n",
       "      <td>1.059344</td>\n",
       "      <td>0.129655</td>\n",
       "      <td>...</td>\n",
       "      <td>1.662729</td>\n",
       "      <td>0.302874</td>\n",
       "      <td>1.416102</td>\n",
       "      <td>0.295672</td>\n",
       "      <td>0.954035</td>\n",
       "      <td>0.294450</td>\n",
       "      <td>0.898879</td>\n",
       "      <td>0.303164</td>\n",
       "      <td>0.822909</td>\n",
       "      <td>0.286831</td>\n",
       "    </tr>\n",
       "  </tbody>\n",
       "</table>\n",
       "<p>8 rows × 54 columns</p>\n",
       "</div>"
      ],
      "text/plain": [
       "     a_412_mean  a_412_std  a_440_mean  a_440_std  a_488_mean  a_488_std  \\\n",
       "9mi    6.079409   0.055966    3.952569   0.055771    2.185625   0.048877   \n",
       "bai   44.515696   4.538274   31.912530   4.756697   20.452499   5.221019   \n",
       "boo    5.161771   0.115469    3.208003   0.111161    1.612685   0.111592   \n",
       "cbr   10.020215   0.263230    6.032584   0.174528    2.811861   0.108578   \n",
       "gre    2.588448   0.140001    1.721027   0.137017    0.966645   0.134136   \n",
       "sco    4.289649   0.127722    3.093894   0.115397    1.873059   0.101241   \n",
       "y17   11.717587   0.341889    9.158723   0.349471    6.252699   0.313065   \n",
       "y20    5.439816   0.146895    3.326468   0.144228    1.703035   0.135121   \n",
       "\n",
       "     a_510_mean  a_510_std  a_532_mean  a_532_std    ...      c_532_mean  \\\n",
       "9mi    1.755109   0.051379    1.428504   0.042189    ...        4.221323   \n",
       "bai   17.555776   5.183311   15.261038   4.899393    ...       33.343850   \n",
       "boo    1.242498   0.102735    0.984085   0.106678    ...        1.590649   \n",
       "cbr    2.117284   0.104221    1.617375   0.091410    ...        2.225751   \n",
       "gre    0.772083   0.129123    0.638295   0.129914    ...        2.128346   \n",
       "sco    1.549112   0.097525    1.290416   0.096991    ...        4.146949   \n",
       "y17    5.436517   0.295900    4.708248   0.270243    ...       15.219374   \n",
       "y20    1.327465   0.137067    1.059344   0.129655    ...        1.662729   \n",
       "\n",
       "     c_532_std  c_555_mean  c_555_std  c_650_mean  c_650_std  c_676_mean  \\\n",
       "9mi   0.120528    3.870104   0.122884    3.063242   0.120490    2.921051   \n",
       "bai  27.562481   31.493777  27.823853   27.455943  27.576024   25.195045   \n",
       "boo   0.198359    1.360649   0.193888    0.918385   0.188570    0.868077   \n",
       "cbr   0.179185    1.816195   0.179154    1.013675   0.168163    0.924780   \n",
       "gre   0.252265    1.935193   0.251190    1.499913   0.253395    1.456038   \n",
       "sco   0.214999    3.795844   0.218704    2.922919   0.210904    2.760781   \n",
       "y17   0.776718   14.367033   0.761566   12.105852   0.722707   11.727665   \n",
       "y20   0.302874    1.416102   0.295672    0.954035   0.294450    0.898879   \n",
       "\n",
       "     c_676_std  c_715_mean  c_715_std  \n",
       "9mi   0.115386    2.725044   0.110235  \n",
       "bai  26.163311   25.416481  28.051185  \n",
       "boo   0.200630    0.790738   0.197578  \n",
       "cbr   0.176926    0.803771   0.170852  \n",
       "gre   0.258624    1.326777   0.258718  \n",
       "sco   0.211249    2.491906   0.211527  \n",
       "y17   0.707185   10.750656   0.670646  \n",
       "y20   0.303164    0.822909   0.286831  \n",
       "\n",
       "[8 rows x 54 columns]"
      ]
     },
     "execution_count": 34,
     "metadata": {},
     "output_type": "execute_result"
    }
   ],
   "source": [
    "raw_summary"
   ]
  },
  {
   "cell_type": "markdown",
   "metadata": {
    "deletable": true,
    "editable": true
   },
   "source": [
    "** Save to csv **"
   ]
  },
  {
   "cell_type": "code",
   "execution_count": 33,
   "metadata": {
    "collapsed": true,
    "deletable": true,
    "editable": true
   },
   "outputs": [],
   "source": [
    "vic_cal_summary.to_csv(new_filepath+'/Vical_summary.csv', sep='\\t',index=True)\n",
    "fil_summary.to_csv(new_filepath+'/Fil_summary.csv', sep='\\t',index=True)\n",
    "raw_summary.to_csv(new_filepath+'/Raw_summary.csv', sep='\\t',index=True)"
   ]
  }
 ],
 "metadata": {
  "kernelspec": {
   "display_name": "Python 2",
   "language": "python",
   "name": "python2"
  },
  "language_info": {
   "codemirror_mode": {
    "name": "ipython",
    "version": 2
   },
   "file_extension": ".py",
   "mimetype": "text/x-python",
   "name": "python",
   "nbconvert_exporter": "python",
   "pygments_lexer": "ipython2",
   "version": "2.7.9"
  }
 },
 "nbformat": 4,
 "nbformat_minor": 2
}
