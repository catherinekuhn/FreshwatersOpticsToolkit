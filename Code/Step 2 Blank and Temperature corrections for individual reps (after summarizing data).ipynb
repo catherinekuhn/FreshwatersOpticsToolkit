{
 "cells": [
  {
   "cell_type": "markdown",
   "metadata": {},
   "source": [
    "### Importing libraries"
   ]
  },
  {
   "cell_type": "code",
   "execution_count": 6,
   "metadata": {},
   "outputs": [],
   "source": [
    "### Import the required python libraries\n",
    "import numpy as np\n",
    "import pandas as pd\n",
    "import matplotlib.pylab as plt\n",
    "import glob\n",
    "import os\n",
    "import sys\n",
    "import csv\n",
    "from scipy import interpolate\n",
    "from os import listdir\n",
    "from os.path import isfile, join\n",
    "import matplotlib.gridspec as gridspec\n",
    "import inspect\n",
    "from scipy import interpolate"
   ]
  },
  {
   "cell_type": "code",
   "execution_count": 7,
   "metadata": {},
   "outputs": [
    {
     "name": "stdout",
     "output_type": "stream",
     "text": [
      "get_id\n",
      "make_dir\n",
      "plotting_multiple_files\n"
     ]
    }
   ],
   "source": [
    "from fopt_toolkit import fopt_toolkit as fp\n",
    "for i in inspect.getmembers(fp, inspect.isfunction):\n",
    "    print(i[0])"
   ]
  },
  {
   "cell_type": "markdown",
   "metadata": {},
   "source": [
    "### Get dataframe with metadata information, including sample temperatures and summary data filepaths"
   ]
  },
  {
   "cell_type": "code",
   "execution_count": 8,
   "metadata": {},
   "outputs": [],
   "source": [
    "metadata_updated = pd.read_csv('../Metadata/project_metadata_updated.csv',dtype={'Date': object, 'Rep':object}, skiprows=0, delimiter= '\\t')"
   ]
  },
  {
   "cell_type": "markdown",
   "metadata": {},
   "source": [
    "## For each wavelength for each file"
   ]
  },
  {
   "cell_type": "markdown",
   "metadata": {},
   "source": [
    "** Blank-corrected a or c =  (mean_a_or_c_of_sample - mean_a_or_c_of_blank) **"
   ]
  },
  {
   "cell_type": "markdown",
   "metadata": {},
   "source": [
    "** Temp-corrected a or c = Blank-corrected a or c - (Phi_temp * (Sample_temp - Blank_temp)) **"
   ]
  },
  {
   "cell_type": "markdown",
   "metadata": {},
   "source": [
    "** Corrected = (sample_mean-blank_mean) - (phi_temp * (sample_temp-blank_temp)) **"
   ]
  },
  {
   "cell_type": "markdown",
   "metadata": {},
   "source": [
    "## Blank correction"
   ]
  },
  {
   "cell_type": "markdown",
   "metadata": {},
   "source": [
    "### Get blank values to use for blank correction"
   ]
  },
  {
   "cell_type": "markdown",
   "metadata": {},
   "source": [
    "** Which samples to use for blank correction? The cleanest of them all! Based on graphs, these are they: **"
   ]
  },
  {
   "cell_type": "code",
   "execution_count": 9,
   "metadata": {},
   "outputs": [],
   "source": [
    "cleanest_a = 'AC9_072619_sea_cal_a_2_T24_6'\n",
    "cleanest_c = 'AC9_072619_sea_cal_c_2_T24_6'"
   ]
  },
  {
   "cell_type": "markdown",
   "metadata": {},
   "source": [
    "** Get dataframes for these samples **"
   ]
  },
  {
   "cell_type": "code",
   "execution_count": 10,
   "metadata": {},
   "outputs": [],
   "source": [
    "cleanest_a_filepath = list(metadata_updated.loc[metadata_updated.ID == cleanest_a, 'Summary_file_path'])[0]\n",
    "cleanest_c_filepath = list(metadata_updated.loc[metadata_updated.ID == cleanest_c, 'Summary_file_path'])[0]\n"
   ]
  },
  {
   "cell_type": "code",
   "execution_count": 11,
   "metadata": {},
   "outputs": [],
   "source": [
    "cleanest_a_df = pd.read_csv(cleanest_a_filepath,skiprows = 0, delimiter= '\\t') \n",
    "cleanest_c_df = pd.read_csv(cleanest_c_filepath,skiprows = 0, delimiter= '\\t') "
   ]
  },
  {
   "cell_type": "code",
   "execution_count": 12,
   "metadata": {},
   "outputs": [],
   "source": [
    "cleanmeans_a = list(cleanest_a_df['a_mean'])\n",
    "cleanmeans_c = list(cleanest_c_df['c_mean'])"
   ]
  },
  {
   "cell_type": "markdown",
   "metadata": {},
   "source": [
    "** Get temps for these samples **"
   ]
  },
  {
   "cell_type": "code",
   "execution_count": 13,
   "metadata": {},
   "outputs": [
    {
     "name": "stderr",
     "output_type": "stream",
     "text": [
      "/usr/local/lib/python3.7/site-packages/ipykernel_launcher.py:1: FutureWarning: `item` has been deprecated and will be removed in a future version\n",
      "  \"\"\"Entry point for launching an IPython kernel.\n",
      "/usr/local/lib/python3.7/site-packages/ipykernel_launcher.py:2: FutureWarning: `item` has been deprecated and will be removed in a future version\n",
      "  \n"
     ]
    }
   ],
   "source": [
    "cleana_temp = metadata_updated.loc[metadata_updated.ID==cleanest_a,'Temp'].item()\n",
    "cleanc_temp = metadata_updated.loc[metadata_updated.ID==cleanest_c,'Temp'].item()"
   ]
  },
  {
   "cell_type": "markdown",
   "metadata": {},
   "source": [
    "## Temperature correction values"
   ]
  },
  {
   "cell_type": "code",
   "execution_count": 14,
   "metadata": {},
   "outputs": [],
   "source": [
    "sullivan_chart = pd.read_csv('../Metadata/sullivan_chart_ac9.csv', skiprows=0, delimiter= '\\t')"
   ]
  },
  {
   "cell_type": "code",
   "execution_count": 15,
   "metadata": {},
   "outputs": [],
   "source": [
    "phi_t = list(sullivan_chart['phi_t'])"
   ]
  },
  {
   "cell_type": "code",
   "execution_count": 16,
   "metadata": {},
   "outputs": [
    {
     "data": {
      "text/plain": [
       "[0.0, 0.0, 0.0, 0.0001, 0.0, 0.0, 0.0, -0.0001, 0.00415]"
      ]
     },
     "execution_count": 16,
     "metadata": {},
     "output_type": "execute_result"
    }
   ],
   "source": [
    "phi_t"
   ]
  },
  {
   "cell_type": "markdown",
   "metadata": {},
   "source": [
    "## Get dictionary of sample IDs to file dataframes"
   ]
  },
  {
   "cell_type": "markdown",
   "metadata": {},
   "source": [
    "** Corrected = (sample_mean-blank_mean) - (phi_temp * (sample_temp-blank_temp)) **"
   ]
  },
  {
   "cell_type": "code",
   "execution_count": 17,
   "metadata": {},
   "outputs": [],
   "source": [
    "ID_to_df = {}\n",
    "## Iterate through rows of metadata file\n",
    "for index, row in metadata_updated.iterrows():\n",
    "    ## Pull information from individual samples as temporary variables\n",
    "    ID, filepath, analysis_type, sample_type, temp = row['ID'], row['Summary_file_path'], row['Analysis_Type'], row['Sample_Type'], row['Temp']\n",
    "    ## Skip the calibration samples\n",
    "    if sample_type != 'cal':\n",
    "        ## Read in the original summary data, do a little cleanup\n",
    "        df = pd.read_csv(filepath, skiprows = 0, delimiter= '\\t')         \n",
    "        df.reset_index(inplace=True, drop=False)\n",
    "        df.rename(columns = {'c_mean':'sample_mean', 'a_mean':'sample_mean', 'c_std':'std','a_std':'std'}, inplace = True)\n",
    "        ## Subset the data to just include the wl and means, made visualizing easier\n",
    "        df = df[['wl','sample_mean']]\n",
    "        ## Add all necessary variables for blank and temp correction to the temp df\n",
    "        ## (It makes it very easy to do mathematical operations)\n",
    "        df['sample_temp'] = temp\n",
    "        df['phi_t'] = phi_t\n",
    "        if analysis_type == 'a':\n",
    "            df['blank_mean'] = cleanmeans_a\n",
    "            df['blank_temp'] = cleana_temp\n",
    "        if analysis_type == 'c':\n",
    "            df['blank_mean'] = cleanmeans_c\n",
    "            df['blank_temp'] = cleanc_temp\n",
    "        ## Perform blank and temp correction\n",
    "        df['corrected_mean'] = (df['sample_mean'] - df['blank_mean']) - (df['phi_t'] * (df['sample_temp']-df['blank_temp']))\n",
    "        ## Add corrected means to dictionary (in the form of a list) with IDs as keys\n",
    "        ID_to_df[ID] = list(df['corrected_mean'])\n"
   ]
  },
  {
   "cell_type": "markdown",
   "metadata": {},
   "source": [
    "** For each filtered or raw sample ID in the dictionary, there is a list of a or c blank- and temperature-corrected means. **"
   ]
  },
  {
   "cell_type": "markdown",
   "metadata": {},
   "source": [
    "** Now, need to take summary dataframes, replace means with corrected means, and save as new csv files in a new folder. Could have done this all in the same loop...oh well. **"
   ]
  },
  {
   "cell_type": "code",
   "execution_count": 18,
   "metadata": {},
   "outputs": [],
   "source": [
    "cor_filepath = fp.make_dir('Data/2_summary_stats_tempcor/')"
   ]
  },
  {
   "cell_type": "code",
   "execution_count": 19,
   "metadata": {},
   "outputs": [],
   "source": [
    "new_file_paths = []\n",
    "for index, row in metadata_updated.iterrows():\n",
    "    ## Pull information from individual samples as temporary variables\n",
    "    ID, filepath, analysis_type, sample_type, temp = row['ID'], row['Summary_file_path'], row['Analysis_Type'], row['Sample_Type'], row['Temp']\n",
    "    ## Skip the calibration samples\n",
    "    if sample_type != 'cal':\n",
    "        ## Read in the original summary data, do a little cleanup\n",
    "        df = pd.read_csv(filepath, skiprows = 0, delimiter= '\\t')         \n",
    "        df.reset_index(inplace=True, drop=True)\n",
    "        if analysis_type == 'a':\n",
    "            df['a_mean'] = ID_to_df[ID]\n",
    "        if analysis_type == 'c':\n",
    "            df['c_mean'] = ID_to_df[ID] \n",
    "        filename = filepath.split('/')[-1]\n",
    "        full_path = cor_filepath+filename\n",
    "        df.to_csv(full_path, sep='\\t',index=False)\n",
    "        new_file_paths.append(full_path)\n",
    "    else:\n",
    "        new_file_paths.append(None)"
   ]
  },
  {
   "cell_type": "code",
   "execution_count": 20,
   "metadata": {},
   "outputs": [],
   "source": [
    "metadata_updated['Cor_summary_file_path'] = new_file_paths\n",
    "metadata_updated.to_csv('../Metadata/project_metadata_updated.csv', sep='\\t',index=False)"
   ]
  }
 ],
 "metadata": {
  "kernelspec": {
   "display_name": "Python 3",
   "language": "python",
   "name": "python3"
  },
  "language_info": {
   "codemirror_mode": {
    "name": "ipython",
    "version": 3
   },
   "file_extension": ".py",
   "mimetype": "text/x-python",
   "name": "python",
   "nbconvert_exporter": "python",
   "pygments_lexer": "ipython3",
   "version": "3.7.4"
  }
 },
 "nbformat": 4,
 "nbformat_minor": 2
}
