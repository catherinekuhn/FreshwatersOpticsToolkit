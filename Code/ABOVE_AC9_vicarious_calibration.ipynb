{
 "cells": [
  {
   "cell_type": "markdown",
   "metadata": {},
   "source": [
    "# ABOVE AC9 Data Processing  \n",
    "\n",
    "## Vicarious calibration (subtracting averaged filtered spectra from averaged unfiltered spectra)"
   ]
  },
  {
   "cell_type": "markdown",
   "metadata": {},
   "source": [
    "**Authors:** Catherine Kuhn and Anna Simpson\n",
    "**Last Updated:** August, 30th, 2018"
   ]
  },
  {
   "cell_type": "code",
   "execution_count": 1,
   "metadata": {
    "collapsed": true
   },
   "outputs": [],
   "source": [
    "### Import the required python libraries\n",
    "import numpy as np\n",
    "import pandas as pd\n",
    "import matplotlib.pylab as plt\n",
    "import glob\n",
    "import os\n",
    "import sys\n",
    "import csv\n",
    "from scipy import interpolate\n",
    "from os import listdir\n",
    "from os.path import isfile, join\n",
    "import matplotlib.gridspec as gridspec"
   ]
  },
  {
   "cell_type": "markdown",
   "metadata": {},
   "source": [
    "### Functions"
   ]
  },
  {
   "cell_type": "code",
   "execution_count": 5,
   "metadata": {
    "collapsed": true
   },
   "outputs": [],
   "source": [
    "def get_subdirectories(directory=os.getcwd()):\n",
    "    if directory in os.getcwd():\n",
    "        directories = os.listdir(os.getcwd())\n",
    "    else:\n",
    "        directories = os.listdir(directory)\n",
    "    directories = [subdirectory for subdirectory in directories if not subdirectory.startswith('.')]\n",
    "    return directories"
   ]
  },
  {
   "cell_type": "code",
   "execution_count": 48,
   "metadata": {
    "collapsed": true
   },
   "outputs": [],
   "source": [
    "def plotting_vicarious_calibrations(list_of_files, title='Title'):\n",
    "    j = 0\n",
    "    x = []\n",
    "    y = []\n",
    "    labels_list = []\n",
    "    for filename in range(len(list_of_files)):   \n",
    "            df = pd.read_csv(list_of_files[filename], skiprows = 0, delimiter= '\\t')         \n",
    "            df.reset_index(inplace=True, drop=False)\n",
    "            df.rename(columns = {'c_mean':'mean', 'a_mean':'mean', 'c_std':'std','a_std':'std'}, inplace = True)\n",
    "            Sensor, Date, Site, Sample_Type, Abs_Type, Rep, T1, T2= list_of_files[filename].split('/')[-1].split('.')[0].split('_')\n",
    "            labelname = Site\n",
    "            labels_list.append(labelname)\n",
    "            plt.plot('wl','mean',data=df,label=labelname)\n",
    "            #plt.scatter('wl', 'a_mean', data = df)\n",
    "            plt.errorbar('wl', 'mean', yerr='std', fmt='k-', linewidth=0.5, data = df) \n",
    "    plt.ylabel('a [1/m]')\n",
    "    plt.title(title)\n",
    "    plt.legend(labels_list)\n",
    "    return plt"
   ]
  },
  {
   "cell_type": "markdown",
   "metadata": {},
   "source": [
    "## Inputs"
   ]
  },
  {
   "cell_type": "code",
   "execution_count": 4,
   "metadata": {
    "collapsed": true
   },
   "outputs": [],
   "source": [
    "averaged_files_name = '3_averaged_summary_stats'\n",
    "vicariously_calibrated_files_name = '4_vicarious_calibrations'\n",
    "\n",
    "averaged_files_location = os.path.abspath('..')+'/Data/'+averaged_files_name\n",
    "vicariously_calibrated_files_location = os.path.abspath('..')+'/Data/'+vicariously_calibrated_files_name"
   ]
  },
  {
   "cell_type": "markdown",
   "metadata": {},
   "source": [
    "## Subtract unfiltered files from raw files"
   ]
  },
  {
   "cell_type": "code",
   "execution_count": 27,
   "metadata": {
    "collapsed": false
   },
   "outputs": [],
   "source": [
    "## Create directory to store vicariously calibrated files\n",
    "if not os.path.exists(vicariously_calibrated_files_location):\n",
    "    os.makedirs(vicariously_calibrated_files_location)\n",
    "    \n",
    "dict_of_files = {}\n",
    "for filename in sorted(glob.glob(averaged_files_location+'/*.csv')):\n",
    "    #Get file info\n",
    "    basename = filename.split('/')[-1].split('.')[0]\n",
    "    if 'cal' in basename or 'Calibrations' in basename:\n",
    "        continue\n",
    "    else:\n",
    "        Sensor, Date, Site, Sample_Type, Abs_Type, filetype= filename.split('/')[-1].split('.')[0].split('_')\n",
    "        sample_id_for_calibration = '_'.join([Date, Site, Abs_Type])\n",
    "        if sample_id_for_calibration not in dict_of_files:\n",
    "            dict_of_files[sample_id_for_calibration] = [filename]\n",
    "        else:\n",
    "            dict_of_files[sample_id_for_calibration].append(filename)"
   ]
  },
  {
   "cell_type": "code",
   "execution_count": 56,
   "metadata": {
    "collapsed": false,
    "scrolled": false
   },
   "outputs": [
    {
     "name": "stderr",
     "output_type": "stream",
     "text": [
      "/Library/Frameworks/Python.framework/Versions/2.7/lib/python2.7/site-packages/ipykernel/__main__.py:11: SettingWithCopyWarning: \n",
      "A value is trying to be set on a copy of a slice from a DataFrame.\n",
      "Try using .loc[row_indexer,col_indexer] = value instead\n",
      "\n",
      "See the caveats in the documentation: http://pandas.pydata.org/pandas-docs/stable/indexing.html#indexing-view-versus-copy\n"
     ]
    }
   ],
   "source": [
    "dict_of_corrected_values = {}\n",
    "for i in dict_of_files:\n",
    "    for j in dict_of_files[i]:\n",
    "        if 'raw' in j:\n",
    "            raw_file = pd.read_csv(j, skiprows=0, delimiter = '\\t')\n",
    "            raw_file.rename(columns = {'c_mean':'mean', 'a_mean':'mean', 'c_std':'std','a_std':'std'}, inplace = True)\n",
    "        if 'fil' in j:\n",
    "            fil_file = pd.read_csv(j, skiprows=0, delimiter = '\\t')\n",
    "            fil_file.rename(columns = {'c_mean':'mean', 'a_mean':'mean', 'c_std':'std','a_std':'std'}, inplace = True)\n",
    "    new_df = raw_file[['wl']]\n",
    "    new_df['corrected'] = raw_file[['mean']]-fil_file[['mean']]\n",
    "    output_file_name = \"AC9\"+'_'+i\n",
    "    outputdir = vicariously_calibrated_files_location + '/' + output_file_name + '_viccal.csv'\n",
    "    new_df.to_csv(outputdir, sep='\\t')"
   ]
  }
 ],
 "metadata": {
  "kernelspec": {
   "display_name": "Python 2",
   "language": "python",
   "name": "python2"
  },
  "language_info": {
   "codemirror_mode": {
    "name": "ipython",
    "version": 2
   },
   "file_extension": ".py",
   "mimetype": "text/x-python",
   "name": "python",
   "nbconvert_exporter": "python",
   "pygments_lexer": "ipython2",
   "version": "2.7.9"
  }
 },
 "nbformat": 4,
 "nbformat_minor": 2
}
