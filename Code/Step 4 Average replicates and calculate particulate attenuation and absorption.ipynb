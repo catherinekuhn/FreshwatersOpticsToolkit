{
 "cells": [
  {
   "cell_type": "markdown",
   "metadata": {
    "deletable": true,
    "editable": true
   },
   "source": [
    "# ABOVE AC9 Data Processing  \n",
    "\n",
    "## Averaging replicates"
   ]
  },
  {
   "cell_type": "markdown",
   "metadata": {
    "deletable": true,
    "editable": true
   },
   "source": [
    "**Authors:** Catherine Kuhn, Elena Terzić and Anna Simpson\n",
    "\n",
    "**Last Updated:** September 19th, 2018"
   ]
  },
  {
   "cell_type": "markdown",
   "metadata": {
    "deletable": true,
    "editable": true
   },
   "source": [
    "### Import libraries"
   ]
  },
  {
   "cell_type": "code",
   "execution_count": 1,
   "metadata": {
    "collapsed": false,
    "deletable": true,
    "editable": true
   },
   "outputs": [],
   "source": [
    "### Import the required python libraries\n",
    "import numpy as np\n",
    "import pandas as pd\n",
    "import matplotlib.pylab as plt\n",
    "import glob\n",
    "import os\n",
    "import sys\n",
    "import csv\n",
    "from scipy import interpolate\n",
    "from os import listdir\n",
    "from os.path import isfile, join\n",
    "import matplotlib.gridspec as gridspec\n",
    "import inspect"
   ]
  },
  {
   "cell_type": "markdown",
   "metadata": {
    "deletable": true,
    "editable": true
   },
   "source": [
    "### Functions"
   ]
  },
  {
   "cell_type": "markdown",
   "metadata": {
    "deletable": true,
    "editable": true
   },
   "source": [
    "Built-in tools for this package (so far!)"
   ]
  },
  {
   "cell_type": "code",
   "execution_count": 2,
   "metadata": {
    "collapsed": false,
    "deletable": true,
    "editable": true
   },
   "outputs": [
    {
     "name": "stdout",
     "output_type": "stream",
     "text": [
      "get_id\n",
      "make_dir\n",
      "plotting_multiple_files\n"
     ]
    }
   ],
   "source": [
    "from fopt_toolkit import fopt_toolkit as fp\n",
    "for i in inspect.getmembers(fp, inspect.isfunction):\n",
    "    print i[0]"
   ]
  },
  {
   "cell_type": "markdown",
   "metadata": {
    "deletable": true,
    "editable": true
   },
   "source": [
    "## Inputs"
   ]
  },
  {
   "cell_type": "code",
   "execution_count": 3,
   "metadata": {
    "collapsed": false,
    "deletable": true,
    "editable": true
   },
   "outputs": [],
   "source": [
    "averaged_sample_filepath = fp.make_dir('Data/4_averaged_summary_stats')\n",
    "vic_cal_filepath_c = fp.make_dir('Data/4_vic_averaged_attenuation')\n",
    "vic_cal_filepath_a = fp.make_dir('Data/4_vic_averaged_absorption_PRE_SCATTER_CORRECTION')\n",
    "\n",
    "averaged_figures_filepath = fp.make_dir('Figures/Averaged_reps')\n",
    "averaged_and_vic_figures_filepath = fp.make_dir('Figures/Vic_and_averaged_reps')"
   ]
  },
  {
   "cell_type": "markdown",
   "metadata": {
    "deletable": true,
    "editable": true
   },
   "source": [
    "### Upload metadata file with filepaths"
   ]
  },
  {
   "cell_type": "code",
   "execution_count": 4,
   "metadata": {
    "collapsed": true,
    "deletable": true,
    "editable": true
   },
   "outputs": [],
   "source": [
    "metadata_updated = pd.read_csv('../Metadata/project_metadata_updated.csv', dtype={'Date': object, 'Rep':object}, skiprows=0, delimiter= '\\t')\n",
    "\n"
   ]
  },
  {
   "cell_type": "markdown",
   "metadata": {
    "deletable": true,
    "editable": true
   },
   "source": [
    "## Average replicates - replicates from 'passed second removal' folder. CALIBRATION FILES NOT INCLUDED"
   ]
  },
  {
   "cell_type": "markdown",
   "metadata": {
    "deletable": true,
    "editable": true
   },
   "source": [
    "** Makeing filepath_dict to store files for averaging. filepath_dict keys are combinations of site, analysis type (a or c), and sample_type (fil or raw, skipping cal); entries are dictionaries containing the replicate dataframes for those variables, separated into different dataframes for means and stds **"
   ]
  },
  {
   "cell_type": "markdown",
   "metadata": {
    "deletable": true,
    "editable": true
   },
   "source": [
    "Initializing dictionary\n",
    "\n",
    "Example entry: filepath_dict['9mi_a_raw'] = {'mean':[], 'std':[]}\n",
    "\n",
    "Then when filling, entries for 'mean' and 'std' will be a list of replicate dataframes for '9mi_a_raw', subset to just include the column mean or std with wl as the index. This way we can do different operations to combine the means and the stds, and then rebind the columns later."
   ]
  },
  {
   "cell_type": "code",
   "execution_count": 5,
   "metadata": {
    "collapsed": false,
    "deletable": true,
    "editable": true
   },
   "outputs": [
    {
     "name": "stderr",
     "output_type": "stream",
     "text": [
      "/Library/Frameworks/Python.framework/Versions/2.7/lib/python2.7/site-packages/ipykernel/__main__.py:3: UserWarning: Boolean Series key will be reindexed to match DataFrame index.\n",
      "  app.launch_new_instance()\n"
     ]
    }
   ],
   "source": [
    "### Subset the metadata to only use data that passed both removal steps\n",
    "### AND does not include calibration data\n",
    "temp = metadata_updated[metadata_updated['Pass_Second_Removal'] == 'pass'][metadata_updated['Sample_Type'] != 'cal']\n",
    "\n",
    "##Empty dictionary to store dataframes for averaging\n",
    "filepath_dict = {}\n",
    "## Iterate through all possible unique combinations of site, analysis type, and sample type\n",
    "for i in set(temp['Site']+'_'+temp['Analysis_Type']+'_'+temp['Sample_Type']):\n",
    "    ## Entries of dictionary are a dictionary with entries 'mean' and 'std\n",
    "    filepath_dict[i] = {'mean':[], 'std':[]}\n"
   ]
  },
  {
   "cell_type": "markdown",
   "metadata": {
    "deletable": true,
    "editable": true
   },
   "source": [
    "Filling dictionary"
   ]
  },
  {
   "cell_type": "code",
   "execution_count": 6,
   "metadata": {
    "collapsed": false,
    "deletable": true,
    "editable": true
   },
   "outputs": [],
   "source": [
    "### iterate through the rows of the subsetted metadata\n",
    "for index, row in temp.iterrows():\n",
    "    ## Get information for each row to match the key value of filepath_dict\n",
    "    site = row['Site']\n",
    "    analysis_type = row['Analysis_Type']\n",
    "    sample_type = row['Sample_Type']\n",
    "    key_value = site+'_'+analysis_type+'_'+sample_type\n",
    "    ## Read in the csv based on the filepath\n",
    "    df = pd.read_csv(row['Summary_file_path_cleaned_MANUAL'], skiprows = 0, delimiter= '\\t')         \n",
    "    df.reset_index(inplace=True, drop=False)\n",
    "    ## Rename columns so we don't have to write multiple lines of code\n",
    "    df.rename(columns = {'c_mean':'mean', 'a_mean':'mean', 'c_std':'std','a_std':'std'}, inplace = True)\n",
    "    ## store means and stds separately for each set of reps to be averaged\n",
    "    ## Becaue they require different operations\n",
    "    ## (index values are wavelengths)\n",
    "    filepath_dict[key_value]['mean'].append(df[['wl','mean']].set_index('wl'))\n",
    "    filepath_dict[key_value]['std'].append(df[['wl','std']].set_index('wl'))"
   ]
  },
  {
   "cell_type": "code",
   "execution_count": 7,
   "metadata": {
    "collapsed": false,
    "deletable": true,
    "editable": true
   },
   "outputs": [],
   "source": [
    "wavelengths = list(df['wl'])"
   ]
  },
  {
   "cell_type": "code",
   "execution_count": 8,
   "metadata": {
    "collapsed": false,
    "deletable": true,
    "editable": true
   },
   "outputs": [
    {
     "data": {
      "text/plain": [
       "[412.0, 440.0, 488.0, 510.0, 532.0, 555.0, 650.0, 676.0, 715.0]"
      ]
     },
     "execution_count": 8,
     "metadata": {},
     "output_type": "execute_result"
    }
   ],
   "source": [
    "wavelengths"
   ]
  },
  {
   "cell_type": "markdown",
   "metadata": {
    "deletable": true,
    "editable": true
   },
   "source": [
    "** Custom aggregation function for combining standard deviations: for standard deviations x and y, combined std = sqrt(x^2 + y^2) **"
   ]
  },
  {
   "cell_type": "code",
   "execution_count": 9,
   "metadata": {
    "collapsed": true,
    "deletable": true,
    "editable": true
   },
   "outputs": [],
   "source": [
    "def combine_std(series):\n",
    "    from math import sqrt\n",
    "    return sqrt(sum([i**2 for i in series]))"
   ]
  },
  {
   "cell_type": "code",
   "execution_count": 10,
   "metadata": {
    "collapsed": false,
    "deletable": true,
    "editable": true
   },
   "outputs": [],
   "source": [
    "averaged_files = {i.split('_')[0]:{'a':{'fil':None,'raw':None},\\\n",
    "                                   #'b':{'fil':None,'raw':None},\\\n",
    "                                   'c':{'fil':None,'raw':None},\\\n",
    "                                   'va':{'vic':None},\\\n",
    "                                   #'vb':{'vic':None},\\\n",
    "                                   'vc':{'vic':None},\\\n",
    "                                  } for i in filepath_dict}\n",
    "for i in filepath_dict:\n",
    "    site = i.split('_')[0]\n",
    "    a_type = i.split('_')[1]\n",
    "    s_type = i.split('_')[2]\n",
    "    means = pd.concat(filepath_dict[i]['mean']).groupby(level=0).mean()\n",
    "    stds = pd.concat(filepath_dict[i]['std']).groupby(level=0).agg(combine_std)\n",
    "    #temp_series = temp_series.to_frame(name=i)\n",
    "    means['std'] = stds['std']\n",
    "    averaged_files[site][a_type][s_type] = means"
   ]
  },
  {
   "cell_type": "code",
   "execution_count": 12,
   "metadata": {
    "collapsed": false,
    "deletable": true,
    "editable": true
   },
   "outputs": [],
   "source": [
    "for i in averaged_files:\n",
    "    ## define averaged files\n",
    "    absorption_raw = averaged_files[i]['a']['raw']\n",
    "    absorption_fil = averaged_files[i]['a']['fil']\n",
    "    attenuation_raw = averaged_files[i]['c']['raw']\n",
    "    attenuation_fil = averaged_files[i]['c']['fil']\n",
    "    ## Calculate means for backscatter\n",
    "    #raw_scatter_mean = attenuation_raw[['mean']]-absorption_raw[['mean']]\n",
    "    #fil_scatter_mean = attenuation_fil[['mean']]-absorption_fil[['mean']]\n",
    "    ## Calculate standard deviations for backscatter\n",
    "    #raw_scatter_std = pd.concat([absorption_raw[['std']], attenuation_raw[['std']]]).groupby(level=0).agg(combine_std)\n",
    "    #fil_scatter_std = pd.concat([absorption_fil[['std']], attenuation_fil[['std']]]).groupby(level=0).agg(combine_std)\n",
    "    ## Append standard deviations\n",
    "    #raw_scatter_mean['std'] = raw_scatter_std['std']\n",
    "    #fil_scatter_mean['std'] = fil_scatter_std['std']\n",
    "    ## Add backscatter dataframes to dictionary for plotting\n",
    "    #averaged_files[i]['b']['raw'] = raw_scatter_mean\n",
    "    #averaged_files[i]['b']['fil'] = fil_scatter_mean\n",
    "    ## Calculating vicarious calibration means\n",
    "    vic_absorption_mean = absorption_raw[['mean']]-absorption_fil[['mean']]\n",
    "    vic_attenuation_mean = attenuation_raw[['mean']] - attenuation_fil[['mean']]\n",
    "    #vic_scatter_mean = raw_scatter_mean[['mean']] - fil_scatter_mean[['mean']]\n",
    "    ## Calculating standard deviations for vicarious calibration\n",
    "    vic_absorption_std = pd.concat([absorption_raw[['std']], absorption_fil[['std']]]).groupby(level=0).agg(combine_std)\n",
    "    vic_attenuation_std = pd.concat([attenuation_raw[['std']], attenuation_fil[['std']]]).groupby(level=0).agg(combine_std)\n",
    "    #vic_scatter_std = pd.concat([raw_scatter_mean[['std']], fil_scatter_mean[['std']]]).groupby(level=0).agg(combine_std)\n",
    "    ## Putting new standard deviations into vicarious calibration dataframes\n",
    "    vic_absorption_mean['std'] = vic_absorption_std['std']\n",
    "    vic_attenuation_mean['std'] = vic_attenuation_std['std']\n",
    "    #vic_scatter_mean['std'] = vic_scatter_std['std']\n",
    "    ## Adding vicarious calibration dataframes to dictionary for plotting\n",
    "    averaged_files[i]['va']['vic'] = vic_absorption_mean\n",
    "    averaged_files[i]['vc']['vic'] = vic_attenuation_mean\n",
    "    #averaged_files[i]['vb']['vic'] = vic_scatter_mean\n",
    "    ### Save averaged files\n",
    "    absorption_raw.to_csv(averaged_sample_filepath+'/Averaged_'+i+'_'+'a_raw.csv', sep='\\t',index=False)\n",
    "    absorption_fil.to_csv(averaged_sample_filepath+'/Averaged_'+i+'_'+'a_fil.csv', sep='\\t',index=False)\n",
    "    attenuation_raw.to_csv(averaged_sample_filepath+'/Averaged_'+i+'_'+'c_raw.csv', sep='\\t',index=False)\n",
    "    attenuation_fil.to_csv(averaged_sample_filepath+'/Averaged_'+i+'_'+'c_fil.csv', sep='\\t',index=False)\n",
    "    #raw_scatter_mean.to_csv(averaged_sample_filepath+'/Averaged_'+i+'_'+'b_raw.csv', sep='\\t',index=False)\n",
    "    #fil_scatter_mean.to_csv(averaged_sample_filepath+'/Averaged_'+i+'_'+'b_fil.csv', sep='\\t',index=False)\n",
    "    ## Save vicariously calibrated files\n",
    "    vic_absorption_mean.to_csv(vic_cal_filepath_a+'/Vical_'+i+'_'+'a.csv', sep='\\t',index=True)\n",
    "    vic_attenuation_mean.to_csv(vic_cal_filepath_c+'/Vical_'+i+'_'+'c.csv', sep='\\t',index=True)\n",
    "    #vic_scatter_mean.to_csv(vic_cal_filepath+'/Vical_'+i+'_'+'b.csv', sep='\\t',index=False)"
   ]
  }
 ],
 "metadata": {
  "kernelspec": {
   "display_name": "Python 2",
   "language": "python",
   "name": "python2"
  },
  "language_info": {
   "codemirror_mode": {
    "name": "ipython",
    "version": 2
   },
   "file_extension": ".py",
   "mimetype": "text/x-python",
   "name": "python",
   "nbconvert_exporter": "python",
   "pygments_lexer": "ipython2",
   "version": "2.7.9"
  }
 },
 "nbformat": 4,
 "nbformat_minor": 2
}
