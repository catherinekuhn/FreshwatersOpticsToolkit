{
 "cells": [
  {
   "cell_type": "markdown",
   "metadata": {
    "deletable": true,
    "editable": true
   },
   "source": [
    "## Creating Sullivan Chart for AC-9 Data"
   ]
  },
  {
   "cell_type": "code",
   "execution_count": 2,
   "metadata": {
    "collapsed": true,
    "deletable": true,
    "editable": true
   },
   "outputs": [],
   "source": [
    "import pandas as pd\n",
    "from scipy import interpolate"
   ]
  },
  {
   "cell_type": "code",
   "execution_count": 3,
   "metadata": {
    "collapsed": false,
    "deletable": true,
    "editable": true
   },
   "outputs": [],
   "source": [
    "sullivan_chart = pd.read_csv('../Metadata/Sullivan_T_chart.txt',sep=\" \")"
   ]
  },
  {
   "cell_type": "code",
   "execution_count": 5,
   "metadata": {
    "collapsed": true,
    "deletable": true,
    "editable": true
   },
   "outputs": [],
   "source": [
    "sullivan_chart = sullivan_chart[['wl[nm]', 'phi_t', 'phi_s_a', 'phi_s_c']]"
   ]
  },
  {
   "cell_type": "code",
   "execution_count": 4,
   "metadata": {
    "collapsed": true,
    "deletable": true,
    "editable": true
   },
   "outputs": [],
   "source": [
    "ac9_wavelengths = [412, 440, 488, 510, 532, 555, 650, 676, 715]"
   ]
  },
  {
   "cell_type": "code",
   "execution_count": 7,
   "metadata": {
    "collapsed": false,
    "deletable": true,
    "editable": true
   },
   "outputs": [],
   "source": [
    "df2 = sullivan_chart"
   ]
  },
  {
   "cell_type": "code",
   "execution_count": 8,
   "metadata": {
    "collapsed": true,
    "deletable": true,
    "editable": true
   },
   "outputs": [],
   "source": [
    "wl_phi  = df2['wl[nm]'].astype(float)\n",
    "phi_t   = df2['phi_t'].astype(float)\n",
    "phi_s_a = df2['phi_s_a'].astype(float)\n",
    "phi_s_c = df2['phi_s_c'].astype(float)"
   ]
  },
  {
   "cell_type": "code",
   "execution_count": 9,
   "metadata": {
    "collapsed": true,
    "deletable": true,
    "editable": true
   },
   "outputs": [],
   "source": [
    "phi_t_list = []\n",
    "a_phi_s_list = []\n",
    "c_phi_s_list = []"
   ]
  },
  {
   "cell_type": "code",
   "execution_count": 10,
   "metadata": {
    "collapsed": true,
    "deletable": true,
    "editable": true
   },
   "outputs": [],
   "source": [
    "for wl in ac9_wavelengths:\n",
    "    phi_t_all = interpolate.interp1d(wl_phi, phi_t, kind='linear', fill_value='extrapolate')(wl)\n",
    "    a_phi_s = interpolate.interp1d(wl_phi, phi_s_a, kind='linear', fill_value='extrapolate')(wl)\n",
    "    c_phi_s = interpolate.interp1d(wl_phi, phi_s_c, kind='linear', fill_value='extrapolate')(wl)\n",
    "    phi_t_list.append(phi_t_all.item())\n",
    "    a_phi_s_list.append(a_phi_s.item())\n",
    "    c_phi_s_list.append(c_phi_s.item())"
   ]
  },
  {
   "cell_type": "code",
   "execution_count": 17,
   "metadata": {
    "collapsed": true,
    "deletable": true,
    "editable": true
   },
   "outputs": [],
   "source": [
    "df = {'wavelength':ac9_wavelengths, 'phi_t':phi_t_list,\n",
    "                      'a_phi_s':a_phi_s_list, 'c_phi_s':c_phi_s_list}"
   ]
  },
  {
   "cell_type": "code",
   "execution_count": 18,
   "metadata": {
    "collapsed": false,
    "deletable": true,
    "editable": true
   },
   "outputs": [],
   "source": [
    "sullivan_chart_ac9 = pd.DataFrame.from_dict(df)"
   ]
  },
  {
   "cell_type": "code",
   "execution_count": 20,
   "metadata": {
    "collapsed": false,
    "deletable": true,
    "editable": true
   },
   "outputs": [],
   "source": [
    "sullivan_chart_ac9 = sullivan_chart_ac9[['wavelength','phi_t','a_phi_s','c_phi_s']]"
   ]
  },
  {
   "cell_type": "code",
   "execution_count": 26,
   "metadata": {
    "collapsed": false,
    "deletable": true,
    "editable": true
   },
   "outputs": [],
   "source": [
    "sullivan_chart_ac9.to_csv('../Metadata/sullivan_chart_ac9.csv', sep='\\t',index=False)"
   ]
  }
 ],
 "metadata": {
  "kernelspec": {
   "display_name": "Python 2",
   "language": "python",
   "name": "python2"
  },
  "language_info": {
   "codemirror_mode": {
    "name": "ipython",
    "version": 2
   },
   "file_extension": ".py",
   "mimetype": "text/x-python",
   "name": "python",
   "nbconvert_exporter": "python",
   "pygments_lexer": "ipython2",
   "version": "2.7.9"
  }
 },
 "nbformat": 4,
 "nbformat_minor": 2
}
