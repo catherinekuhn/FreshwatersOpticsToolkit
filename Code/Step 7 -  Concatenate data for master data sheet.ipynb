{
 "cells": [
  {
   "cell_type": "markdown",
   "metadata": {},
   "source": [
    "### Concatenate averaged raw & fil and vicarious calibration information into formatting for master datasheet"
   ]
  },
  {
   "cell_type": "markdown",
   "metadata": {},
   "source": [
    "** Import packages **"
   ]
  },
  {
   "cell_type": "code",
   "execution_count": 21,
   "metadata": {},
   "outputs": [],
   "source": [
    "from fopt_toolkit import fopt_toolkit as fp\n",
    "import glob\n",
    "import pandas as pd"
   ]
  },
  {
   "cell_type": "markdown",
   "metadata": {},
   "source": [
    "** Filepaths for averaged raw/fil and vicarious calibration files **"
   ]
  },
  {
   "cell_type": "code",
   "execution_count": 22,
   "metadata": {},
   "outputs": [],
   "source": [
    "vic_cal_filepath = fp.make_dir('Data/5_final_vical')\n",
    "averaged_filepath = fp.make_dir('Data/4_averaged_summary_stats')"
   ]
  },
  {
   "cell_type": "markdown",
   "metadata": {},
   "source": [
    "** Filepath to store summary data **"
   ]
  },
  {
   "cell_type": "code",
   "execution_count": 23,
   "metadata": {},
   "outputs": [],
   "source": [
    "new_filepath = fp.make_dir('Data/7_overall_summary')"
   ]
  },
  {
   "cell_type": "markdown",
   "metadata": {},
   "source": [
    "** Get the list of averaged fil/raw and vicarious calibration csv files from filepath **"
   ]
  },
  {
   "cell_type": "code",
   "execution_count": 24,
   "metadata": {},
   "outputs": [],
   "source": [
    "vic_file_list = sorted(glob.glob(vic_cal_filepath+'/*.csv'))\n",
    "average_file_list = sorted(glob.glob(averaged_filepath+'/*.csv'))"
   ]
  },
  {
   "cell_type": "code",
   "execution_count": 25,
   "metadata": {},
   "outputs": [],
   "source": [
    "raw_file_list = []\n",
    "fil_file_list = []\n",
    "for i in average_file_list:\n",
    "    if 'raw.csv' in i:\n",
    "        raw_file_list.append(i)\n",
    "    else:\n",
    "        fil_file_list.append(i)"
   ]
  },
  {
   "cell_type": "markdown",
   "metadata": {},
   "source": [
    "** Get dictionaries with dataframes (grouped by sample type) **"
   ]
  },
  {
   "cell_type": "code",
   "execution_count": 26,
   "metadata": {},
   "outputs": [],
   "source": [
    "def fill_dict(file_list, scatter=True):\n",
    "    if scatter is True:\n",
    "        my_dictionary = {'a':[],'b':[],'c':[]}\n",
    "    else:\n",
    "        my_dictionary = {'a':[],'c':[]}\n",
    "    for file_path in file_list:\n",
    "        file_name_cols = file_path.split('/')[-1].split('.')[0].split('_')\n",
    "        lake_name = file_name_cols[1]\n",
    "        sample_type = file_name_cols[2]\n",
    "        df = pd.read_csv(file_path, skiprows=0, delimiter= '\\t')\n",
    "        df['lake'] = lake_name\n",
    "        my_dictionary[sample_type].append(df)\n",
    "    return my_dictionary"
   ]
  },
  {
   "cell_type": "code",
   "execution_count": 27,
   "metadata": {},
   "outputs": [],
   "source": [
    "vic_cal_dfs = fill_dict(vic_file_list)\n",
    "raw_dfs = fill_dict(raw_file_list)\n",
    "fil_dfs = fill_dict(fil_file_list)"
   ]
  },
  {
   "cell_type": "code",
   "execution_count": 43,
   "metadata": {},
   "outputs": [
    {
     "data": {
      "text/plain": [
       "['/Users/scintillation/Documents/GitHub/FreshwatersOpticsToolkit/Data/4_averaged_summary_stats/Averaged_bea_a_raw.csv',\n",
       " '/Users/scintillation/Documents/GitHub/FreshwatersOpticsToolkit/Data/4_averaged_summary_stats/Averaged_bea_b_raw.csv',\n",
       " '/Users/scintillation/Documents/GitHub/FreshwatersOpticsToolkit/Data/4_averaged_summary_stats/Averaged_bea_c_raw.csv',\n",
       " '/Users/scintillation/Documents/GitHub/FreshwatersOpticsToolkit/Data/4_averaged_summary_stats/Averaged_ch6_a_raw.csv',\n",
       " '/Users/scintillation/Documents/GitHub/FreshwatersOpticsToolkit/Data/4_averaged_summary_stats/Averaged_ch6_b_raw.csv',\n",
       " '/Users/scintillation/Documents/GitHub/FreshwatersOpticsToolkit/Data/4_averaged_summary_stats/Averaged_ch6_c_raw.csv',\n",
       " '/Users/scintillation/Documents/GitHub/FreshwatersOpticsToolkit/Data/4_averaged_summary_stats/Averaged_dor_a_raw.csv',\n",
       " '/Users/scintillation/Documents/GitHub/FreshwatersOpticsToolkit/Data/4_averaged_summary_stats/Averaged_dor_b_raw.csv',\n",
       " '/Users/scintillation/Documents/GitHub/FreshwatersOpticsToolkit/Data/4_averaged_summary_stats/Averaged_dor_c_raw.csv',\n",
       " '/Users/scintillation/Documents/GitHub/FreshwatersOpticsToolkit/Data/4_averaged_summary_stats/Averaged_egg_a_raw.csv',\n",
       " '/Users/scintillation/Documents/GitHub/FreshwatersOpticsToolkit/Data/4_averaged_summary_stats/Averaged_egg_b_raw.csv',\n",
       " '/Users/scintillation/Documents/GitHub/FreshwatersOpticsToolkit/Data/4_averaged_summary_stats/Averaged_egg_c_raw.csv',\n",
       " '/Users/scintillation/Documents/GitHub/FreshwatersOpticsToolkit/Data/4_averaged_summary_stats/Averaged_flt_a_raw.csv',\n",
       " '/Users/scintillation/Documents/GitHub/FreshwatersOpticsToolkit/Data/4_averaged_summary_stats/Averaged_flt_b_raw.csv',\n",
       " '/Users/scintillation/Documents/GitHub/FreshwatersOpticsToolkit/Data/4_averaged_summary_stats/Averaged_flt_c_raw.csv',\n",
       " '/Users/scintillation/Documents/GitHub/FreshwatersOpticsToolkit/Data/4_averaged_summary_stats/Averaged_gst_a_raw.csv',\n",
       " '/Users/scintillation/Documents/GitHub/FreshwatersOpticsToolkit/Data/4_averaged_summary_stats/Averaged_gst_b_raw.csv',\n",
       " '/Users/scintillation/Documents/GitHub/FreshwatersOpticsToolkit/Data/4_averaged_summary_stats/Averaged_gst_c_raw.csv',\n",
       " '/Users/scintillation/Documents/GitHub/FreshwatersOpticsToolkit/Data/4_averaged_summary_stats/Averaged_lim_a_raw.csv',\n",
       " '/Users/scintillation/Documents/GitHub/FreshwatersOpticsToolkit/Data/4_averaged_summary_stats/Averaged_lim_b_raw.csv',\n",
       " '/Users/scintillation/Documents/GitHub/FreshwatersOpticsToolkit/Data/4_averaged_summary_stats/Averaged_lim_c_raw.csv',\n",
       " '/Users/scintillation/Documents/GitHub/FreshwatersOpticsToolkit/Data/4_averaged_summary_stats/Averaged_lit_a_raw.csv',\n",
       " '/Users/scintillation/Documents/GitHub/FreshwatersOpticsToolkit/Data/4_averaged_summary_stats/Averaged_lit_b_raw.csv',\n",
       " '/Users/scintillation/Documents/GitHub/FreshwatersOpticsToolkit/Data/4_averaged_summary_stats/Averaged_lit_c_raw.csv',\n",
       " '/Users/scintillation/Documents/GitHub/FreshwatersOpticsToolkit/Data/4_averaged_summary_stats/Averaged_rat_a_raw.csv',\n",
       " '/Users/scintillation/Documents/GitHub/FreshwatersOpticsToolkit/Data/4_averaged_summary_stats/Averaged_rat_b_raw.csv',\n",
       " '/Users/scintillation/Documents/GitHub/FreshwatersOpticsToolkit/Data/4_averaged_summary_stats/Averaged_rat_c_raw.csv',\n",
       " '/Users/scintillation/Documents/GitHub/FreshwatersOpticsToolkit/Data/4_averaged_summary_stats/Averaged_rob_a_raw.csv',\n",
       " '/Users/scintillation/Documents/GitHub/FreshwatersOpticsToolkit/Data/4_averaged_summary_stats/Averaged_rob_b_raw.csv',\n",
       " '/Users/scintillation/Documents/GitHub/FreshwatersOpticsToolkit/Data/4_averaged_summary_stats/Averaged_rob_c_raw.csv',\n",
       " '/Users/scintillation/Documents/GitHub/FreshwatersOpticsToolkit/Data/4_averaged_summary_stats/Averaged_roc_a_raw.csv',\n",
       " '/Users/scintillation/Documents/GitHub/FreshwatersOpticsToolkit/Data/4_averaged_summary_stats/Averaged_roc_b_raw.csv',\n",
       " '/Users/scintillation/Documents/GitHub/FreshwatersOpticsToolkit/Data/4_averaged_summary_stats/Averaged_roc_c_raw.csv',\n",
       " '/Users/scintillation/Documents/GitHub/FreshwatersOpticsToolkit/Data/4_averaged_summary_stats/Averaged_thi_a_raw.csv',\n",
       " '/Users/scintillation/Documents/GitHub/FreshwatersOpticsToolkit/Data/4_averaged_summary_stats/Averaged_thi_b_raw.csv',\n",
       " '/Users/scintillation/Documents/GitHub/FreshwatersOpticsToolkit/Data/4_averaged_summary_stats/Averaged_thi_c_raw.csv']"
      ]
     },
     "execution_count": 43,
     "metadata": {},
     "output_type": "execute_result"
    }
   ],
   "source": [
    "raw_file_list"
   ]
  },
  {
   "cell_type": "markdown",
   "metadata": {},
   "source": [
    "** Concatenate and combine dataframes by sample type, rename columns **"
   ]
  },
  {
   "cell_type": "code",
   "execution_count": 29,
   "metadata": {},
   "outputs": [],
   "source": [
    "def get_concat(my_dictionary):\n",
    "    all_data_frames = []\n",
    "    for sample_type in my_dictionary:\n",
    "        ## Get list of dataframes from my_dictionary\n",
    "        dfs = my_dictionary[sample_type]\n",
    "        ## Concatenate dfs (stacked)\n",
    "        concatenated_dfs = pd.concat(dfs)\n",
    "        ## Pivot dataframe so that each lake is its own row, columns are wavelengths\n",
    "        df_means = concatenated_dfs.pivot(index='lake',columns='wl',values='mean').rename_axis(None, axis=0).rename_axis(None, axis=1)\n",
    "        df_stds = concatenated_dfs.pivot(index='lake',columns='wl',values='std').rename_axis(None, axis=0).rename_axis(None, axis=1)\n",
    "        ## Get new names for columns\n",
    "        means_column_names = [sample_type+'_'+str(int(i))+'_mean' for i in list(df_means.columns)]\n",
    "        stds_column_names = [sample_type+'_'+str(int(i))+'_std' for i in list(df_stds.columns)]\n",
    "        ## Assign new column names to dataframes\n",
    "        df_means.columns = means_column_names\n",
    "        df_stds.columns = stds_column_names\n",
    "        ## Combine means and standard deviations\n",
    "        df_all = pd.concat([df_means,df_stds], axis = 1)\n",
    "        ## Sort columns\n",
    "        df_all = df_all.reindex(sorted(df_all.columns), axis=1)\n",
    "        all_data_frames.append(df_all)\n",
    "    all_dfs_all_sample_types = pd.concat(all_data_frames, axis = 1)\n",
    "    all_dfs_all_sample_types = all_dfs_all_sample_types.reindex(sorted(all_dfs_all_sample_types.columns), axis=1)\n",
    "    return all_dfs_all_sample_types"
   ]
  },
  {
   "cell_type": "code",
   "execution_count": 36,
   "metadata": {},
   "outputs": [],
   "source": [
    "dfs = fil_dfs['a']\n",
    "        ## Concatenate dfs (stacked)\n",
    "concatenated_dfs = pd.concat(dfs)"
   ]
  },
  {
   "cell_type": "code",
   "execution_count": 38,
   "metadata": {},
   "outputs": [],
   "source": [
    "df_means = concatenated_dfs.pivot(index='lake',columns='wl',values='mean').rename_axis(None, axis=0).rename_axis(None, axis=1)\n"
   ]
  },
  {
   "cell_type": "code",
   "execution_count": 39,
   "metadata": {},
   "outputs": [
    {
     "data": {
      "text/html": [
       "<div>\n",
       "<style scoped>\n",
       "    .dataframe tbody tr th:only-of-type {\n",
       "        vertical-align: middle;\n",
       "    }\n",
       "\n",
       "    .dataframe tbody tr th {\n",
       "        vertical-align: top;\n",
       "    }\n",
       "\n",
       "    .dataframe thead th {\n",
       "        text-align: right;\n",
       "    }\n",
       "</style>\n",
       "<table border=\"1\" class=\"dataframe\">\n",
       "  <thead>\n",
       "    <tr style=\"text-align: right;\">\n",
       "      <th></th>\n",
       "      <th>412.0</th>\n",
       "      <th>440.0</th>\n",
       "      <th>488.0</th>\n",
       "      <th>510.0</th>\n",
       "      <th>532.0</th>\n",
       "      <th>555.0</th>\n",
       "      <th>650.0</th>\n",
       "      <th>676.0</th>\n",
       "      <th>715.0</th>\n",
       "    </tr>\n",
       "  </thead>\n",
       "  <tbody>\n",
       "    <tr>\n",
       "      <th>bea</th>\n",
       "      <td>4.096789</td>\n",
       "      <td>2.864019</td>\n",
       "      <td>1.922016</td>\n",
       "      <td>1.683106</td>\n",
       "      <td>1.496809</td>\n",
       "      <td>1.360035</td>\n",
       "      <td>1.116762</td>\n",
       "      <td>1.097409</td>\n",
       "      <td>1.031823</td>\n",
       "    </tr>\n",
       "    <tr>\n",
       "      <th>ch6</th>\n",
       "      <td>3.754134</td>\n",
       "      <td>2.421812</td>\n",
       "      <td>1.437218</td>\n",
       "      <td>1.153294</td>\n",
       "      <td>1.008096</td>\n",
       "      <td>0.961315</td>\n",
       "      <td>0.785820</td>\n",
       "      <td>0.689139</td>\n",
       "      <td>0.712909</td>\n",
       "    </tr>\n",
       "    <tr>\n",
       "      <th>dor</th>\n",
       "      <td>2.792985</td>\n",
       "      <td>1.919414</td>\n",
       "      <td>1.276419</td>\n",
       "      <td>1.133394</td>\n",
       "      <td>1.026247</td>\n",
       "      <td>0.942682</td>\n",
       "      <td>0.798766</td>\n",
       "      <td>0.786012</td>\n",
       "      <td>0.749659</td>\n",
       "    </tr>\n",
       "    <tr>\n",
       "      <th>egg</th>\n",
       "      <td>16.779353</td>\n",
       "      <td>10.348803</td>\n",
       "      <td>5.349820</td>\n",
       "      <td>4.151990</td>\n",
       "      <td>3.236153</td>\n",
       "      <td>2.492249</td>\n",
       "      <td>1.091991</td>\n",
       "      <td>0.929152</td>\n",
       "      <td>0.676786</td>\n",
       "    </tr>\n",
       "    <tr>\n",
       "      <th>flt</th>\n",
       "      <td>5.334881</td>\n",
       "      <td>3.628133</td>\n",
       "      <td>2.333191</td>\n",
       "      <td>1.989251</td>\n",
       "      <td>1.766941</td>\n",
       "      <td>1.667248</td>\n",
       "      <td>1.350828</td>\n",
       "      <td>1.298575</td>\n",
       "      <td>1.252814</td>\n",
       "    </tr>\n",
       "    <tr>\n",
       "      <th>gst</th>\n",
       "      <td>2.051160</td>\n",
       "      <td>1.572973</td>\n",
       "      <td>1.166641</td>\n",
       "      <td>1.062914</td>\n",
       "      <td>0.979948</td>\n",
       "      <td>0.916295</td>\n",
       "      <td>0.804942</td>\n",
       "      <td>0.804784</td>\n",
       "      <td>0.734155</td>\n",
       "    </tr>\n",
       "    <tr>\n",
       "      <th>lim</th>\n",
       "      <td>7.814719</td>\n",
       "      <td>5.187099</td>\n",
       "      <td>3.081641</td>\n",
       "      <td>2.535268</td>\n",
       "      <td>2.109746</td>\n",
       "      <td>1.783150</td>\n",
       "      <td>1.096455</td>\n",
       "      <td>1.033741</td>\n",
       "      <td>0.851563</td>\n",
       "    </tr>\n",
       "    <tr>\n",
       "      <th>lit</th>\n",
       "      <td>6.964290</td>\n",
       "      <td>5.177600</td>\n",
       "      <td>3.635649</td>\n",
       "      <td>3.200915</td>\n",
       "      <td>2.857893</td>\n",
       "      <td>2.586936</td>\n",
       "      <td>2.194684</td>\n",
       "      <td>2.350307</td>\n",
       "      <td>1.943220</td>\n",
       "    </tr>\n",
       "    <tr>\n",
       "      <th>rat</th>\n",
       "      <td>16.523725</td>\n",
       "      <td>10.373091</td>\n",
       "      <td>5.806940</td>\n",
       "      <td>4.715655</td>\n",
       "      <td>3.906761</td>\n",
       "      <td>3.302420</td>\n",
       "      <td>2.088881</td>\n",
       "      <td>1.938160</td>\n",
       "      <td>1.711911</td>\n",
       "    </tr>\n",
       "    <tr>\n",
       "      <th>rob</th>\n",
       "      <td>12.019942</td>\n",
       "      <td>8.039374</td>\n",
       "      <td>4.946395</td>\n",
       "      <td>4.141490</td>\n",
       "      <td>3.516272</td>\n",
       "      <td>3.020026</td>\n",
       "      <td>2.261977</td>\n",
       "      <td>2.248483</td>\n",
       "      <td>1.927516</td>\n",
       "    </tr>\n",
       "    <tr>\n",
       "      <th>roc</th>\n",
       "      <td>7.809730</td>\n",
       "      <td>4.448564</td>\n",
       "      <td>2.097573</td>\n",
       "      <td>1.582522</td>\n",
       "      <td>1.207387</td>\n",
       "      <td>0.923200</td>\n",
       "      <td>0.410290</td>\n",
       "      <td>0.359259</td>\n",
       "      <td>0.287148</td>\n",
       "    </tr>\n",
       "    <tr>\n",
       "      <th>thi</th>\n",
       "      <td>4.309702</td>\n",
       "      <td>2.890003</td>\n",
       "      <td>1.829709</td>\n",
       "      <td>1.555565</td>\n",
       "      <td>1.358834</td>\n",
       "      <td>1.224060</td>\n",
       "      <td>0.958383</td>\n",
       "      <td>0.925663</td>\n",
       "      <td>0.868089</td>\n",
       "    </tr>\n",
       "  </tbody>\n",
       "</table>\n",
       "</div>"
      ],
      "text/plain": [
       "         412.0      440.0     488.0     510.0     532.0     555.0     650.0  \\\n",
       "bea   4.096789   2.864019  1.922016  1.683106  1.496809  1.360035  1.116762   \n",
       "ch6   3.754134   2.421812  1.437218  1.153294  1.008096  0.961315  0.785820   \n",
       "dor   2.792985   1.919414  1.276419  1.133394  1.026247  0.942682  0.798766   \n",
       "egg  16.779353  10.348803  5.349820  4.151990  3.236153  2.492249  1.091991   \n",
       "flt   5.334881   3.628133  2.333191  1.989251  1.766941  1.667248  1.350828   \n",
       "gst   2.051160   1.572973  1.166641  1.062914  0.979948  0.916295  0.804942   \n",
       "lim   7.814719   5.187099  3.081641  2.535268  2.109746  1.783150  1.096455   \n",
       "lit   6.964290   5.177600  3.635649  3.200915  2.857893  2.586936  2.194684   \n",
       "rat  16.523725  10.373091  5.806940  4.715655  3.906761  3.302420  2.088881   \n",
       "rob  12.019942   8.039374  4.946395  4.141490  3.516272  3.020026  2.261977   \n",
       "roc   7.809730   4.448564  2.097573  1.582522  1.207387  0.923200  0.410290   \n",
       "thi   4.309702   2.890003  1.829709  1.555565  1.358834  1.224060  0.958383   \n",
       "\n",
       "        676.0     715.0  \n",
       "bea  1.097409  1.031823  \n",
       "ch6  0.689139  0.712909  \n",
       "dor  0.786012  0.749659  \n",
       "egg  0.929152  0.676786  \n",
       "flt  1.298575  1.252814  \n",
       "gst  0.804784  0.734155  \n",
       "lim  1.033741  0.851563  \n",
       "lit  2.350307  1.943220  \n",
       "rat  1.938160  1.711911  \n",
       "rob  2.248483  1.927516  \n",
       "roc  0.359259  0.287148  \n",
       "thi  0.925663  0.868089  "
      ]
     },
     "execution_count": 39,
     "metadata": {},
     "output_type": "execute_result"
    }
   ],
   "source": [
    "df_means"
   ]
  },
  {
   "cell_type": "code",
   "execution_count": 41,
   "metadata": {},
   "outputs": [],
   "source": [
    "vic_cal_summary = get_concat(vic_cal_dfs)"
   ]
  },
  {
   "cell_type": "code",
   "execution_count": 42,
   "metadata": {},
   "outputs": [
    {
     "ename": "KeyError",
     "evalue": "'wl'",
     "output_type": "error",
     "traceback": [
      "\u001b[0;31m---------------------------------------------------------------------------\u001b[0m",
      "\u001b[0;31mKeyError\u001b[0m                                  Traceback (most recent call last)",
      "\u001b[0;32m/usr/local/lib/python3.7/site-packages/pandas/core/indexes/base.py\u001b[0m in \u001b[0;36mget_loc\u001b[0;34m(self, key, method, tolerance)\u001b[0m\n\u001b[1;32m   2889\u001b[0m             \u001b[0;32mtry\u001b[0m\u001b[0;34m:\u001b[0m\u001b[0;34m\u001b[0m\u001b[0;34m\u001b[0m\u001b[0m\n\u001b[0;32m-> 2890\u001b[0;31m                 \u001b[0;32mreturn\u001b[0m \u001b[0mself\u001b[0m\u001b[0;34m.\u001b[0m\u001b[0m_engine\u001b[0m\u001b[0;34m.\u001b[0m\u001b[0mget_loc\u001b[0m\u001b[0;34m(\u001b[0m\u001b[0mkey\u001b[0m\u001b[0;34m)\u001b[0m\u001b[0;34m\u001b[0m\u001b[0;34m\u001b[0m\u001b[0m\n\u001b[0m\u001b[1;32m   2891\u001b[0m             \u001b[0;32mexcept\u001b[0m \u001b[0mKeyError\u001b[0m\u001b[0;34m:\u001b[0m\u001b[0;34m\u001b[0m\u001b[0;34m\u001b[0m\u001b[0m\n",
      "\u001b[0;32mpandas/_libs/index.pyx\u001b[0m in \u001b[0;36mpandas._libs.index.IndexEngine.get_loc\u001b[0;34m()\u001b[0m\n",
      "\u001b[0;32mpandas/_libs/index.pyx\u001b[0m in \u001b[0;36mpandas._libs.index.IndexEngine.get_loc\u001b[0;34m()\u001b[0m\n",
      "\u001b[0;32mpandas/_libs/hashtable_class_helper.pxi\u001b[0m in \u001b[0;36mpandas._libs.hashtable.PyObjectHashTable.get_item\u001b[0;34m()\u001b[0m\n",
      "\u001b[0;32mpandas/_libs/hashtable_class_helper.pxi\u001b[0m in \u001b[0;36mpandas._libs.hashtable.PyObjectHashTable.get_item\u001b[0;34m()\u001b[0m\n",
      "\u001b[0;31mKeyError\u001b[0m: 'wl'",
      "\nDuring handling of the above exception, another exception occurred:\n",
      "\u001b[0;31mKeyError\u001b[0m                                  Traceback (most recent call last)",
      "\u001b[0;32m<ipython-input-42-533d5c522136>\u001b[0m in \u001b[0;36m<module>\u001b[0;34m\u001b[0m\n\u001b[0;32m----> 1\u001b[0;31m \u001b[0mraw_summary\u001b[0m \u001b[0;34m=\u001b[0m \u001b[0mget_concat\u001b[0m\u001b[0;34m(\u001b[0m\u001b[0mraw_dfs\u001b[0m\u001b[0;34m)\u001b[0m\u001b[0;34m\u001b[0m\u001b[0;34m\u001b[0m\u001b[0m\n\u001b[0m",
      "\u001b[0;32m<ipython-input-29-720de39dcff5>\u001b[0m in \u001b[0;36mget_concat\u001b[0;34m(my_dictionary)\u001b[0m\n\u001b[1;32m      7\u001b[0m         \u001b[0mconcatenated_dfs\u001b[0m \u001b[0;34m=\u001b[0m \u001b[0mpd\u001b[0m\u001b[0;34m.\u001b[0m\u001b[0mconcat\u001b[0m\u001b[0;34m(\u001b[0m\u001b[0mdfs\u001b[0m\u001b[0;34m)\u001b[0m\u001b[0;34m\u001b[0m\u001b[0;34m\u001b[0m\u001b[0m\n\u001b[1;32m      8\u001b[0m         \u001b[0;31m## Pivot dataframe so that each lake is its own row, columns are wavelengths\u001b[0m\u001b[0;34m\u001b[0m\u001b[0;34m\u001b[0m\u001b[0;34m\u001b[0m\u001b[0m\n\u001b[0;32m----> 9\u001b[0;31m         \u001b[0mdf_means\u001b[0m \u001b[0;34m=\u001b[0m \u001b[0mconcatenated_dfs\u001b[0m\u001b[0;34m.\u001b[0m\u001b[0mpivot\u001b[0m\u001b[0;34m(\u001b[0m\u001b[0mindex\u001b[0m\u001b[0;34m=\u001b[0m\u001b[0;34m'lake'\u001b[0m\u001b[0;34m,\u001b[0m\u001b[0mcolumns\u001b[0m\u001b[0;34m=\u001b[0m\u001b[0;34m'wl'\u001b[0m\u001b[0;34m,\u001b[0m\u001b[0mvalues\u001b[0m\u001b[0;34m=\u001b[0m\u001b[0;34m'mean'\u001b[0m\u001b[0;34m)\u001b[0m\u001b[0;34m.\u001b[0m\u001b[0mrename_axis\u001b[0m\u001b[0;34m(\u001b[0m\u001b[0;32mNone\u001b[0m\u001b[0;34m,\u001b[0m \u001b[0maxis\u001b[0m\u001b[0;34m=\u001b[0m\u001b[0;36m0\u001b[0m\u001b[0;34m)\u001b[0m\u001b[0;34m.\u001b[0m\u001b[0mrename_axis\u001b[0m\u001b[0;34m(\u001b[0m\u001b[0;32mNone\u001b[0m\u001b[0;34m,\u001b[0m \u001b[0maxis\u001b[0m\u001b[0;34m=\u001b[0m\u001b[0;36m1\u001b[0m\u001b[0;34m)\u001b[0m\u001b[0;34m\u001b[0m\u001b[0;34m\u001b[0m\u001b[0m\n\u001b[0m\u001b[1;32m     10\u001b[0m         \u001b[0mdf_stds\u001b[0m \u001b[0;34m=\u001b[0m \u001b[0mconcatenated_dfs\u001b[0m\u001b[0;34m.\u001b[0m\u001b[0mpivot\u001b[0m\u001b[0;34m(\u001b[0m\u001b[0mindex\u001b[0m\u001b[0;34m=\u001b[0m\u001b[0;34m'lake'\u001b[0m\u001b[0;34m,\u001b[0m\u001b[0mcolumns\u001b[0m\u001b[0;34m=\u001b[0m\u001b[0;34m'wl'\u001b[0m\u001b[0;34m,\u001b[0m\u001b[0mvalues\u001b[0m\u001b[0;34m=\u001b[0m\u001b[0;34m'std'\u001b[0m\u001b[0;34m)\u001b[0m\u001b[0;34m.\u001b[0m\u001b[0mrename_axis\u001b[0m\u001b[0;34m(\u001b[0m\u001b[0;32mNone\u001b[0m\u001b[0;34m,\u001b[0m \u001b[0maxis\u001b[0m\u001b[0;34m=\u001b[0m\u001b[0;36m0\u001b[0m\u001b[0;34m)\u001b[0m\u001b[0;34m.\u001b[0m\u001b[0mrename_axis\u001b[0m\u001b[0;34m(\u001b[0m\u001b[0;32mNone\u001b[0m\u001b[0;34m,\u001b[0m \u001b[0maxis\u001b[0m\u001b[0;34m=\u001b[0m\u001b[0;36m1\u001b[0m\u001b[0;34m)\u001b[0m\u001b[0;34m\u001b[0m\u001b[0;34m\u001b[0m\u001b[0m\n\u001b[1;32m     11\u001b[0m         \u001b[0;31m## Get new names for columns\u001b[0m\u001b[0;34m\u001b[0m\u001b[0;34m\u001b[0m\u001b[0;34m\u001b[0m\u001b[0m\n",
      "\u001b[0;32m/usr/local/lib/python3.7/site-packages/pandas/core/frame.py\u001b[0m in \u001b[0;36mpivot\u001b[0;34m(self, index, columns, values)\u001b[0m\n\u001b[1;32m   5910\u001b[0m         \u001b[0;32mfrom\u001b[0m \u001b[0mpandas\u001b[0m\u001b[0;34m.\u001b[0m\u001b[0mcore\u001b[0m\u001b[0;34m.\u001b[0m\u001b[0mreshape\u001b[0m\u001b[0;34m.\u001b[0m\u001b[0mpivot\u001b[0m \u001b[0;32mimport\u001b[0m \u001b[0mpivot\u001b[0m\u001b[0;34m\u001b[0m\u001b[0;34m\u001b[0m\u001b[0m\n\u001b[1;32m   5911\u001b[0m \u001b[0;34m\u001b[0m\u001b[0m\n\u001b[0;32m-> 5912\u001b[0;31m         \u001b[0;32mreturn\u001b[0m \u001b[0mpivot\u001b[0m\u001b[0;34m(\u001b[0m\u001b[0mself\u001b[0m\u001b[0;34m,\u001b[0m \u001b[0mindex\u001b[0m\u001b[0;34m=\u001b[0m\u001b[0mindex\u001b[0m\u001b[0;34m,\u001b[0m \u001b[0mcolumns\u001b[0m\u001b[0;34m=\u001b[0m\u001b[0mcolumns\u001b[0m\u001b[0;34m,\u001b[0m \u001b[0mvalues\u001b[0m\u001b[0;34m=\u001b[0m\u001b[0mvalues\u001b[0m\u001b[0;34m)\u001b[0m\u001b[0;34m\u001b[0m\u001b[0;34m\u001b[0m\u001b[0m\n\u001b[0m\u001b[1;32m   5913\u001b[0m \u001b[0;34m\u001b[0m\u001b[0m\n\u001b[1;32m   5914\u001b[0m     _shared_docs[\n",
      "\u001b[0;32m/usr/local/lib/python3.7/site-packages/pandas/core/reshape/pivot.py\u001b[0m in \u001b[0;36mpivot\u001b[0;34m(data, index, columns, values)\u001b[0m\n\u001b[1;32m    419\u001b[0m         \u001b[0;32melse\u001b[0m\u001b[0;34m:\u001b[0m\u001b[0;34m\u001b[0m\u001b[0;34m\u001b[0m\u001b[0m\n\u001b[1;32m    420\u001b[0m             \u001b[0mindex\u001b[0m \u001b[0;34m=\u001b[0m \u001b[0mdata\u001b[0m\u001b[0;34m[\u001b[0m\u001b[0mindex\u001b[0m\u001b[0;34m]\u001b[0m\u001b[0;34m\u001b[0m\u001b[0;34m\u001b[0m\u001b[0m\n\u001b[0;32m--> 421\u001b[0;31m         \u001b[0mindex\u001b[0m \u001b[0;34m=\u001b[0m \u001b[0mMultiIndex\u001b[0m\u001b[0;34m.\u001b[0m\u001b[0mfrom_arrays\u001b[0m\u001b[0;34m(\u001b[0m\u001b[0;34m[\u001b[0m\u001b[0mindex\u001b[0m\u001b[0;34m,\u001b[0m \u001b[0mdata\u001b[0m\u001b[0;34m[\u001b[0m\u001b[0mcolumns\u001b[0m\u001b[0;34m]\u001b[0m\u001b[0;34m]\u001b[0m\u001b[0;34m)\u001b[0m\u001b[0;34m\u001b[0m\u001b[0;34m\u001b[0m\u001b[0m\n\u001b[0m\u001b[1;32m    422\u001b[0m \u001b[0;34m\u001b[0m\u001b[0m\n\u001b[1;32m    423\u001b[0m         \u001b[0;32mif\u001b[0m \u001b[0mis_list_like\u001b[0m\u001b[0;34m(\u001b[0m\u001b[0mvalues\u001b[0m\u001b[0;34m)\u001b[0m \u001b[0;32mand\u001b[0m \u001b[0;32mnot\u001b[0m \u001b[0misinstance\u001b[0m\u001b[0;34m(\u001b[0m\u001b[0mvalues\u001b[0m\u001b[0;34m,\u001b[0m \u001b[0mtuple\u001b[0m\u001b[0;34m)\u001b[0m\u001b[0;34m:\u001b[0m\u001b[0;34m\u001b[0m\u001b[0;34m\u001b[0m\u001b[0m\n",
      "\u001b[0;32m/usr/local/lib/python3.7/site-packages/pandas/core/frame.py\u001b[0m in \u001b[0;36m__getitem__\u001b[0;34m(self, key)\u001b[0m\n\u001b[1;32m   2973\u001b[0m             \u001b[0;32mif\u001b[0m \u001b[0mself\u001b[0m\u001b[0;34m.\u001b[0m\u001b[0mcolumns\u001b[0m\u001b[0;34m.\u001b[0m\u001b[0mnlevels\u001b[0m \u001b[0;34m>\u001b[0m \u001b[0;36m1\u001b[0m\u001b[0;34m:\u001b[0m\u001b[0;34m\u001b[0m\u001b[0;34m\u001b[0m\u001b[0m\n\u001b[1;32m   2974\u001b[0m                 \u001b[0;32mreturn\u001b[0m \u001b[0mself\u001b[0m\u001b[0;34m.\u001b[0m\u001b[0m_getitem_multilevel\u001b[0m\u001b[0;34m(\u001b[0m\u001b[0mkey\u001b[0m\u001b[0;34m)\u001b[0m\u001b[0;34m\u001b[0m\u001b[0;34m\u001b[0m\u001b[0m\n\u001b[0;32m-> 2975\u001b[0;31m             \u001b[0mindexer\u001b[0m \u001b[0;34m=\u001b[0m \u001b[0mself\u001b[0m\u001b[0;34m.\u001b[0m\u001b[0mcolumns\u001b[0m\u001b[0;34m.\u001b[0m\u001b[0mget_loc\u001b[0m\u001b[0;34m(\u001b[0m\u001b[0mkey\u001b[0m\u001b[0;34m)\u001b[0m\u001b[0;34m\u001b[0m\u001b[0;34m\u001b[0m\u001b[0m\n\u001b[0m\u001b[1;32m   2976\u001b[0m             \u001b[0;32mif\u001b[0m \u001b[0mis_integer\u001b[0m\u001b[0;34m(\u001b[0m\u001b[0mindexer\u001b[0m\u001b[0;34m)\u001b[0m\u001b[0;34m:\u001b[0m\u001b[0;34m\u001b[0m\u001b[0;34m\u001b[0m\u001b[0m\n\u001b[1;32m   2977\u001b[0m                 \u001b[0mindexer\u001b[0m \u001b[0;34m=\u001b[0m \u001b[0;34m[\u001b[0m\u001b[0mindexer\u001b[0m\u001b[0;34m]\u001b[0m\u001b[0;34m\u001b[0m\u001b[0;34m\u001b[0m\u001b[0m\n",
      "\u001b[0;32m/usr/local/lib/python3.7/site-packages/pandas/core/indexes/base.py\u001b[0m in \u001b[0;36mget_loc\u001b[0;34m(self, key, method, tolerance)\u001b[0m\n\u001b[1;32m   2890\u001b[0m                 \u001b[0;32mreturn\u001b[0m \u001b[0mself\u001b[0m\u001b[0;34m.\u001b[0m\u001b[0m_engine\u001b[0m\u001b[0;34m.\u001b[0m\u001b[0mget_loc\u001b[0m\u001b[0;34m(\u001b[0m\u001b[0mkey\u001b[0m\u001b[0;34m)\u001b[0m\u001b[0;34m\u001b[0m\u001b[0;34m\u001b[0m\u001b[0m\n\u001b[1;32m   2891\u001b[0m             \u001b[0;32mexcept\u001b[0m \u001b[0mKeyError\u001b[0m\u001b[0;34m:\u001b[0m\u001b[0;34m\u001b[0m\u001b[0;34m\u001b[0m\u001b[0m\n\u001b[0;32m-> 2892\u001b[0;31m                 \u001b[0;32mreturn\u001b[0m \u001b[0mself\u001b[0m\u001b[0;34m.\u001b[0m\u001b[0m_engine\u001b[0m\u001b[0;34m.\u001b[0m\u001b[0mget_loc\u001b[0m\u001b[0;34m(\u001b[0m\u001b[0mself\u001b[0m\u001b[0;34m.\u001b[0m\u001b[0m_maybe_cast_indexer\u001b[0m\u001b[0;34m(\u001b[0m\u001b[0mkey\u001b[0m\u001b[0;34m)\u001b[0m\u001b[0;34m)\u001b[0m\u001b[0;34m\u001b[0m\u001b[0;34m\u001b[0m\u001b[0m\n\u001b[0m\u001b[1;32m   2893\u001b[0m         \u001b[0mindexer\u001b[0m \u001b[0;34m=\u001b[0m \u001b[0mself\u001b[0m\u001b[0;34m.\u001b[0m\u001b[0mget_indexer\u001b[0m\u001b[0;34m(\u001b[0m\u001b[0;34m[\u001b[0m\u001b[0mkey\u001b[0m\u001b[0;34m]\u001b[0m\u001b[0;34m,\u001b[0m \u001b[0mmethod\u001b[0m\u001b[0;34m=\u001b[0m\u001b[0mmethod\u001b[0m\u001b[0;34m,\u001b[0m \u001b[0mtolerance\u001b[0m\u001b[0;34m=\u001b[0m\u001b[0mtolerance\u001b[0m\u001b[0;34m)\u001b[0m\u001b[0;34m\u001b[0m\u001b[0;34m\u001b[0m\u001b[0m\n\u001b[1;32m   2894\u001b[0m         \u001b[0;32mif\u001b[0m \u001b[0mindexer\u001b[0m\u001b[0;34m.\u001b[0m\u001b[0mndim\u001b[0m \u001b[0;34m>\u001b[0m \u001b[0;36m1\u001b[0m \u001b[0;32mor\u001b[0m \u001b[0mindexer\u001b[0m\u001b[0;34m.\u001b[0m\u001b[0msize\u001b[0m \u001b[0;34m>\u001b[0m \u001b[0;36m1\u001b[0m\u001b[0;34m:\u001b[0m\u001b[0;34m\u001b[0m\u001b[0;34m\u001b[0m\u001b[0m\n",
      "\u001b[0;32mpandas/_libs/index.pyx\u001b[0m in \u001b[0;36mpandas._libs.index.IndexEngine.get_loc\u001b[0;34m()\u001b[0m\n",
      "\u001b[0;32mpandas/_libs/index.pyx\u001b[0m in \u001b[0;36mpandas._libs.index.IndexEngine.get_loc\u001b[0;34m()\u001b[0m\n",
      "\u001b[0;32mpandas/_libs/hashtable_class_helper.pxi\u001b[0m in \u001b[0;36mpandas._libs.hashtable.PyObjectHashTable.get_item\u001b[0;34m()\u001b[0m\n",
      "\u001b[0;32mpandas/_libs/hashtable_class_helper.pxi\u001b[0m in \u001b[0;36mpandas._libs.hashtable.PyObjectHashTable.get_item\u001b[0;34m()\u001b[0m\n",
      "\u001b[0;31mKeyError\u001b[0m: 'wl'"
     ]
    }
   ],
   "source": [
    "raw_summary = get_concat(raw_dfs)"
   ]
  },
  {
   "cell_type": "code",
   "execution_count": 40,
   "metadata": {},
   "outputs": [
    {
     "ename": "KeyError",
     "evalue": "'wl'",
     "output_type": "error",
     "traceback": [
      "\u001b[0;31m---------------------------------------------------------------------------\u001b[0m",
      "\u001b[0;31mKeyError\u001b[0m                                  Traceback (most recent call last)",
      "\u001b[0;32m/usr/local/lib/python3.7/site-packages/pandas/core/indexes/base.py\u001b[0m in \u001b[0;36mget_loc\u001b[0;34m(self, key, method, tolerance)\u001b[0m\n\u001b[1;32m   2889\u001b[0m             \u001b[0;32mtry\u001b[0m\u001b[0;34m:\u001b[0m\u001b[0;34m\u001b[0m\u001b[0;34m\u001b[0m\u001b[0m\n\u001b[0;32m-> 2890\u001b[0;31m                 \u001b[0;32mreturn\u001b[0m \u001b[0mself\u001b[0m\u001b[0;34m.\u001b[0m\u001b[0m_engine\u001b[0m\u001b[0;34m.\u001b[0m\u001b[0mget_loc\u001b[0m\u001b[0;34m(\u001b[0m\u001b[0mkey\u001b[0m\u001b[0;34m)\u001b[0m\u001b[0;34m\u001b[0m\u001b[0;34m\u001b[0m\u001b[0m\n\u001b[0m\u001b[1;32m   2891\u001b[0m             \u001b[0;32mexcept\u001b[0m \u001b[0mKeyError\u001b[0m\u001b[0;34m:\u001b[0m\u001b[0;34m\u001b[0m\u001b[0;34m\u001b[0m\u001b[0m\n",
      "\u001b[0;32mpandas/_libs/index.pyx\u001b[0m in \u001b[0;36mpandas._libs.index.IndexEngine.get_loc\u001b[0;34m()\u001b[0m\n",
      "\u001b[0;32mpandas/_libs/index.pyx\u001b[0m in \u001b[0;36mpandas._libs.index.IndexEngine.get_loc\u001b[0;34m()\u001b[0m\n",
      "\u001b[0;32mpandas/_libs/hashtable_class_helper.pxi\u001b[0m in \u001b[0;36mpandas._libs.hashtable.PyObjectHashTable.get_item\u001b[0;34m()\u001b[0m\n",
      "\u001b[0;32mpandas/_libs/hashtable_class_helper.pxi\u001b[0m in \u001b[0;36mpandas._libs.hashtable.PyObjectHashTable.get_item\u001b[0;34m()\u001b[0m\n",
      "\u001b[0;31mKeyError\u001b[0m: 'wl'",
      "\nDuring handling of the above exception, another exception occurred:\n",
      "\u001b[0;31mKeyError\u001b[0m                                  Traceback (most recent call last)",
      "\u001b[0;32m<ipython-input-40-223ba2096a00>\u001b[0m in \u001b[0;36m<module>\u001b[0;34m\u001b[0m\n\u001b[1;32m      1\u001b[0m \u001b[0mvic_cal_summary\u001b[0m \u001b[0;34m=\u001b[0m \u001b[0mget_concat\u001b[0m\u001b[0;34m(\u001b[0m\u001b[0mvic_cal_dfs\u001b[0m\u001b[0;34m)\u001b[0m\u001b[0;34m\u001b[0m\u001b[0;34m\u001b[0m\u001b[0m\n\u001b[0;32m----> 2\u001b[0;31m \u001b[0mfil_summary\u001b[0m \u001b[0;34m=\u001b[0m \u001b[0mget_concat\u001b[0m\u001b[0;34m(\u001b[0m\u001b[0mfil_dfs\u001b[0m\u001b[0;34m)\u001b[0m\u001b[0;34m\u001b[0m\u001b[0;34m\u001b[0m\u001b[0m\n\u001b[0m\u001b[1;32m      3\u001b[0m \u001b[0mraw_summary\u001b[0m \u001b[0;34m=\u001b[0m \u001b[0mget_concat\u001b[0m\u001b[0;34m(\u001b[0m\u001b[0mraw_dfs\u001b[0m\u001b[0;34m)\u001b[0m\u001b[0;34m\u001b[0m\u001b[0;34m\u001b[0m\u001b[0m\n",
      "\u001b[0;32m<ipython-input-29-720de39dcff5>\u001b[0m in \u001b[0;36mget_concat\u001b[0;34m(my_dictionary)\u001b[0m\n\u001b[1;32m      7\u001b[0m         \u001b[0mconcatenated_dfs\u001b[0m \u001b[0;34m=\u001b[0m \u001b[0mpd\u001b[0m\u001b[0;34m.\u001b[0m\u001b[0mconcat\u001b[0m\u001b[0;34m(\u001b[0m\u001b[0mdfs\u001b[0m\u001b[0;34m)\u001b[0m\u001b[0;34m\u001b[0m\u001b[0;34m\u001b[0m\u001b[0m\n\u001b[1;32m      8\u001b[0m         \u001b[0;31m## Pivot dataframe so that each lake is its own row, columns are wavelengths\u001b[0m\u001b[0;34m\u001b[0m\u001b[0;34m\u001b[0m\u001b[0;34m\u001b[0m\u001b[0m\n\u001b[0;32m----> 9\u001b[0;31m         \u001b[0mdf_means\u001b[0m \u001b[0;34m=\u001b[0m \u001b[0mconcatenated_dfs\u001b[0m\u001b[0;34m.\u001b[0m\u001b[0mpivot\u001b[0m\u001b[0;34m(\u001b[0m\u001b[0mindex\u001b[0m\u001b[0;34m=\u001b[0m\u001b[0;34m'lake'\u001b[0m\u001b[0;34m,\u001b[0m\u001b[0mcolumns\u001b[0m\u001b[0;34m=\u001b[0m\u001b[0;34m'wl'\u001b[0m\u001b[0;34m,\u001b[0m\u001b[0mvalues\u001b[0m\u001b[0;34m=\u001b[0m\u001b[0;34m'mean'\u001b[0m\u001b[0;34m)\u001b[0m\u001b[0;34m.\u001b[0m\u001b[0mrename_axis\u001b[0m\u001b[0;34m(\u001b[0m\u001b[0;32mNone\u001b[0m\u001b[0;34m,\u001b[0m \u001b[0maxis\u001b[0m\u001b[0;34m=\u001b[0m\u001b[0;36m0\u001b[0m\u001b[0;34m)\u001b[0m\u001b[0;34m.\u001b[0m\u001b[0mrename_axis\u001b[0m\u001b[0;34m(\u001b[0m\u001b[0;32mNone\u001b[0m\u001b[0;34m,\u001b[0m \u001b[0maxis\u001b[0m\u001b[0;34m=\u001b[0m\u001b[0;36m1\u001b[0m\u001b[0;34m)\u001b[0m\u001b[0;34m\u001b[0m\u001b[0;34m\u001b[0m\u001b[0m\n\u001b[0m\u001b[1;32m     10\u001b[0m         \u001b[0mdf_stds\u001b[0m \u001b[0;34m=\u001b[0m \u001b[0mconcatenated_dfs\u001b[0m\u001b[0;34m.\u001b[0m\u001b[0mpivot\u001b[0m\u001b[0;34m(\u001b[0m\u001b[0mindex\u001b[0m\u001b[0;34m=\u001b[0m\u001b[0;34m'lake'\u001b[0m\u001b[0;34m,\u001b[0m\u001b[0mcolumns\u001b[0m\u001b[0;34m=\u001b[0m\u001b[0;34m'wl'\u001b[0m\u001b[0;34m,\u001b[0m\u001b[0mvalues\u001b[0m\u001b[0;34m=\u001b[0m\u001b[0;34m'std'\u001b[0m\u001b[0;34m)\u001b[0m\u001b[0;34m.\u001b[0m\u001b[0mrename_axis\u001b[0m\u001b[0;34m(\u001b[0m\u001b[0;32mNone\u001b[0m\u001b[0;34m,\u001b[0m \u001b[0maxis\u001b[0m\u001b[0;34m=\u001b[0m\u001b[0;36m0\u001b[0m\u001b[0;34m)\u001b[0m\u001b[0;34m.\u001b[0m\u001b[0mrename_axis\u001b[0m\u001b[0;34m(\u001b[0m\u001b[0;32mNone\u001b[0m\u001b[0;34m,\u001b[0m \u001b[0maxis\u001b[0m\u001b[0;34m=\u001b[0m\u001b[0;36m1\u001b[0m\u001b[0;34m)\u001b[0m\u001b[0;34m\u001b[0m\u001b[0;34m\u001b[0m\u001b[0m\n\u001b[1;32m     11\u001b[0m         \u001b[0;31m## Get new names for columns\u001b[0m\u001b[0;34m\u001b[0m\u001b[0;34m\u001b[0m\u001b[0;34m\u001b[0m\u001b[0m\n",
      "\u001b[0;32m/usr/local/lib/python3.7/site-packages/pandas/core/frame.py\u001b[0m in \u001b[0;36mpivot\u001b[0;34m(self, index, columns, values)\u001b[0m\n\u001b[1;32m   5910\u001b[0m         \u001b[0;32mfrom\u001b[0m \u001b[0mpandas\u001b[0m\u001b[0;34m.\u001b[0m\u001b[0mcore\u001b[0m\u001b[0;34m.\u001b[0m\u001b[0mreshape\u001b[0m\u001b[0;34m.\u001b[0m\u001b[0mpivot\u001b[0m \u001b[0;32mimport\u001b[0m \u001b[0mpivot\u001b[0m\u001b[0;34m\u001b[0m\u001b[0;34m\u001b[0m\u001b[0m\n\u001b[1;32m   5911\u001b[0m \u001b[0;34m\u001b[0m\u001b[0m\n\u001b[0;32m-> 5912\u001b[0;31m         \u001b[0;32mreturn\u001b[0m \u001b[0mpivot\u001b[0m\u001b[0;34m(\u001b[0m\u001b[0mself\u001b[0m\u001b[0;34m,\u001b[0m \u001b[0mindex\u001b[0m\u001b[0;34m=\u001b[0m\u001b[0mindex\u001b[0m\u001b[0;34m,\u001b[0m \u001b[0mcolumns\u001b[0m\u001b[0;34m=\u001b[0m\u001b[0mcolumns\u001b[0m\u001b[0;34m,\u001b[0m \u001b[0mvalues\u001b[0m\u001b[0;34m=\u001b[0m\u001b[0mvalues\u001b[0m\u001b[0;34m)\u001b[0m\u001b[0;34m\u001b[0m\u001b[0;34m\u001b[0m\u001b[0m\n\u001b[0m\u001b[1;32m   5913\u001b[0m \u001b[0;34m\u001b[0m\u001b[0m\n\u001b[1;32m   5914\u001b[0m     _shared_docs[\n",
      "\u001b[0;32m/usr/local/lib/python3.7/site-packages/pandas/core/reshape/pivot.py\u001b[0m in \u001b[0;36mpivot\u001b[0;34m(data, index, columns, values)\u001b[0m\n\u001b[1;32m    419\u001b[0m         \u001b[0;32melse\u001b[0m\u001b[0;34m:\u001b[0m\u001b[0;34m\u001b[0m\u001b[0;34m\u001b[0m\u001b[0m\n\u001b[1;32m    420\u001b[0m             \u001b[0mindex\u001b[0m \u001b[0;34m=\u001b[0m \u001b[0mdata\u001b[0m\u001b[0;34m[\u001b[0m\u001b[0mindex\u001b[0m\u001b[0;34m]\u001b[0m\u001b[0;34m\u001b[0m\u001b[0;34m\u001b[0m\u001b[0m\n\u001b[0;32m--> 421\u001b[0;31m         \u001b[0mindex\u001b[0m \u001b[0;34m=\u001b[0m \u001b[0mMultiIndex\u001b[0m\u001b[0;34m.\u001b[0m\u001b[0mfrom_arrays\u001b[0m\u001b[0;34m(\u001b[0m\u001b[0;34m[\u001b[0m\u001b[0mindex\u001b[0m\u001b[0;34m,\u001b[0m \u001b[0mdata\u001b[0m\u001b[0;34m[\u001b[0m\u001b[0mcolumns\u001b[0m\u001b[0;34m]\u001b[0m\u001b[0;34m]\u001b[0m\u001b[0;34m)\u001b[0m\u001b[0;34m\u001b[0m\u001b[0;34m\u001b[0m\u001b[0m\n\u001b[0m\u001b[1;32m    422\u001b[0m \u001b[0;34m\u001b[0m\u001b[0m\n\u001b[1;32m    423\u001b[0m         \u001b[0;32mif\u001b[0m \u001b[0mis_list_like\u001b[0m\u001b[0;34m(\u001b[0m\u001b[0mvalues\u001b[0m\u001b[0;34m)\u001b[0m \u001b[0;32mand\u001b[0m \u001b[0;32mnot\u001b[0m \u001b[0misinstance\u001b[0m\u001b[0;34m(\u001b[0m\u001b[0mvalues\u001b[0m\u001b[0;34m,\u001b[0m \u001b[0mtuple\u001b[0m\u001b[0;34m)\u001b[0m\u001b[0;34m:\u001b[0m\u001b[0;34m\u001b[0m\u001b[0;34m\u001b[0m\u001b[0m\n",
      "\u001b[0;32m/usr/local/lib/python3.7/site-packages/pandas/core/frame.py\u001b[0m in \u001b[0;36m__getitem__\u001b[0;34m(self, key)\u001b[0m\n\u001b[1;32m   2973\u001b[0m             \u001b[0;32mif\u001b[0m \u001b[0mself\u001b[0m\u001b[0;34m.\u001b[0m\u001b[0mcolumns\u001b[0m\u001b[0;34m.\u001b[0m\u001b[0mnlevels\u001b[0m \u001b[0;34m>\u001b[0m \u001b[0;36m1\u001b[0m\u001b[0;34m:\u001b[0m\u001b[0;34m\u001b[0m\u001b[0;34m\u001b[0m\u001b[0m\n\u001b[1;32m   2974\u001b[0m                 \u001b[0;32mreturn\u001b[0m \u001b[0mself\u001b[0m\u001b[0;34m.\u001b[0m\u001b[0m_getitem_multilevel\u001b[0m\u001b[0;34m(\u001b[0m\u001b[0mkey\u001b[0m\u001b[0;34m)\u001b[0m\u001b[0;34m\u001b[0m\u001b[0;34m\u001b[0m\u001b[0m\n\u001b[0;32m-> 2975\u001b[0;31m             \u001b[0mindexer\u001b[0m \u001b[0;34m=\u001b[0m \u001b[0mself\u001b[0m\u001b[0;34m.\u001b[0m\u001b[0mcolumns\u001b[0m\u001b[0;34m.\u001b[0m\u001b[0mget_loc\u001b[0m\u001b[0;34m(\u001b[0m\u001b[0mkey\u001b[0m\u001b[0;34m)\u001b[0m\u001b[0;34m\u001b[0m\u001b[0;34m\u001b[0m\u001b[0m\n\u001b[0m\u001b[1;32m   2976\u001b[0m             \u001b[0;32mif\u001b[0m \u001b[0mis_integer\u001b[0m\u001b[0;34m(\u001b[0m\u001b[0mindexer\u001b[0m\u001b[0;34m)\u001b[0m\u001b[0;34m:\u001b[0m\u001b[0;34m\u001b[0m\u001b[0;34m\u001b[0m\u001b[0m\n\u001b[1;32m   2977\u001b[0m                 \u001b[0mindexer\u001b[0m \u001b[0;34m=\u001b[0m \u001b[0;34m[\u001b[0m\u001b[0mindexer\u001b[0m\u001b[0;34m]\u001b[0m\u001b[0;34m\u001b[0m\u001b[0;34m\u001b[0m\u001b[0m\n",
      "\u001b[0;32m/usr/local/lib/python3.7/site-packages/pandas/core/indexes/base.py\u001b[0m in \u001b[0;36mget_loc\u001b[0;34m(self, key, method, tolerance)\u001b[0m\n\u001b[1;32m   2890\u001b[0m                 \u001b[0;32mreturn\u001b[0m \u001b[0mself\u001b[0m\u001b[0;34m.\u001b[0m\u001b[0m_engine\u001b[0m\u001b[0;34m.\u001b[0m\u001b[0mget_loc\u001b[0m\u001b[0;34m(\u001b[0m\u001b[0mkey\u001b[0m\u001b[0;34m)\u001b[0m\u001b[0;34m\u001b[0m\u001b[0;34m\u001b[0m\u001b[0m\n\u001b[1;32m   2891\u001b[0m             \u001b[0;32mexcept\u001b[0m \u001b[0mKeyError\u001b[0m\u001b[0;34m:\u001b[0m\u001b[0;34m\u001b[0m\u001b[0;34m\u001b[0m\u001b[0m\n\u001b[0;32m-> 2892\u001b[0;31m                 \u001b[0;32mreturn\u001b[0m \u001b[0mself\u001b[0m\u001b[0;34m.\u001b[0m\u001b[0m_engine\u001b[0m\u001b[0;34m.\u001b[0m\u001b[0mget_loc\u001b[0m\u001b[0;34m(\u001b[0m\u001b[0mself\u001b[0m\u001b[0;34m.\u001b[0m\u001b[0m_maybe_cast_indexer\u001b[0m\u001b[0;34m(\u001b[0m\u001b[0mkey\u001b[0m\u001b[0;34m)\u001b[0m\u001b[0;34m)\u001b[0m\u001b[0;34m\u001b[0m\u001b[0;34m\u001b[0m\u001b[0m\n\u001b[0m\u001b[1;32m   2893\u001b[0m         \u001b[0mindexer\u001b[0m \u001b[0;34m=\u001b[0m \u001b[0mself\u001b[0m\u001b[0;34m.\u001b[0m\u001b[0mget_indexer\u001b[0m\u001b[0;34m(\u001b[0m\u001b[0;34m[\u001b[0m\u001b[0mkey\u001b[0m\u001b[0;34m]\u001b[0m\u001b[0;34m,\u001b[0m \u001b[0mmethod\u001b[0m\u001b[0;34m=\u001b[0m\u001b[0mmethod\u001b[0m\u001b[0;34m,\u001b[0m \u001b[0mtolerance\u001b[0m\u001b[0;34m=\u001b[0m\u001b[0mtolerance\u001b[0m\u001b[0;34m)\u001b[0m\u001b[0;34m\u001b[0m\u001b[0;34m\u001b[0m\u001b[0m\n\u001b[1;32m   2894\u001b[0m         \u001b[0;32mif\u001b[0m \u001b[0mindexer\u001b[0m\u001b[0;34m.\u001b[0m\u001b[0mndim\u001b[0m \u001b[0;34m>\u001b[0m \u001b[0;36m1\u001b[0m \u001b[0;32mor\u001b[0m \u001b[0mindexer\u001b[0m\u001b[0;34m.\u001b[0m\u001b[0msize\u001b[0m \u001b[0;34m>\u001b[0m \u001b[0;36m1\u001b[0m\u001b[0;34m:\u001b[0m\u001b[0;34m\u001b[0m\u001b[0;34m\u001b[0m\u001b[0m\n",
      "\u001b[0;32mpandas/_libs/index.pyx\u001b[0m in \u001b[0;36mpandas._libs.index.IndexEngine.get_loc\u001b[0;34m()\u001b[0m\n",
      "\u001b[0;32mpandas/_libs/index.pyx\u001b[0m in \u001b[0;36mpandas._libs.index.IndexEngine.get_loc\u001b[0;34m()\u001b[0m\n",
      "\u001b[0;32mpandas/_libs/hashtable_class_helper.pxi\u001b[0m in \u001b[0;36mpandas._libs.hashtable.PyObjectHashTable.get_item\u001b[0;34m()\u001b[0m\n",
      "\u001b[0;32mpandas/_libs/hashtable_class_helper.pxi\u001b[0m in \u001b[0;36mpandas._libs.hashtable.PyObjectHashTable.get_item\u001b[0;34m()\u001b[0m\n",
      "\u001b[0;31mKeyError\u001b[0m: 'wl'"
     ]
    }
   ],
   "source": [
    "vic_cal_summary = get_concat(vic_cal_dfs)\n",
    "fil_summary = get_concat(fil_dfs)\n",
    "raw_summary = get_concat(raw_dfs)"
   ]
  },
  {
   "cell_type": "markdown",
   "metadata": {},
   "source": [
    "** Save to csv **"
   ]
  },
  {
   "cell_type": "code",
   "execution_count": null,
   "metadata": {},
   "outputs": [],
   "source": [
    "vic_cal_summary.to_csv(new_filepath+'/Vical_summary.csv', sep='\\t',index=True)\n",
    "fil_summary.to_csv(new_filepath+'/Fil_summary.csv', sep='\\t',index=True)\n",
    "raw_summary.to_csv(new_filepath+'/Raw_summary.csv', sep='\\t',index=True)"
   ]
  }
 ],
 "metadata": {
  "kernelspec": {
   "display_name": "Python 3",
   "language": "python",
   "name": "python3"
  },
  "language_info": {
   "codemirror_mode": {
    "name": "ipython",
    "version": 3
   },
   "file_extension": ".py",
   "mimetype": "text/x-python",
   "name": "python",
   "nbconvert_exporter": "python",
   "pygments_lexer": "ipython3",
   "version": "3.7.4"
  }
 },
 "nbformat": 4,
 "nbformat_minor": 2
}
