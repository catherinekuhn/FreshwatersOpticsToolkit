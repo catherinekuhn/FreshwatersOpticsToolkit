{
 "cells": [
  {
   "cell_type": "markdown",
   "metadata": {},
   "source": [
    "# ABOVE AC9 Data Processing  \n",
    "\n",
    "## Part 2: Temperature and Salinity Corrections for Calibration Files"
   ]
  },
  {
   "cell_type": "markdown",
   "metadata": {},
   "source": [
    "**Authors:** Catherine Kuhn and Elena Terzić   \n",
    "**Last Updated:** August, 15th, 2018"
   ]
  },
  {
   "cell_type": "markdown",
   "metadata": {},
   "source": [
    "This code reads in AC9 files of summary statistics and outputs a temperature and salinity corrected version of the file. Correction values are from Sullivan et al 2006 (Applied Optics). \n",
    "\n",
    "*Note: Focus on getting good pure water calibrations. Note the magnitude and shape of the pure water spectra; they should be repeatable to within the instrumented resolution between calibrations(0.005 m-1 for absorption; 0.01 m-1 for attenuation)"
   ]
  },
  {
   "cell_type": "markdown",
   "metadata": {},
   "source": [
    "### Load required packages"
   ]
  },
  {
   "cell_type": "code",
   "execution_count": 1,
   "metadata": {
    "collapsed": true
   },
   "outputs": [],
   "source": [
    "### Import the required python libraries\n",
    "import numpy as np\n",
    "import pandas as pd\n",
    "import matplotlib.pylab as plt\n",
    "import glob\n",
    "import os\n",
    "import sys\n",
    "import csv\n",
    "from scipy import interpolate\n",
    "from os import listdir\n",
    "from os.path import isfile, join\n",
    "import matplotlib.gridspec as gridspec"
   ]
  },
  {
   "cell_type": "markdown",
   "metadata": {},
   "source": [
    "### Load corrections "
   ]
  },
  {
   "cell_type": "code",
   "execution_count": 2,
   "metadata": {
    "scrolled": true
   },
   "outputs": [
    {
     "name": "stdout",
     "output_type": "stream",
     "text": [
      "/Users/ckuhn/Documents/ABOVE/Resources/AC9_resources/Elena/ac9_originals/Code\n"
     ]
    }
   ],
   "source": [
    "%cd /Users/ckuhn/Documents/ABOVE/Resources/AC9_resources/Elena/ac9_originals/Code\n",
    "\n",
    "df1 = pd.read_csv('Sullivan_T_chart.txt', skiprows=0, delimiter= ' ')\n",
    "df2 = df1[['wl[nm]', 'phi_t', 'phi_s_a', 'phi_s_c']]     # read just the columns of interest"
   ]
  },
  {
   "cell_type": "code",
   "execution_count": 3,
   "metadata": {
    "collapsed": true
   },
   "outputs": [],
   "source": [
    "wl_phi  = df2['wl[nm]']\n",
    "phi_t   = df2['phi_t']\n",
    "phi_s_a = df2['phi_s_a']\n",
    "phi_s_c = df2['phi_s_c']"
   ]
  },
  {
   "cell_type": "markdown",
   "metadata": {},
   "source": [
    "#### Choose index manually from 0 to 5 for the 6 site\n",
    "\n",
    "During this step, you will need to manually change the index to run this code site by site for each site. \n"
   ]
  },
  {
   "cell_type": "code",
   "execution_count": 4,
   "metadata": {
    "collapsed": true
   },
   "outputs": [],
   "source": [
    "idx = 0 #from 0 to 5"
   ]
  },
  {
   "cell_type": "markdown",
   "metadata": {},
   "source": [
    "Read in files"
   ]
  },
  {
   "cell_type": "code",
   "execution_count": 5,
   "metadata": {},
   "outputs": [
    {
     "name": "stdout",
     "output_type": "stream",
     "text": [
      "/Users/ckuhn/Documents/ABOVE/Data/AC9/ac9_data\n"
     ]
    }
   ],
   "source": [
    "%cd /Users/ckuhn/Documents/ABOVE/Data/AC9/ac9_data/\n",
    "\n",
    "site01 = sorted(glob.glob('2_summary_stats/cal/*070718_sea*.csv'))\n",
    "site02 = sorted(glob.glob('2_summary_stats/cal/*071318_fai*.csv'))\n",
    "site03 = sorted(glob.glob('2_summary_stats/cal/*071618_can*.csv'))\n",
    "site04 = sorted(glob.glob('2_summary_stats/cal/*071718_can*.csv'))\n",
    "site05 = sorted(glob.glob('2_summary_stats/cal/*071818_can*.csv'))\n",
    "site06 = sorted(glob.glob('2_summary_stats/cal/*071918_can*.csv'))\n",
    "site07 = sorted(glob.glob('2_summary_stats/cal/*072118_fai*.csv'))\n",
    "site08 = sorted(glob.glob('2_summary_stats/cal/*072118_fav*.csv'))\n",
    "site09 = sorted(glob.glob('2_summary_stats/cal/*081618_sea*.csv'))"
   ]
  },
  {
   "cell_type": "code",
   "execution_count": 6,
   "metadata": {
    "collapsed": true
   },
   "outputs": [],
   "source": [
    "# Create a list of the sites \n",
    "sites = [site01, site02, site03, site04, site05, site06, site07, site08, site09]   \n",
    "sitenames = ['070718_sea', '071318_fai', '071618_can', '071718_can', '071818_can', '071918_can','072118_fai', '072118_fav', '081618_sea']"
   ]
  },
  {
   "cell_type": "code",
   "execution_count": 7,
   "metadata": {
    "collapsed": true
   },
   "outputs": [],
   "source": [
    "# paths for the processed calibration files\n",
    "mypaths = ['2_summary_stats/cal/', '2_summary_stats/cal/', '2_summary_stats/cal/', \n",
    "           '2_summary_stats/cal/', '2_summary_stats/cal/', '2_summary_stats/cal/',\n",
    "           '2_summary_stats/cal/', '2_summary_stats/cal/', '2_summary_stats/cal/']"
   ]
  },
  {
   "cell_type": "code",
   "execution_count": 8,
   "metadata": {
    "collapsed": true
   },
   "outputs": [],
   "source": [
    "# Pick the indexed site, site name and file path \n",
    "site     = sites[idx]\n",
    "sitename = sitenames[idx]\n",
    "mypath    = mypaths[idx]\n",
    "\n",
    "# Each site has several files associated with it\n",
    "# Make a list of the files associated with the selected site\n",
    "onlyfiles_aux = [f for f in listdir(mypath) if isfile(join(mypath, f))]\n",
    "onlyfiles     = [f for f in onlyfiles_aux if sitename in f]\n",
    "\n",
    "# Parse information out of all the files for the selected site\n",
    "instrument  = [str(i[0:3]) for i in onlyfiles if 'AC9' in i] \n",
    "site_date   = [str(i[4:14]) for i in onlyfiles if 'AC9' in i]\n",
    "site        = [str(i[11:14]) for i in onlyfiles if 'AC9' in i]\n",
    "date        = [str(i[4:10]) for i in onlyfiles if 'AC9' in i]\n",
    "a_or_c      = [str(i[19:20]) for i in onlyfiles  if 'AC9' in i]\n",
    "sample_type = [str(i[15:18]) for i in onlyfiles if 'AC9' in i]\n",
    "temp        = [float((str(i[24:28])).replace('_', '.')) for i in onlyfiles  if 'AC9' in i]\n",
    "rep         = [str(i[21:22]) for i in onlyfiles  if 'AC9' in i]"
   ]
  },
  {
   "cell_type": "code",
   "execution_count": 9,
   "metadata": {
    "collapsed": true
   },
   "outputs": [],
   "source": [
    "# Make a list of calibration and sample files\n",
    "cal = [f for f in sample_type if 'cal' in f] "
   ]
  },
  {
   "cell_type": "code",
   "execution_count": 10,
   "metadata": {
    "collapsed": true
   },
   "outputs": [],
   "source": [
    "# This assigns a salinity value of either (0) to each sample \n",
    "# Pretty pointless for freshwater samples \n",
    "S_cal    = [0. for f in onlyfiles if 'cal' in f] "
   ]
  },
  {
   "cell_type": "code",
   "execution_count": 11,
   "metadata": {
    "collapsed": true
   },
   "outputs": [],
   "source": [
    "a_side_cal    = sorted(glob.glob(mypath + instrument[0] + '_' + site_date[0] + '_'+ str(cal[0]) + '_a_' + '*'))\n",
    "c_side_cal    = sorted(glob.glob(mypath + instrument[0] + '_' + site_date[0] + '_'+ str(cal[0]) + '_c_' + '*'))"
   ]
  },
  {
   "cell_type": "code",
   "execution_count": 14,
   "metadata": {},
   "outputs": [
    {
     "data": {
      "text/plain": [
       "['2_summary_stats/cal/AC9_070718_sea_cal_a_1_T20_6.csv',\n",
       " '2_summary_stats/cal/AC9_070718_sea_cal_a_2_T20_9.csv',\n",
       " '2_summary_stats/cal/AC9_070718_sea_cal_a_3_T20_9.csv']"
      ]
     },
     "execution_count": 14,
     "metadata": {},
     "output_type": "execute_result"
    }
   ],
   "source": [
    "a_side_cal"
   ]
  },
  {
   "cell_type": "markdown",
   "metadata": {},
   "source": [
    "#### Check if you have more than one cal/sample files to try both (all) of them --> if you have more than 4 files within a group"
   ]
  },
  {
   "cell_type": "code",
   "execution_count": 13,
   "metadata": {
    "collapsed": true
   },
   "outputs": [],
   "source": [
    "# First method: \n",
    "# If there are replicates, just pick one of them \n",
    "cal_idx = 1\n",
    "a_cal    = a_side_cal[cal_idx]            \n",
    "c_cal    = c_side_cal[cal_idx] "
   ]
  },
  {
   "cell_type": "code",
   "execution_count": null,
   "metadata": {
    "collapsed": true
   },
   "outputs": [],
   "source": [
    "## Here is a good place to average replicates instead of just taking one file "
   ]
  },
  {
   "cell_type": "code",
   "execution_count": null,
   "metadata": {
    "collapsed": true
   },
   "outputs": [],
   "source": [
    "# Read in the selected files \n",
    "dfcal_a = pd.read_csv(a_cal[0], skiprows=0, delimiter = '\\t') ; \n",
    "dfcal_c = pd.read_csv(c_cal, skiprows=0, delimiter = '\\t')"
   ]
  },
  {
   "cell_type": "markdown",
   "metadata": {},
   "source": [
    "#### Statistics (which will be later used for error propagation"
   ]
  },
  {
   "cell_type": "code",
   "execution_count": 19,
   "metadata": {
    "collapsed": true
   },
   "outputs": [],
   "source": [
    "cal_a_mean    = dfcal_a['a_mean']     ;  cal_c_mean = dfcal_c['c_mean']          \n",
    "cal_a_std = dfcal_a['a_std']          ;  cal_c_std = dfcal_c['c_std']"
   ]
  },
  {
   "cell_type": "code",
   "execution_count": 20,
   "metadata": {
    "collapsed": true
   },
   "outputs": [],
   "source": [
    "# This function takes the input a and c data and corrects it for \n",
    "# temperature and salinity\n",
    "\n",
    "# # INPUTS: \n",
    "#     list of a wavelengths\n",
    "#     list of c wavelengths\n",
    "#     values for a wavelengths\n",
    "#     values for c wavelengths\n",
    "#     the difference in temperature between the sample and calibration values\n",
    "#     the difference in salinity between the sample and the calibration values\n",
    "#     the Sullivan temperature correction coefficients\n",
    "\n",
    "# # OUTPUTS: \n",
    "#     one list of wavelengths (same for a and c now)\n",
    "#     uncorrected a values\n",
    "#     uncorrected c values \n",
    "#     corrected a values\n",
    "#     corrected c values\n",
    "    \n",
    "\n",
    "def actempsalcorr(wl_a, wl_c, a, c, delta_t, delta_s):\n",
    "\n",
    "    df1     = pd.read_csv('/Users/ckuhn/Documents/ABOVE/Resources/AC9_resources/Elena/ac9_originals/Code/Sullivan_T_chart.txt', skiprows=0, delimiter= ' ')\n",
    "    df2     = df1[['wl[nm]', 'phi_t', 'phi_s_a', 'phi_s_c']]\n",
    "    wl_phi  = df2['wl[nm]'].astype(float)\n",
    "    phi_t   = df2['phi_t'].astype(float)\n",
    "    phi_s_a = df2['phi_s_a'].astype(float)\n",
    "    phi_s_c = df2['phi_s_c'].astype(float)\n",
    "  \n",
    "    # Interpolate Sullivan's phi_T values to AC wavelengths\n",
    "    a_phi_t = interpolate.interp1d(wl_phi, phi_t, kind='linear', fill_value='extrapolate')(wl_a)\n",
    "    c_phi_t = interpolate.interp1d(wl_phi, phi_t, kind='linear', fill_value='extrapolate')(wl_c)\n",
    "    a_phi_s = interpolate.interp1d(wl_phi, phi_s_a, kind='linear', fill_value='extrapolate')(wl_a)\n",
    "    c_phi_s = interpolate.interp1d(wl_phi, phi_s_c, kind='linear', fill_value='extrapolate')(wl_c)\n",
    "        \n",
    "    init = np.ones(len(wl_a))\n",
    "    \n",
    "    a_ts = a - init*[i*delta_t for i in a_phi_t] + init*[j*delta_s for j in a_phi_s]\n",
    "    c_ts = c - init*[i*delta_t for i in c_phi_t] + init*[j*delta_s for j in c_phi_s]\n",
    "\n",
    "    outputname = str(instrument[0]) + '_' + str(site_date[0]) + '_' + str(sample_type[0]) +'_'+ str(rep[0]) + '.csv'\n",
    "    outputdir = '3_t_s_corrected/' + outputname\n",
    "    output_df = pd.DataFrame([wl_a, a, c, a_ts, c_ts]).swapaxes(0,1)\n",
    "    output_df.columns = ('wl', 'a_uncorr', 'c_uncorr', 'a_corrected', 'c_corrected')\n",
    "    output_df.to_csv(outputdir, sep='\\t')\n",
    "    \n",
    "    # Error propagation\n",
    "\n",
    "    return\n"
   ]
  },
  {
   "cell_type": "markdown",
   "metadata": {},
   "source": [
    "#### Insert the function inputs"
   ]
  },
  {
   "cell_type": "code",
   "execution_count": 21,
   "metadata": {},
   "outputs": [
    {
     "name": "stdout",
     "output_type": "stream",
     "text": [
      "0.0\n"
     ]
    }
   ],
   "source": [
    "# Make a list of the wavelengths, remember a = c\n",
    "wl_a = dfcal_a['wl']  \n",
    "wl_c = wl_a\n",
    "\n",
    "# For just correcting the cal files\n",
    "a = np.asarray(dfcal_a['a_mean']) \n",
    "c = np.asarray(dfcal_c['c_mean'])\n",
    "\n",
    "##### UNDER DEVELOPMENT ######\n",
    "# subtracts the dissolved sample from the particulate sample\n",
    "# atot = sample_raw\n",
    "# afil = sample_filtered\n",
    "# apart = tot - fil\n",
    "\n",
    "# ap = np.asarray(df_a_tot['a_mean'] - df_a_diss['a_mean']) \n",
    "# cp = np.asarray(df_c_tot['a_mean'] - df_c_diss['a_mean']) \n",
    "##################################\n",
    "\n",
    "# parses the water temperature from the file name\n",
    "T_cal = float(a_cal[24:28].replace('_', '.'))\n",
    "    \n",
    "# calculates the difference in temperature between the \n",
    "# sample and the calibration \n",
    "delta_t =  T_cal\n",
    "\n",
    "# take the list of salinities associated with each sample\n",
    "# and calculates the difference in salinity between the samples \n",
    "# and the clean water (cal) blanks\n",
    "S_sample_first = S_cal[0]\n",
    "S_cal_first = S_cal[0]\n",
    "delta_s = S_sample_first - S_cal_first\n",
    "print(delta_s)\n",
    "\n",
    "# this change in temperature goes in the filename\n",
    "dT = (\"%.2f\" % abs(0))\n"
   ]
  },
  {
   "cell_type": "code",
   "execution_count": 23,
   "metadata": {
    "collapsed": true
   },
   "outputs": [],
   "source": [
    "actempsalcorr(wl_a, wl_c, a, c, delta_t, delta_s)"
   ]
  },
  {
   "cell_type": "code",
   "execution_count": null,
   "metadata": {
    "collapsed": true
   },
   "outputs": [],
   "source": []
  }
 ],
 "metadata": {
  "kernelspec": {
   "display_name": "Python [conda root]",
   "language": "python",
   "name": "conda-root-py"
  },
  "language_info": {
   "codemirror_mode": {
    "name": "ipython",
    "version": 2
   },
   "file_extension": ".py",
   "mimetype": "text/x-python",
   "name": "python",
   "nbconvert_exporter": "python",
   "pygments_lexer": "ipython2",
   "version": "2.7.13"
  }
 },
 "nbformat": 4,
 "nbformat_minor": 2
}
