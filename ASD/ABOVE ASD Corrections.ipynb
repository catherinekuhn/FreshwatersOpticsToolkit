{
 "cells": [
  {
   "cell_type": "markdown",
   "metadata": {},
   "source": [
    "# NASA ABoVE Arctic Lakes ASD Data Processing\n",
    "### ASD Data Processing\n",
    "This code takes the raw output from three measurements ($L_{sky}, L_{ref}, L_{watersurface}$) collected using an ASD sensor and calculates downwelling irradiance ($E_d$), water-leaving radiance ($L_w$) and remote sensing reflectance ($R_{rs}$). "
   ]
  },
  {
   "cell_type": "markdown",
   "metadata": {},
   "source": [
    "**Authors:** Catherine Kuhn   \n",
    "**Last Updated:** Nov 27th, 2018"
   ]
  },
  {
   "cell_type": "code",
   "execution_count": 1,
   "metadata": {
    "collapsed": true
   },
   "outputs": [],
   "source": [
    "### Import the required python libraries\n",
    "import numpy as np\n",
    "import pandas as pd\n",
    "import matplotlib.pylab as plt\n",
    "import glob\n",
    "import os\n",
    "import sys\n",
    "import csv\n",
    "from scipy import interpolate\n",
    "from os import listdir\n",
    "from os.path import isfile, join\n",
    "import matplotlib.gridspec as gridspec\n",
    "#from pylr2 import regress2\n",
    "import scipy.stats as stats\n",
    "import seaborn as sns\n",
    "import math"
   ]
  },
  {
   "cell_type": "code",
   "execution_count": 2,
   "metadata": {
    "collapsed": true
   },
   "outputs": [],
   "source": [
    "%matplotlib inline"
   ]
  },
  {
   "cell_type": "code",
   "execution_count": 3,
   "metadata": {},
   "outputs": [
    {
     "name": "stdout",
     "output_type": "stream",
     "text": [
      "/Users/ckuhn/Downloads\n"
     ]
    }
   ],
   "source": [
    "%cd /Users/ckuhn/Downloads\n",
    "df = pd.read_csv('processed_Data.csv', low_memory=False)"
   ]
  },
  {
   "cell_type": "code",
   "execution_count": 4,
   "metadata": {},
   "outputs": [
    {
     "name": "stdout",
     "output_type": "stream",
     "text": [
      "['sky' 'water' 'wr']\n"
     ]
    },
    {
     "data": {
      "text/html": [
       "<div>\n",
       "<style scoped>\n",
       "    .dataframe tbody tr th:only-of-type {\n",
       "        vertical-align: middle;\n",
       "    }\n",
       "\n",
       "    .dataframe tbody tr th {\n",
       "        vertical-align: top;\n",
       "    }\n",
       "\n",
       "    .dataframe thead th {\n",
       "        text-align: right;\n",
       "    }\n",
       "</style>\n",
       "<table border=\"1\" class=\"dataframe\">\n",
       "  <thead>\n",
       "    <tr style=\"text-align: right;\">\n",
       "      <th></th>\n",
       "      <th>rep_name</th>\n",
       "      <th>wavelength</th>\n",
       "      <th>asd_measure</th>\n",
       "      <th>std_deviation</th>\n",
       "      <th>lake_name</th>\n",
       "    </tr>\n",
       "  </thead>\n",
       "  <tbody>\n",
       "    <tr>\n",
       "      <th>0</th>\n",
       "      <td>sky</td>\n",
       "      <td>350</td>\n",
       "      <td>1.663184</td>\n",
       "      <td>1.110763</td>\n",
       "      <td>9mile</td>\n",
       "    </tr>\n",
       "  </tbody>\n",
       "</table>\n",
       "</div>"
      ],
      "text/plain": [
       "  rep_name  wavelength  asd_measure  std_deviation lake_name\n",
       "0      sky         350     1.663184       1.110763     9mile"
      ]
     },
     "execution_count": 4,
     "metadata": {},
     "output_type": "execute_result"
    }
   ],
   "source": [
    "print(df['rep_name'].unique())\n",
    "df.head(1)"
   ]
  },
  {
   "cell_type": "markdown",
   "metadata": {},
   "source": [
    "## Calculate downwelling irradiance"
   ]
  },
  {
   "cell_type": "markdown",
   "metadata": {},
   "source": [
    "Downwelling irrandiance ($E_d(\\lambda)$) is calculated as: \n",
    "\n",
    "$E_d(\\lambda)= L_{ref}(\\lambda) * f_c * \\pi  $  \n",
    "\n",
    "where: \n",
    "\n",
    "- $E_d(\\lambda)$ = downwelling irradiance   \n",
    "- $L_{ref}(\\lambda)$ = reference panel radiance  (wr measurement)  \n",
    "- $f_c$ = correction factor ratio of field to lab radiance for Spectralon panel   "
   ]
  },
  {
   "cell_type": "code",
   "execution_count": 5,
   "metadata": {
    "collapsed": true
   },
   "outputs": [],
   "source": [
    "df = pd.read_csv('processed_Data.csv', low_memory=False)\n",
    "\n",
    "def computeED (df):\n",
    "\n",
    "    lakes = list(df['lake_name'].unique())\n",
    "    wavelengths = list(df['wavelength'].unique())\n",
    "\n",
    "    ed = []\n",
    "    lref = []\n",
    "    lake_name = []\n",
    "    wls = []\n",
    "    lsw = []\n",
    "    lsky = []\n",
    "    \n",
    "    for lake in lakes:\n",
    "        lake_df = df.loc[df['lake_name']==lake]\n",
    "        for wavelength in wavelengths:\n",
    "            new_df = lake_df.loc[lake_df['wavelength']==wavelength]\n",
    "            name = new_df['lake_name'].head(1).item()\n",
    "            wl = new_df['wavelength'].head(1).item()\n",
    "            sky_df = new_df.loc[new_df['rep_name']=='sky']            \n",
    "            sky = sky_df['asd_measure'].item()\n",
    "            reference_df = new_df.loc[new_df['rep_name']=='wr']            \n",
    "            ref = reference_df['asd_measure'].item()\n",
    "            downwelling_irradiance = ref * 1 * math.pi\n",
    "            water_df = new_df.loc[new_df['rep_name']=='water'] \n",
    "            water = water_df['asd_measure'].item()\n",
    "            lsw.append(water)\n",
    "            lsky.append(sky)\n",
    "            ed.append(downwelling_irradiance)\n",
    "            lref.append(ref)\n",
    "            lake_name.append(name)\n",
    "            wls.append(wl)\n",
    "            \n",
    "    lake_data = {}\n",
    "    lake_data['ed'] = ed\n",
    "    lake_data['lake_name'] = lake_name\n",
    "    lake_data['lref'] = lref\n",
    "    lake_data['lsky'] = lsky\n",
    "    lake_data['lsw'] = lsw\n",
    "\n",
    "    lake_data['wavelength'] = wls\n",
    "    return pd.DataFrame.from_dict(lake_data)"
   ]
  },
  {
   "cell_type": "code",
   "execution_count": 6,
   "metadata": {
    "collapsed": true
   },
   "outputs": [],
   "source": [
    "done = computeED(df)"
   ]
  },
  {
   "cell_type": "code",
   "execution_count": 7,
   "metadata": {},
   "outputs": [
    {
     "name": "stdout",
     "output_type": "stream",
     "text": [
      "17208\n",
      "['9mile' 'boot' 'cbdock' 'cbr' 'greenpepper' 'scoter' 'yf17' 'yf20']\n"
     ]
    },
    {
     "data": {
      "text/html": [
       "<div>\n",
       "<style scoped>\n",
       "    .dataframe tbody tr th:only-of-type {\n",
       "        vertical-align: middle;\n",
       "    }\n",
       "\n",
       "    .dataframe tbody tr th {\n",
       "        vertical-align: top;\n",
       "    }\n",
       "\n",
       "    .dataframe thead th {\n",
       "        text-align: right;\n",
       "    }\n",
       "</style>\n",
       "<table border=\"1\" class=\"dataframe\">\n",
       "  <thead>\n",
       "    <tr style=\"text-align: right;\">\n",
       "      <th></th>\n",
       "      <th>ed</th>\n",
       "      <th>lake_name</th>\n",
       "      <th>lref</th>\n",
       "      <th>lsky</th>\n",
       "      <th>lsw</th>\n",
       "      <th>wavelength</th>\n",
       "    </tr>\n",
       "  </thead>\n",
       "  <tbody>\n",
       "    <tr>\n",
       "      <th>0</th>\n",
       "      <td>1.993682</td>\n",
       "      <td>9mile</td>\n",
       "      <td>0.634609</td>\n",
       "      <td>1.663184</td>\n",
       "      <td>0.046339</td>\n",
       "      <td>350</td>\n",
       "    </tr>\n",
       "    <tr>\n",
       "      <th>1</th>\n",
       "      <td>1.991035</td>\n",
       "      <td>9mile</td>\n",
       "      <td>0.633766</td>\n",
       "      <td>1.654474</td>\n",
       "      <td>0.046344</td>\n",
       "      <td>351</td>\n",
       "    </tr>\n",
       "  </tbody>\n",
       "</table>\n",
       "</div>"
      ],
      "text/plain": [
       "         ed lake_name      lref      lsky       lsw  wavelength\n",
       "0  1.993682     9mile  0.634609  1.663184  0.046339         350\n",
       "1  1.991035     9mile  0.633766  1.654474  0.046344         351"
      ]
     },
     "execution_count": 7,
     "metadata": {},
     "output_type": "execute_result"
    }
   ],
   "source": [
    "print(len(done))\n",
    "print(done['lake_name'].unique())\n",
    "done.head(2)"
   ]
  },
  {
   "cell_type": "markdown",
   "metadata": {},
   "source": [
    "## Calculate water-leaving radiance"
   ]
  },
  {
   "cell_type": "markdown",
   "metadata": {},
   "source": [
    "Water-leaving radiance ($L_w(\\lambda)$) is calculated as: \n",
    "\n",
    "$L_w(\\lambda)= L_{sw}(\\lambda) - \\rho_{air -sky}* L_{sky}(\\lambda) $  \n",
    "\n",
    "where: \n",
    "\n",
    "- $L_w(\\lambda)$ = water-leaving radiance   \n",
    "- $L_{sw}(\\lambda)$ = total radiance measured above water\n",
    "- $\\rho_{air -sky}$ = sun and sky glint correction coefficient at the water surface (Mobley 1999)\n",
    "- $L_{sky}(\\lambda)$ - sky diffuse radiance\n",
    "\n",
    "and    \n",
    "$\\rho_{air -sky} = \\frac{L_{sky}(\\lambda=750)}{E_{D}(\\lambda=750)} \\ge 0.05 \\rightarrow 0.0256$\n",
    "\n",
    "or     \n",
    "\n",
    "$\\rho_{air -sky} = \\frac {L_{sky}(\\lambda=750} {E_{D}(\\lambda=750)} \\lt 0.05 \\rightarrow 0.0256 + 0.00039W + 0.000034W^2$       where  W is windspeed $(m s^{-1})$"
   ]
  },
  {
   "cell_type": "markdown",
   "metadata": {},
   "source": [
    "##### Check Lsky to Ed ratios"
   ]
  },
  {
   "cell_type": "code",
   "execution_count": 8,
   "metadata": {},
   "outputs": [
    {
     "data": {
      "text/html": [
       "<div>\n",
       "<style scoped>\n",
       "    .dataframe tbody tr th:only-of-type {\n",
       "        vertical-align: middle;\n",
       "    }\n",
       "\n",
       "    .dataframe tbody tr th {\n",
       "        vertical-align: top;\n",
       "    }\n",
       "\n",
       "    .dataframe thead th {\n",
       "        text-align: right;\n",
       "    }\n",
       "</style>\n",
       "<table border=\"1\" class=\"dataframe\">\n",
       "  <thead>\n",
       "    <tr style=\"text-align: right;\">\n",
       "      <th></th>\n",
       "      <th>lake_name</th>\n",
       "      <th>Lsky_Ed_ratio</th>\n",
       "    </tr>\n",
       "  </thead>\n",
       "  <tbody>\n",
       "    <tr>\n",
       "      <th>400</th>\n",
       "      <td>9mile</td>\n",
       "      <td>0.591414</td>\n",
       "    </tr>\n",
       "    <tr>\n",
       "      <th>2551</th>\n",
       "      <td>boot</td>\n",
       "      <td>0.114764</td>\n",
       "    </tr>\n",
       "    <tr>\n",
       "      <th>4702</th>\n",
       "      <td>cbdock</td>\n",
       "      <td>0.276833</td>\n",
       "    </tr>\n",
       "    <tr>\n",
       "      <th>6853</th>\n",
       "      <td>cbr</td>\n",
       "      <td>0.380883</td>\n",
       "    </tr>\n",
       "    <tr>\n",
       "      <th>9004</th>\n",
       "      <td>greenpepper</td>\n",
       "      <td>0.039728</td>\n",
       "    </tr>\n",
       "    <tr>\n",
       "      <th>11155</th>\n",
       "      <td>scoter</td>\n",
       "      <td>0.182353</td>\n",
       "    </tr>\n",
       "    <tr>\n",
       "      <th>13306</th>\n",
       "      <td>yf17</td>\n",
       "      <td>0.147105</td>\n",
       "    </tr>\n",
       "    <tr>\n",
       "      <th>15457</th>\n",
       "      <td>yf20</td>\n",
       "      <td>0.370676</td>\n",
       "    </tr>\n",
       "  </tbody>\n",
       "</table>\n",
       "</div>"
      ],
      "text/plain": [
       "         lake_name  Lsky_Ed_ratio\n",
       "400          9mile       0.591414\n",
       "2551          boot       0.114764\n",
       "4702        cbdock       0.276833\n",
       "6853           cbr       0.380883\n",
       "9004   greenpepper       0.039728\n",
       "11155       scoter       0.182353\n",
       "13306         yf17       0.147105\n",
       "15457         yf20       0.370676"
      ]
     },
     "execution_count": 8,
     "metadata": {},
     "output_type": "execute_result"
    }
   ],
   "source": [
    "#calculate the rho(water) - rho(air) using 750\n",
    "nir = done.loc[done['wavelength']==750].copy()\n",
    "nir['Lsky_Ed_ratio'] = nir['lsky']/nir['ed']\n",
    "nir[['lake_name','Lsky_Ed_ratio']]\n",
    "## Only one lake had Lsky:ED < 0.05, so we only need windspeed for that lake, which is \n",
    "#Greenpepper so that is the only one we need to do a custome rho value for "
   ]
  },
  {
   "cell_type": "markdown",
   "metadata": {},
   "source": [
    "##### Calculate water-leaving radiance"
   ]
  },
  {
   "cell_type": "code",
   "execution_count": 36,
   "metadata": {
    "collapsed": true
   },
   "outputs": [],
   "source": [
    "# Pass windspeed for the lake where the Lsky to Ed ratio < 0.05\n",
    "# Greenpepper windspeed is 3.20 m s-1\n",
    "windspeed =  3.2\n",
    "\n",
    "def calculateLW(df):\n",
    "    calcs = {}\n",
    "    lakes = list(df['lake_name'].unique())\n",
    "    wavelengths = list(df['wavelength'].unique())\n",
    "    for lake in lakes: \n",
    "        lake_df = done[done['lake_name']==lake]\n",
    "        #calculate the rho(water) - rho(air) using 750\n",
    "        nir = lake_df[lake_df['wavelength']==750]\n",
    "        nir['Lsky_Ed_ratio'] = nir['lsky']/nir['ed']\n",
    "        if (nir['Lsky_Ed_ratio'].iloc[0] >=0.05):\n",
    "            rho = 0.0256\n",
    "            #print(rho)\n",
    "        else: \n",
    "            rho = (0.0256 + (0.00039*windspeed) + (0.000034*windspeed**2))\n",
    "        water_leaving_radiance = (lake_df['lsw'] - (lake_df['lsky'] * rho)).tolist()\n",
    "        calcs[lake] = water_leaving_radiance\n",
    "    return calcs"
   ]
  },
  {
   "cell_type": "code",
   "execution_count": 48,
   "metadata": {},
   "outputs": [
    {
     "name": "stderr",
     "output_type": "stream",
     "text": [
      "/Users/ckuhn/anaconda2/envs/py36/lib/python3.6/site-packages/ipykernel/__main__.py:13: SettingWithCopyWarning: \n",
      "A value is trying to be set on a copy of a slice from a DataFrame.\n",
      "Try using .loc[row_indexer,col_indexer] = value instead\n",
      "\n",
      "See the caveats in the documentation: http://pandas.pydata.org/pandas-docs/stable/indexing.html#indexing-view-versus-copy\n"
     ]
    },
    {
     "name": "stdout",
     "output_type": "stream",
     "text": [
      "*************Dataframe of LW values*************\n"
     ]
    },
    {
     "data": {
      "text/html": [
       "<div>\n",
       "<style scoped>\n",
       "    .dataframe tbody tr th:only-of-type {\n",
       "        vertical-align: middle;\n",
       "    }\n",
       "\n",
       "    .dataframe tbody tr th {\n",
       "        vertical-align: top;\n",
       "    }\n",
       "\n",
       "    .dataframe thead th {\n",
       "        text-align: right;\n",
       "    }\n",
       "</style>\n",
       "<table border=\"1\" class=\"dataframe\">\n",
       "  <thead>\n",
       "    <tr style=\"text-align: right;\">\n",
       "      <th></th>\n",
       "      <th>9mile</th>\n",
       "      <th>boot</th>\n",
       "      <th>cbdock</th>\n",
       "      <th>cbr</th>\n",
       "      <th>greenpepper</th>\n",
       "      <th>scoter</th>\n",
       "      <th>yf17</th>\n",
       "      <th>yf20</th>\n",
       "      <th>wavelengths</th>\n",
       "    </tr>\n",
       "  </thead>\n",
       "  <tbody>\n",
       "    <tr>\n",
       "      <th>0</th>\n",
       "      <td>0.003762</td>\n",
       "      <td>-0.006005</td>\n",
       "      <td>-0.011381</td>\n",
       "      <td>0.006666</td>\n",
       "      <td>-0.023372</td>\n",
       "      <td>-0.004772</td>\n",
       "      <td>-0.005489</td>\n",
       "      <td>-0.039604</td>\n",
       "      <td>350</td>\n",
       "    </tr>\n",
       "    <tr>\n",
       "      <th>1</th>\n",
       "      <td>0.003990</td>\n",
       "      <td>-0.006083</td>\n",
       "      <td>-0.012384</td>\n",
       "      <td>0.007134</td>\n",
       "      <td>-0.023058</td>\n",
       "      <td>-0.004665</td>\n",
       "      <td>-0.005206</td>\n",
       "      <td>-0.039463</td>\n",
       "      <td>351</td>\n",
       "    </tr>\n",
       "    <tr>\n",
       "      <th>2</th>\n",
       "      <td>0.003794</td>\n",
       "      <td>-0.005868</td>\n",
       "      <td>-0.012036</td>\n",
       "      <td>0.006899</td>\n",
       "      <td>-0.023045</td>\n",
       "      <td>-0.004575</td>\n",
       "      <td>-0.005130</td>\n",
       "      <td>-0.039169</td>\n",
       "      <td>352</td>\n",
       "    </tr>\n",
       "    <tr>\n",
       "      <th>3</th>\n",
       "      <td>0.004002</td>\n",
       "      <td>-0.005976</td>\n",
       "      <td>-0.012387</td>\n",
       "      <td>0.006719</td>\n",
       "      <td>-0.022553</td>\n",
       "      <td>-0.004322</td>\n",
       "      <td>-0.004909</td>\n",
       "      <td>-0.038893</td>\n",
       "      <td>353</td>\n",
       "    </tr>\n",
       "    <tr>\n",
       "      <th>4</th>\n",
       "      <td>0.004226</td>\n",
       "      <td>-0.005984</td>\n",
       "      <td>-0.012449</td>\n",
       "      <td>0.006670</td>\n",
       "      <td>-0.022106</td>\n",
       "      <td>-0.004105</td>\n",
       "      <td>-0.004595</td>\n",
       "      <td>-0.038607</td>\n",
       "      <td>354</td>\n",
       "    </tr>\n",
       "    <tr>\n",
       "      <th>5</th>\n",
       "      <td>0.004198</td>\n",
       "      <td>-0.005702</td>\n",
       "      <td>-0.011606</td>\n",
       "      <td>0.006718</td>\n",
       "      <td>-0.022019</td>\n",
       "      <td>-0.004017</td>\n",
       "      <td>-0.004283</td>\n",
       "      <td>-0.038260</td>\n",
       "      <td>355</td>\n",
       "    </tr>\n",
       "    <tr>\n",
       "      <th>6</th>\n",
       "      <td>0.004421</td>\n",
       "      <td>-0.005813</td>\n",
       "      <td>-0.011147</td>\n",
       "      <td>0.006916</td>\n",
       "      <td>-0.021672</td>\n",
       "      <td>-0.003793</td>\n",
       "      <td>-0.003972</td>\n",
       "      <td>-0.037813</td>\n",
       "      <td>356</td>\n",
       "    </tr>\n",
       "    <tr>\n",
       "      <th>7</th>\n",
       "      <td>0.004370</td>\n",
       "      <td>-0.005807</td>\n",
       "      <td>-0.011066</td>\n",
       "      <td>0.006774</td>\n",
       "      <td>-0.021342</td>\n",
       "      <td>-0.003706</td>\n",
       "      <td>-0.003800</td>\n",
       "      <td>-0.037477</td>\n",
       "      <td>357</td>\n",
       "    </tr>\n",
       "    <tr>\n",
       "      <th>8</th>\n",
       "      <td>0.004315</td>\n",
       "      <td>-0.005729</td>\n",
       "      <td>-0.011238</td>\n",
       "      <td>0.006666</td>\n",
       "      <td>-0.021058</td>\n",
       "      <td>-0.003619</td>\n",
       "      <td>-0.003672</td>\n",
       "      <td>-0.037152</td>\n",
       "      <td>358</td>\n",
       "    </tr>\n",
       "    <tr>\n",
       "      <th>9</th>\n",
       "      <td>0.004541</td>\n",
       "      <td>-0.005713</td>\n",
       "      <td>-0.011361</td>\n",
       "      <td>0.006935</td>\n",
       "      <td>-0.020784</td>\n",
       "      <td>-0.003399</td>\n",
       "      <td>-0.003479</td>\n",
       "      <td>-0.036705</td>\n",
       "      <td>359</td>\n",
       "    </tr>\n",
       "  </tbody>\n",
       "</table>\n",
       "</div>"
      ],
      "text/plain": [
       "      9mile      boot    cbdock       cbr  greenpepper    scoter      yf17  \\\n",
       "0  0.003762 -0.006005 -0.011381  0.006666    -0.023372 -0.004772 -0.005489   \n",
       "1  0.003990 -0.006083 -0.012384  0.007134    -0.023058 -0.004665 -0.005206   \n",
       "2  0.003794 -0.005868 -0.012036  0.006899    -0.023045 -0.004575 -0.005130   \n",
       "3  0.004002 -0.005976 -0.012387  0.006719    -0.022553 -0.004322 -0.004909   \n",
       "4  0.004226 -0.005984 -0.012449  0.006670    -0.022106 -0.004105 -0.004595   \n",
       "5  0.004198 -0.005702 -0.011606  0.006718    -0.022019 -0.004017 -0.004283   \n",
       "6  0.004421 -0.005813 -0.011147  0.006916    -0.021672 -0.003793 -0.003972   \n",
       "7  0.004370 -0.005807 -0.011066  0.006774    -0.021342 -0.003706 -0.003800   \n",
       "8  0.004315 -0.005729 -0.011238  0.006666    -0.021058 -0.003619 -0.003672   \n",
       "9  0.004541 -0.005713 -0.011361  0.006935    -0.020784 -0.003399 -0.003479   \n",
       "\n",
       "       yf20  wavelengths  \n",
       "0 -0.039604          350  \n",
       "1 -0.039463          351  \n",
       "2 -0.039169          352  \n",
       "3 -0.038893          353  \n",
       "4 -0.038607          354  \n",
       "5 -0.038260          355  \n",
       "6 -0.037813          356  \n",
       "7 -0.037477          357  \n",
       "8 -0.037152          358  \n",
       "9 -0.036705          359  "
      ]
     },
     "execution_count": 48,
     "metadata": {},
     "output_type": "execute_result"
    }
   ],
   "source": [
    "lw = calculateLW(done)\n",
    "lw = pd.DataFrame.from_dict(lw)\n",
    "wavelengths = done[\"wavelength\"].unique().tolist()\n",
    "lw[\"wavelengths\"] = wavelengths\n",
    "print('*************Dataframe of LW values*************')\n",
    "lw.head(10)"
   ]
  },
  {
   "cell_type": "code",
   "execution_count": 49,
   "metadata": {},
   "outputs": [
    {
     "name": "stdout",
     "output_type": "stream",
     "text": [
      "number of negative values: 10647\n",
      "number of positive values: 6561\n"
     ]
    }
   ],
   "source": [
    "lw_values = (done['lsw'] - (done['lsky'] * 0.025))\n",
    "print('number of negative values:', sum(1 for number in lw_values if number < 0))\n",
    "print('number of positive values:', sum(1 for number in lw_values if number > 0))"
   ]
  },
  {
   "cell_type": "markdown",
   "metadata": {},
   "source": [
    "### Calculate Remote Sensing Reflectance"
   ]
  },
  {
   "cell_type": "markdown",
   "metadata": {},
   "source": [
    "Downwelling irrandiance ($E_d(\\lambda)$) is calculated as: \n",
    "\n",
    "$R_{rs}(\\lambda) = \\frac{L_w(\\lambda)}{E_d(\\lambda)}$  \n",
    "\n",
    "where: \n",
    "\n",
    "- $R_{rs}$ = remote sensing reflectance \n",
    "- $E_d(\\lambda)$ = downwelling irradiance   \n",
    "- $L_{w}(\\lambda)$ = water-leaving radiance  "
   ]
  },
  {
   "cell_type": "code",
   "execution_count": 50,
   "metadata": {},
   "outputs": [],
   "source": [
    "def calculateRRS(df1, df2):\n",
    "    calcs = {}\n",
    "    lakes = list(df1['lake_name'].unique())\n",
    "    for lake in lakes:\n",
    "        eds = df1[df1[\"lake_name\"] == lake]\n",
    "        rrs = np.array(df2[lake]) / np.array(eds['ed'])\n",
    "        calcs[lake]=rrs\n",
    "    return calcs \n",
    "# add back in as a new column to the dataframe"
   ]
  },
  {
   "cell_type": "code",
   "execution_count": 52,
   "metadata": {},
   "outputs": [
    {
     "name": "stdout",
     "output_type": "stream",
     "text": [
      "*************Dataframe of RRS values*************\n"
     ]
    },
    {
     "data": {
      "text/html": [
       "<div>\n",
       "<style scoped>\n",
       "    .dataframe tbody tr th:only-of-type {\n",
       "        vertical-align: middle;\n",
       "    }\n",
       "\n",
       "    .dataframe tbody tr th {\n",
       "        vertical-align: top;\n",
       "    }\n",
       "\n",
       "    .dataframe thead th {\n",
       "        text-align: right;\n",
       "    }\n",
       "</style>\n",
       "<table border=\"1\" class=\"dataframe\">\n",
       "  <thead>\n",
       "    <tr style=\"text-align: right;\">\n",
       "      <th></th>\n",
       "      <th>9mile</th>\n",
       "      <th>boot</th>\n",
       "      <th>cbdock</th>\n",
       "      <th>cbr</th>\n",
       "      <th>greenpepper</th>\n",
       "      <th>scoter</th>\n",
       "      <th>yf17</th>\n",
       "      <th>yf20</th>\n",
       "      <th>wavelength</th>\n",
       "    </tr>\n",
       "  </thead>\n",
       "  <tbody>\n",
       "    <tr>\n",
       "      <th>0</th>\n",
       "      <td>0.001887</td>\n",
       "      <td>-0.002037</td>\n",
       "      <td>-0.003578</td>\n",
       "      <td>0.002241</td>\n",
       "      <td>-0.007639</td>\n",
       "      <td>-0.001988</td>\n",
       "      <td>-0.001571</td>\n",
       "      <td>-0.015817</td>\n",
       "      <td>350</td>\n",
       "    </tr>\n",
       "    <tr>\n",
       "      <th>1</th>\n",
       "      <td>0.002004</td>\n",
       "      <td>-0.002065</td>\n",
       "      <td>-0.003893</td>\n",
       "      <td>0.002398</td>\n",
       "      <td>-0.007543</td>\n",
       "      <td>-0.001946</td>\n",
       "      <td>-0.001489</td>\n",
       "      <td>-0.015767</td>\n",
       "      <td>351</td>\n",
       "    </tr>\n",
       "    <tr>\n",
       "      <th>2</th>\n",
       "      <td>0.001909</td>\n",
       "      <td>-0.001992</td>\n",
       "      <td>-0.003784</td>\n",
       "      <td>0.002319</td>\n",
       "      <td>-0.007541</td>\n",
       "      <td>-0.001911</td>\n",
       "      <td>-0.001467</td>\n",
       "      <td>-0.015661</td>\n",
       "      <td>352</td>\n",
       "    </tr>\n",
       "    <tr>\n",
       "      <th>3</th>\n",
       "      <td>0.002016</td>\n",
       "      <td>-0.002029</td>\n",
       "      <td>-0.003895</td>\n",
       "      <td>0.002258</td>\n",
       "      <td>-0.007384</td>\n",
       "      <td>-0.001807</td>\n",
       "      <td>-0.001402</td>\n",
       "      <td>-0.015559</td>\n",
       "      <td>353</td>\n",
       "    </tr>\n",
       "    <tr>\n",
       "      <th>4</th>\n",
       "      <td>0.002132</td>\n",
       "      <td>-0.002033</td>\n",
       "      <td>-0.003915</td>\n",
       "      <td>0.002241</td>\n",
       "      <td>-0.007241</td>\n",
       "      <td>-0.001718</td>\n",
       "      <td>-0.001311</td>\n",
       "      <td>-0.015452</td>\n",
       "      <td>354</td>\n",
       "    </tr>\n",
       "    <tr>\n",
       "      <th>5</th>\n",
       "      <td>0.002121</td>\n",
       "      <td>-0.001937</td>\n",
       "      <td>-0.003650</td>\n",
       "      <td>0.002257</td>\n",
       "      <td>-0.007216</td>\n",
       "      <td>-0.001683</td>\n",
       "      <td>-0.001222</td>\n",
       "      <td>-0.015318</td>\n",
       "      <td>355</td>\n",
       "    </tr>\n",
       "    <tr>\n",
       "      <th>6</th>\n",
       "      <td>0.002236</td>\n",
       "      <td>-0.001976</td>\n",
       "      <td>-0.003505</td>\n",
       "      <td>0.002324</td>\n",
       "      <td>-0.007106</td>\n",
       "      <td>-0.001591</td>\n",
       "      <td>-0.001132</td>\n",
       "      <td>-0.015147</td>\n",
       "      <td>356</td>\n",
       "    </tr>\n",
       "    <tr>\n",
       "      <th>7</th>\n",
       "      <td>0.002213</td>\n",
       "      <td>-0.001975</td>\n",
       "      <td>-0.003480</td>\n",
       "      <td>0.002276</td>\n",
       "      <td>-0.007003</td>\n",
       "      <td>-0.001556</td>\n",
       "      <td>-0.001082</td>\n",
       "      <td>-0.015020</td>\n",
       "      <td>357</td>\n",
       "    </tr>\n",
       "    <tr>\n",
       "      <th>8</th>\n",
       "      <td>0.002189</td>\n",
       "      <td>-0.001949</td>\n",
       "      <td>-0.003535</td>\n",
       "      <td>0.002239</td>\n",
       "      <td>-0.006914</td>\n",
       "      <td>-0.001522</td>\n",
       "      <td>-0.001044</td>\n",
       "      <td>-0.014896</td>\n",
       "      <td>358</td>\n",
       "    </tr>\n",
       "    <tr>\n",
       "      <th>9</th>\n",
       "      <td>0.002306</td>\n",
       "      <td>-0.001944</td>\n",
       "      <td>-0.003574</td>\n",
       "      <td>0.002329</td>\n",
       "      <td>-0.006828</td>\n",
       "      <td>-0.001431</td>\n",
       "      <td>-0.000989</td>\n",
       "      <td>-0.014724</td>\n",
       "      <td>359</td>\n",
       "    </tr>\n",
       "  </tbody>\n",
       "</table>\n",
       "</div>"
      ],
      "text/plain": [
       "      9mile      boot    cbdock       cbr  greenpepper    scoter      yf17  \\\n",
       "0  0.001887 -0.002037 -0.003578  0.002241    -0.007639 -0.001988 -0.001571   \n",
       "1  0.002004 -0.002065 -0.003893  0.002398    -0.007543 -0.001946 -0.001489   \n",
       "2  0.001909 -0.001992 -0.003784  0.002319    -0.007541 -0.001911 -0.001467   \n",
       "3  0.002016 -0.002029 -0.003895  0.002258    -0.007384 -0.001807 -0.001402   \n",
       "4  0.002132 -0.002033 -0.003915  0.002241    -0.007241 -0.001718 -0.001311   \n",
       "5  0.002121 -0.001937 -0.003650  0.002257    -0.007216 -0.001683 -0.001222   \n",
       "6  0.002236 -0.001976 -0.003505  0.002324    -0.007106 -0.001591 -0.001132   \n",
       "7  0.002213 -0.001975 -0.003480  0.002276    -0.007003 -0.001556 -0.001082   \n",
       "8  0.002189 -0.001949 -0.003535  0.002239    -0.006914 -0.001522 -0.001044   \n",
       "9  0.002306 -0.001944 -0.003574  0.002329    -0.006828 -0.001431 -0.000989   \n",
       "\n",
       "       yf20  wavelength  \n",
       "0 -0.015817         350  \n",
       "1 -0.015767         351  \n",
       "2 -0.015661         352  \n",
       "3 -0.015559         353  \n",
       "4 -0.015452         354  \n",
       "5 -0.015318         355  \n",
       "6 -0.015147         356  \n",
       "7 -0.015020         357  \n",
       "8 -0.014896         358  \n",
       "9 -0.014724         359  "
      ]
     },
     "execution_count": 52,
     "metadata": {},
     "output_type": "execute_result"
    }
   ],
   "source": [
    "rrs = calculateRRS(done, lw)\n",
    "rrs = pd.DataFrame.from_dict(rrs)\n",
    "rrs['wavelength']= wavelengths\n",
    "print('*************Dataframe of RRS values*************')\n",
    "rrs.head(10)"
   ]
  },
  {
   "cell_type": "markdown",
   "metadata": {},
   "source": [
    "## Combine All Data Together"
   ]
  },
  {
   "cell_type": "markdown",
   "metadata": {},
   "source": [
    "#### Make data from of lw and rrs"
   ]
  },
  {
   "cell_type": "code",
   "execution_count": 53,
   "metadata": {},
   "outputs": [
    {
     "name": "stdout",
     "output_type": "stream",
     "text": [
      "*************Dataframe of RRS values*************\n",
      "2151\n",
      "['yf20']\n"
     ]
    },
    {
     "data": {
      "text/html": [
       "<div>\n",
       "<style scoped>\n",
       "    .dataframe tbody tr th:only-of-type {\n",
       "        vertical-align: middle;\n",
       "    }\n",
       "\n",
       "    .dataframe tbody tr th {\n",
       "        vertical-align: top;\n",
       "    }\n",
       "\n",
       "    .dataframe thead th {\n",
       "        text-align: right;\n",
       "    }\n",
       "</style>\n",
       "<table border=\"1\" class=\"dataframe\">\n",
       "  <thead>\n",
       "    <tr style=\"text-align: right;\">\n",
       "      <th></th>\n",
       "      <th>rrs</th>\n",
       "      <th>lw</th>\n",
       "      <th>lake_name</th>\n",
       "      <th>wavelength</th>\n",
       "    </tr>\n",
       "  </thead>\n",
       "  <tbody>\n",
       "    <tr>\n",
       "      <th>0</th>\n",
       "      <td>-0.015817</td>\n",
       "      <td>-0.039604</td>\n",
       "      <td>yf20</td>\n",
       "      <td>350</td>\n",
       "    </tr>\n",
       "    <tr>\n",
       "      <th>1</th>\n",
       "      <td>-0.015767</td>\n",
       "      <td>-0.039463</td>\n",
       "      <td>yf20</td>\n",
       "      <td>351</td>\n",
       "    </tr>\n",
       "  </tbody>\n",
       "</table>\n",
       "</div>"
      ],
      "text/plain": [
       "        rrs        lw lake_name  wavelength\n",
       "0 -0.015817 -0.039604      yf20         350\n",
       "1 -0.015767 -0.039463      yf20         351"
      ]
     },
     "execution_count": 53,
     "metadata": {},
     "output_type": "execute_result"
    }
   ],
   "source": [
    "def appendNewData(df):\n",
    "    calcs = {}\n",
    "    for lake in lakes:\n",
    "        df = done[done['lake_name']==lake]\n",
    "        calcs['rrs']=rrs[lake]\n",
    "        calcs['lw'] = lw[lake]\n",
    "        calcs['lake_name'] = lake\n",
    "    return calcs \n",
    "\n",
    "allNewData = appendNewData(done)\n",
    "\n",
    "done2 = pd.DataFrame.from_dict(allNewData)\n",
    "done2['wavelength']= wavelengths\n",
    "print('*************Dataframe of RRS values*************')\n",
    "print(len(done2))\n",
    "print(done2['lake_name'].unique())\n",
    "done2.head(2)"
   ]
  },
  {
   "cell_type": "markdown",
   "metadata": {},
   "source": [
    "#### Join back to original df"
   ]
  },
  {
   "cell_type": "code",
   "execution_count": 54,
   "metadata": {},
   "outputs": [
    {
     "data": {
      "text/html": [
       "<div>\n",
       "<style scoped>\n",
       "    .dataframe tbody tr th:only-of-type {\n",
       "        vertical-align: middle;\n",
       "    }\n",
       "\n",
       "    .dataframe tbody tr th {\n",
       "        vertical-align: top;\n",
       "    }\n",
       "\n",
       "    .dataframe thead th {\n",
       "        text-align: right;\n",
       "    }\n",
       "</style>\n",
       "<table border=\"1\" class=\"dataframe\">\n",
       "  <thead>\n",
       "    <tr style=\"text-align: right;\">\n",
       "      <th></th>\n",
       "      <th>ed</th>\n",
       "      <th>lake_name</th>\n",
       "      <th>lref</th>\n",
       "      <th>lsky</th>\n",
       "      <th>lsw</th>\n",
       "      <th>wavelength</th>\n",
       "      <th>rrs</th>\n",
       "      <th>lw</th>\n",
       "    </tr>\n",
       "  </thead>\n",
       "  <tbody>\n",
       "    <tr>\n",
       "      <th>0</th>\n",
       "      <td>1.993682</td>\n",
       "      <td>9mile</td>\n",
       "      <td>0.634609</td>\n",
       "      <td>1.663184</td>\n",
       "      <td>0.046339</td>\n",
       "      <td>350</td>\n",
       "      <td>NaN</td>\n",
       "      <td>NaN</td>\n",
       "    </tr>\n",
       "    <tr>\n",
       "      <th>1</th>\n",
       "      <td>1.991035</td>\n",
       "      <td>9mile</td>\n",
       "      <td>0.633766</td>\n",
       "      <td>1.654474</td>\n",
       "      <td>0.046344</td>\n",
       "      <td>351</td>\n",
       "      <td>NaN</td>\n",
       "      <td>NaN</td>\n",
       "    </tr>\n",
       "    <tr>\n",
       "      <th>2</th>\n",
       "      <td>1.987809</td>\n",
       "      <td>9mile</td>\n",
       "      <td>0.632739</td>\n",
       "      <td>1.646593</td>\n",
       "      <td>0.045947</td>\n",
       "      <td>352</td>\n",
       "      <td>NaN</td>\n",
       "      <td>NaN</td>\n",
       "    </tr>\n",
       "    <tr>\n",
       "      <th>3</th>\n",
       "      <td>1.985196</td>\n",
       "      <td>9mile</td>\n",
       "      <td>0.631908</td>\n",
       "      <td>1.638355</td>\n",
       "      <td>0.045944</td>\n",
       "      <td>353</td>\n",
       "      <td>NaN</td>\n",
       "      <td>NaN</td>\n",
       "    </tr>\n",
       "    <tr>\n",
       "      <th>4</th>\n",
       "      <td>1.982534</td>\n",
       "      <td>9mile</td>\n",
       "      <td>0.631060</td>\n",
       "      <td>1.630276</td>\n",
       "      <td>0.045961</td>\n",
       "      <td>354</td>\n",
       "      <td>NaN</td>\n",
       "      <td>NaN</td>\n",
       "    </tr>\n",
       "  </tbody>\n",
       "</table>\n",
       "</div>"
      ],
      "text/plain": [
       "         ed lake_name      lref      lsky       lsw  wavelength  rrs  lw\n",
       "0  1.993682     9mile  0.634609  1.663184  0.046339         350  NaN NaN\n",
       "1  1.991035     9mile  0.633766  1.654474  0.046344         351  NaN NaN\n",
       "2  1.987809     9mile  0.632739  1.646593  0.045947         352  NaN NaN\n",
       "3  1.985196     9mile  0.631908  1.638355  0.045944         353  NaN NaN\n",
       "4  1.982534     9mile  0.631060  1.630276  0.045961         354  NaN NaN"
      ]
     },
     "execution_count": 54,
     "metadata": {},
     "output_type": "execute_result"
    }
   ],
   "source": [
    "mergedData = pd.merge(done, done2,  how='left', left_on=['lake_name','wavelength'], right_on = ['lake_name','wavelength'])\n",
    "mergedData.head()"
   ]
  },
  {
   "cell_type": "markdown",
   "metadata": {},
   "source": [
    "## Visualize New Rrs Data\n",
    "\n",
    "No bueno. These are mostly negative"
   ]
  },
  {
   "cell_type": "code",
   "execution_count": 55,
   "metadata": {},
   "outputs": [
    {
     "data": {
      "text/plain": [
       "(350, 900)"
      ]
     },
     "execution_count": 55,
     "metadata": {},
     "output_type": "execute_result"
    },
    {
     "data": {
      "image/png": "[encoded data removed]",
      "text/plain": [
       "<matplotlib.figure.Figure at 0x10ea46a58>"
      ]
     },
     "metadata": {},
     "output_type": "display_data"
    }
   ],
   "source": [
    "x = np.array(wavelengths)\n",
    "sns.lineplot(x, y = 'boot', data = rrs, markers = True,  label = 'boot',color= '#956cb4', legend = False)\n",
    "sns.lineplot(x, y = '9mile', data = rrs, markers = True, label = '9mile', color='#6acc64', legend = False)\n",
    "sns.lineplot(x, y = 'cbr', data = rrs, markers = True, label = 'cbr', color='#8c613c' , legend = False)\n",
    "sns.lineplot(x, y = 'scoter', data = rrs, markers = True, label = 'scoter',color='#dc7ec0', legend = False)\n",
    "sns.lineplot(x, y = 'greenpepper', data = rrs, markers = True,  label = 'greenpepper', color='#d65f5f', legend = False)\n",
    "sns.lineplot(x, y = 'yf17', data = rrs, markers = True, label = 'yf17', color='#4878d0', legend = False)\n",
    "sns.lineplot(x, y = 'yf20', data = rrs, markers = True, label = 'yf20', color='#ee854a', legend = False)\n",
    "\n",
    "plt.xlabel('Wavelength (nm)')\n",
    "plt.ylabel('ASD Remote Sensing Reflectance')\n",
    "plt.axvline(x=560, color= 'grey', linestyle = '--')\n",
    "plt.axvline(x=700, color= 'grey', linestyle = '--')\n",
    "plt.savefig('ASD_all_lakes_rrs.png', dpi= 300)\n",
    "plt.legend()\n",
    "plt.ylim(-0.03,0.03)\n",
    "plt.xlim(350, 900)"
   ]
  },
  {
   "cell_type": "markdown",
   "metadata": {},
   "source": [
    "### Water-leaving radiance (${L_w}$)"
   ]
  },
  {
   "cell_type": "code",
   "execution_count": 59,
   "metadata": {},
   "outputs": [
    {
     "data": {
      "text/plain": [
       "(350, 900)"
      ]
     },
     "execution_count": 59,
     "metadata": {},
     "output_type": "execute_result"
    },
    {
     "data": {
      "image/png": "[encoded data removed]",
      "text/plain": [
       "<matplotlib.figure.Figure at 0x10ea7c400>"
      ]
     },
     "metadata": {},
     "output_type": "display_data"
    }
   ],
   "source": [
    "x = np.array(wavelengths)\n",
    "sns.lineplot(x, y = 'boot', data = lw, markers = True,  label = 'boot',color= '#956cb4', legend = False)\n",
    "sns.lineplot(x, y = '9mile', data = lw, markers = True, label = '9mile', color='#6acc64', legend = False)\n",
    "sns.lineplot(x, y = 'cbr', data = lw, markers = True, label = 'cbr', color='#8c613c' , legend = False)\n",
    "sns.lineplot(x, y = 'scoter', data = lw, markers = True, label = 'scoter',color='#dc7ec0', legend = False)\n",
    "sns.lineplot(x, y = 'greenpepper', data = lw, markers = True,  label = 'greenpepper', color='#d65f5f', legend = False)\n",
    "sns.lineplot(x, y = 'yf17', data = lw, markers = True, label = 'yf17', color='#4878d0', legend = False)\n",
    "sns.lineplot(x, y = 'yf20', data = lw, markers = True, label = 'yf20', color='#ee854a', legend = False)\n",
    "\n",
    "plt.xlabel('Wavelength (nm)')\n",
    "plt.ylabel('ASD LW')\n",
    "plt.axvline(x=560, color= 'grey', linestyle = '--')\n",
    "plt.axvline(x=700, color= 'grey', linestyle = '--')\n",
    "#plt.savefig('ASD_all_lakes_lw.png', dpi= 300)\n",
    "plt.legend()\n",
    "plt.ylim(-0.1,0.15)\n",
    "plt.xlim(350, 900)"
   ]
  },
  {
   "cell_type": "code",
   "execution_count": 60,
   "metadata": {
    "collapsed": true
   },
   "outputs": [],
   "source": [
    "yf20 = done.loc[done[\"lake_name\"]=='yf20']\n",
    "yf17 = done.loc[done[\"lake_name\"]=='yf17']\n",
    "cbr = done.loc[done[\"lake_name\"]=='cbr']\n",
    "mile = done.loc[done[\"lake_name\"]=='9mile']\n",
    "green = done.loc[done[\"lake_name\"]=='greenpepper']\n",
    "scoter = done.loc[done[\"lake_name\"]=='scoter']\n",
    "boot = done.loc[done[\"lake_name\"]=='boot']"
   ]
  },
  {
   "cell_type": "markdown",
   "metadata": {},
   "source": [
    "### Downwelling irradiance (${E_d}$)"
   ]
  },
  {
   "cell_type": "code",
   "execution_count": 61,
   "metadata": {},
   "outputs": [
    {
     "data": {
      "text/plain": [
       "(350, 900)"
      ]
     },
     "execution_count": 61,
     "metadata": {},
     "output_type": "execute_result"
    },
    {
     "data": {
      "image/png": "[encoded data removed]",
      "text/plain": [
       "<matplotlib.figure.Figure at 0x112f302e8>"
      ]
     },
     "metadata": {},
     "output_type": "display_data"
    }
   ],
   "source": [
    "x = np.array(wavelengths)\n",
    "sns.lineplot(x, y = 'ed', data = boot, markers = True,  label = 'boot',color= '#956cb4', legend = False)\n",
    "sns.lineplot(x, y = 'ed', data = mile, markers = True, label = '9mile', color='#6acc64', legend = False)\n",
    "sns.lineplot(x, y = 'ed', data = cbr, markers = True, label = 'cbr', color='#8c613c' , legend = False)\n",
    "sns.lineplot(x, y = 'ed', data = scoter, markers = True, label = 'scoter',color='#dc7ec0', legend = False)\n",
    "sns.lineplot(x, y = 'ed', data = green, markers = True,  label = 'greenpepper', color='#d65f5f', legend = False)\n",
    "sns.lineplot(x, y = 'ed', data = yf17, markers = True, label = 'yf17', color='#4878d0', legend = False)\n",
    "sns.lineplot(x, y = 'ed', data = yf20, markers = True, label = 'yf20', color='#ee854a', legend = False)\n",
    "\n",
    "plt.xlabel('Wavelength (nm)')\n",
    "plt.ylabel('ASD ED')\n",
    "plt.axvline(x=560, color= 'grey', linestyle = '--')\n",
    "plt.axvline(x=700, color= 'grey', linestyle = '--')\n",
    "#plt.savefig('ASD_all_lakes_ed.png', dpi= 300)\n",
    "plt.legend()\n",
    "plt.ylim(1.5,4.5)\n",
    "plt.xlim(350, 900)"
   ]
  },
  {
   "cell_type": "markdown",
   "metadata": {},
   "source": [
    "### Reference measurement ($L_{ref}$)"
   ]
  },
  {
   "cell_type": "code",
   "execution_count": null,
   "metadata": {},
   "outputs": [],
   "source": [
    "x = np.array(wavelengths)\n",
    "sns.lineplot(x, y = 'lref', data = boot, markers = True,  label = 'boot',color= '#956cb4', legend = False)\n",
    "sns.lineplot(x, y = 'lref', data = mile, markers = True, label = '9mile', color='#6acc64', legend = False)\n",
    "sns.lineplot(x, y = 'lref', data = cbr, markers = True, label = 'cbr', color='#8c613c' , legend = False)\n",
    "sns.lineplot(x, y = 'lref', data = scoter, markers = True, label = 'scoter',color='#dc7ec0', legend = False)\n",
    "sns.lineplot(x, y = 'lref', data = green, markers = True,  label = 'greenpepper', color='#d65f5f', legend = False)\n",
    "sns.lineplot(x, y = 'lref', data = yf17, markers = True, label = 'yf17', color='#4878d0', legend = False)\n",
    "sns.lineplot(x, y = 'lref', data = yf20, markers = True, label = 'yf20', color='#ee854a', legend = False)\n",
    "\n",
    "plt.xlabel('Wavelength (nm)')\n",
    "plt.ylabel('ASD Lref')\n",
    "plt.axvline(x=560, color= 'grey', linestyle = '--')\n",
    "plt.axvline(x=700, color= 'grey', linestyle = '--')\n",
    "#plt.savefig('ASD_all_lakes_lref.png', dpi= 300)\n",
    "plt.legend()\n",
    "plt.ylim(0,2)\n",
    "plt.xlim(350, 900)"
   ]
  },
  {
   "cell_type": "markdown",
   "metadata": {},
   "source": [
    "### Reference measurement ($L_{sky}$)"
   ]
  },
  {
   "cell_type": "code",
   "execution_count": 63,
   "metadata": {},
   "outputs": [
    {
     "data": {
      "text/plain": [
       "(350, 900)"
      ]
     },
     "execution_count": 63,
     "metadata": {},
     "output_type": "execute_result"
    },
    {
     "data": {
      "image/png": "[encoded data removed]",
      "text/plain": [
       "<matplotlib.figure.Figure at 0x1139f71d0>"
      ]
     },
     "metadata": {},
     "output_type": "display_data"
    }
   ],
   "source": [
    "x = np.array(wavelengths)\n",
    "sns.lineplot(x, y = 'lsky', data = boot, markers = True,  label = 'boot',color= '#956cb4', legend = False)\n",
    "sns.lineplot(x, y = 'lsky', data = mile, markers = True, label = '9mile', color='#6acc64', legend = False)\n",
    "sns.lineplot(x, y = 'lsky', data = cbr, markers = True, label = 'cbr', color='#8c613c' , legend = False)\n",
    "sns.lineplot(x, y = 'lsky', data = scoter, markers = True, label = 'scoter',color='#dc7ec0', legend = False)\n",
    "sns.lineplot(x, y = 'lsky', data = green, markers = True,  label = 'greenpepper', color='#d65f5f', legend = False)\n",
    "sns.lineplot(x, y = 'lsky', data = yf17, markers = True, label = 'yf17', color='#4878d0', legend = False)\n",
    "sns.lineplot(x, y = 'lsky', data = yf20, markers = True, label = 'yf20', color='#ee854a', legend = False)\n",
    "\n",
    "plt.xlabel('Wavelength (nm)')\n",
    "plt.ylabel('ASD Lsky')\n",
    "plt.axvline(x=560, color= 'grey', linestyle = '--')\n",
    "plt.axvline(x=700, color= 'grey', linestyle = '--')\n",
    "#plt.savefig('ASD_all_lakes_lsky.png', dpi= 300)\n",
    "plt.legend()\n",
    "plt.ylim(0,2)\n",
    "plt.xlim(350, 900)"
   ]
  },
  {
   "cell_type": "markdown",
   "metadata": {},
   "source": [
    "### Above water total radiance measurement ($L_{sw}$)"
   ]
  },
  {
   "cell_type": "code",
   "execution_count": 69,
   "metadata": {},
   "outputs": [
    {
     "data": {
      "text/plain": [
       "(350, 900)"
      ]
     },
     "execution_count": 69,
     "metadata": {},
     "output_type": "execute_result"
    },
    {
     "data": {
      "image/png": "[encoded data removed]",
      "text/plain": [
       "<matplotlib.figure.Figure at 0x1a1902fc18>"
      ]
     },
     "metadata": {},
     "output_type": "display_data"
    }
   ],
   "source": [
    "x = np.array(wavelengths)\n",
    "sns.lineplot(x, y = 'lsw', data = boot, markers = True,  label = 'boot',color= '#956cb4', legend = False)\n",
    "sns.lineplot(x, y = 'lsw', data = mile, markers = True, label = '9mile', color='#6acc64', legend = False)\n",
    "sns.lineplot(x, y = 'lsw', data = cbr, markers = True, label = 'cbr', color='#8c613c' , legend = False)\n",
    "sns.lineplot(x, y = 'lsw', data = scoter, markers = True, label = 'scoter',color='#dc7ec0', legend = False)\n",
    "sns.lineplot(x, y = 'lsw', data = green, markers = True,  label = 'greenpepper', color='#d65f5f', legend = False)\n",
    "sns.lineplot(x, y = 'lsw', data = yf17, markers = True, label = 'yf17', color='#4878d0', legend = False)\n",
    "sns.lineplot(x, y = 'lsw', data = yf20, markers = True, label = 'yf20', color='#ee854a', legend = False)\n",
    "\n",
    "plt.xlabel('Wavelength (nm)')\n",
    "plt.ylabel('ASD Lsw')\n",
    "plt.axvline(x=560, color= 'grey', linestyle = '--')\n",
    "plt.axvline(x=700, color= 'grey', linestyle = '--')\n",
    "#plt.savefig('ASD_all_lakes_lsw.png', dpi= 300)\n",
    "plt.legend()\n",
    "plt.ylim(0,0.25)\n",
    "plt.xlim(350, 900)"
   ]
  },
  {
   "cell_type": "code",
   "execution_count": null,
   "metadata": {
    "collapsed": true
   },
   "outputs": [],
   "source": [
    "model_inputs = done.groupby('lake_name')['lref', 'lsw', 'lsky'].mean().reset_index()\n",
    "model_inputs['Lsw-Lsky'] = (model_inputs['lsw']- (model_inputs['lsky']*0.0256))\n",
    "model_inputs"
   ]
  }
 ],
 "metadata": {
  "kernelspec": {
   "display_name": "Python [conda env:py36]",
   "language": "python",
   "name": "conda-env-py36-py"
  },
  "language_info": {
   "codemirror_mode": {
    "name": "ipython",
    "version": 3
   },
   "file_extension": ".py",
   "mimetype": "text/x-python",
   "name": "python",
   "nbconvert_exporter": "python",
   "pygments_lexer": "ipython3",
   "version": "3.6.3"
  }
 },
 "nbformat": 4,
 "nbformat_minor": 2
}
