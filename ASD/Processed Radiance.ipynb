{
 "cells": [
  {
   "cell_type": "markdown",
   "metadata": {},
   "source": [
    " ### Last updated: 02/13/19"
   ]
  },
  {
   "cell_type": "code",
   "execution_count": 1,
   "metadata": {},
   "outputs": [],
   "source": [
    "from ASD_Data_Reader import Data_Reader"
   ]
  },
  {
   "cell_type": "code",
   "execution_count": 2,
   "metadata": {},
   "outputs": [
    {
     "data": {
      "text/plain": [
       "'processed_radiance.csv'"
      ]
     },
     "execution_count": 2,
     "metadata": {},
     "output_type": "execute_result"
    }
   ],
   "source": [
    "# initialize the data reader with all lake names\n",
    "data_reader = Data_Reader([\"9mile\", \"bai\", \"boot\", \"cbd\", \"cbdeep\", \"cbjohnboat\", \"cbrJuly16\", \"cbrJuly19\", \"deadreeds\", \"greenpepper\", \"livereeds\", \"macrophytes\", \"pontoon\", \"scoter\", \"scum\", \"washington\", \"yf17\", \"yf20\"])\n",
    "\n",
    "# call the format data function on the data_reader which generates a .csv file\n",
    "data_reader.format_data(\"processed_radiance.csv\")\n"
   ]
  },
  {
   "cell_type": "code",
   "execution_count": null,
   "metadata": {},
   "outputs": [],
   "source": []
  }
 ],
 "metadata": {
  "kernelspec": {
   "display_name": "Python 3",
   "language": "python",
   "name": "python3"
  },
  "language_info": {
   "codemirror_mode": {
    "name": "ipython",
    "version": 3
   },
   "file_extension": ".py",
   "mimetype": "text/x-python",
   "name": "python",
   "nbconvert_exporter": "python",
   "pygments_lexer": "ipython3",
   "version": "3.6.5"
  }
 },
 "nbformat": 4,
 "nbformat_minor": 2
}
