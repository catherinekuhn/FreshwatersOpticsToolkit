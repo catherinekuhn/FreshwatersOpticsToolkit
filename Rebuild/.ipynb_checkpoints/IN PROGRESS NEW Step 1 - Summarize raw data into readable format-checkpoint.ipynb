{
 "cells": [
  {
   "cell_type": "markdown",
   "metadata": {},
   "source": [
    "Steps:\n",
    "- Create metadata file\n",
    "- Initialize the project\n",
    "- convert dat files to csv files\n",
    "- convert csvs to summary files"
   ]
  },
  {
   "cell_type": "code",
   "execution_count": 2,
   "metadata": {},
   "outputs": [],
   "source": [
    "from fopt_toolkit import fopt_toolkit as fp"
   ]
  },
  {
   "cell_type": "markdown",
   "metadata": {},
   "source": [
    "### Create metadata file"
   ]
  },
  {
   "cell_type": "markdown",
   "metadata": {},
   "source": [
    "'Sensor', 'ID', 'Date', 'Site', 'Sample_Type', 'Analysis_Type', 'Rep', 'Temp'"
   ]
  },
  {
   "cell_type": "markdown",
   "metadata": {},
   "source": [
    "ID: name of the raw dat file minus its extension (.dat) to ID the individual sample\n",
    "\n",
    "Sample_Type: \n",
    "- cal (calibration sample, water blank)\n",
    "- fil (filtered sample containing dissolved organic C)\n",
    "- raw (unfiltered sample containing total organic C)\n",
    "\n",
    "Analysis_Type:\n",
    "- a (absorption)\n",
    "- c (attenuation, equaling absorption + backscatter)\n",
    "\n",
    "Temperature:\n",
    "- numeric value in degrees C\n",
    "\n",
    "Other optional valus:\n",
    "- Sensor: name or type of instrument\n",
    "- Date: optional\n",
    "- Site: optional\n",
    "- Rep: optional\n",
    "\n"
   ]
  },
  {
   "cell_type": "code",
   "execution_count": null,
   "metadata": {},
   "outputs": [],
   "source": [
    "raw_data_file_path = \n",
    "\n",
    "basenames = []\n",
    "date = []\n",
    "site = []\n",
    "sample_type = []\n",
    "abs_type = []\n",
    "rep = []\n",
    "temp = []\n",
    "raw_file_path = []\n",
    "\n",
    "\n",
    "file_list = sorted(glob.glob(raw_data_file_path+'/*.dat'))\n",
    "for j in file_list:\n",
    "    basename = j.split('/')[-1].split('.')[0]\n",
    "    ## We are excluding the field measurements of filtered data here because theyw ere not good \n",
    "    if 'field' in basename:\n",
    "        continue\n",
    "    basenames.append(basename)\n",
    "    Sensor, Date, Site, Sample_Type, Abs_Type, Rep, T1, T2= basename.split('_')\n",
    "    T = float(T1.lstrip('T')+'.'+T2)\n",
    "    date.append(str(Date))\n",
    "    site.append(Site)\n",
    "    sample_type.append(Sample_Type)\n",
    "    abs_type.append(Abs_Type)\n",
    "    rep.append(Rep)\n",
    "    temp.append(T)\n",
    "    raw_file_path.append(j)\n",
    "\n",
    "\n",
    "df = pd.DataFrame(\n",
    "    {'Sensor':'AC9',\n",
    "     'ID':basenames,\n",
    "     'Date': date,\n",
    "     'Site': site,\n",
    "     'Sample_Type': sample_type,\n",
    "     'Analysis_Type': abs_type,\n",
    "     'Rep': rep,\n",
    "     'Temperature': temp\n",
    "    })\n",
    "\n",
    "\n",
    "\n",
    "df.to_csv(metadata_original_filepath, sep='\\t',index=False)\n",
    "df2.to_csv(metadata_updated_filepath, sep='\\t',index=False)"
   ]
  }
 ],
 "metadata": {
  "kernelspec": {
   "display_name": "Python 3",
   "language": "python",
   "name": "python3"
  },
  "language_info": {
   "codemirror_mode": {
    "name": "ipython",
    "version": 3
   },
   "file_extension": ".py",
   "mimetype": "text/x-python",
   "name": "python",
   "nbconvert_exporter": "python",
   "pygments_lexer": "ipython3",
   "version": "3.7.4"
  }
 },
 "nbformat": 4,
 "nbformat_minor": 2
}
